{
 "cells": [
  {
   "cell_type": "code",
   "execution_count": 13,
   "id": "3107e38f-79b5-4b05-b50c-8e31142f61a8",
   "metadata": {},
   "outputs": [],
   "source": [
    "import spacy\n",
    "from spacy.tokens import DocBin\n",
    "import numpy as np"
   ]
  },
  {
   "cell_type": "markdown",
   "id": "3564634b-3728-46d3-87fc-9eb00d1a7ae1",
   "metadata": {},
   "source": [
    "## STEPS TO TRAIN THE MODEL WITH CLI\n",
    "1. prepare data in the following format: [(text, label), ...]\n",
    "2. convert data to the DocBin class as shown below\n",
    "3. create base.cfg\n",
    "    1. create base config: \n",
    "        1. manual way: \n",
    "            1. go to https://spacy.io/usage/training#quickstart\n",
    "            2. copy generated config to your base.cfg file at the root of the project\n",
    "        2. automatic https://spacy.io/api/cli#init:\n",
    "            1. `python -m spacy init config base.cfg --lang en --pipeline textcat_multilabel --optimize efficiency --force`\n",
    "    2. manually define in the base.cfg (or specify later with train command): \n",
    "        * train = \"data/train.spacy\" \n",
    "        * dev = \"data/valid.spacy\"\n",
    "4. create a config.cfg file\n",
    "    * in terminal run to automatically create a config file: `python3 -m spacy init fill-config ./base.cfg ./config.cfg`\n",
    "5. train new model and store to the ./output folder.\n",
    "    * run in terminal to train model: `python3 -m spacy train config.cfg --output ./output --paths.train ./data/train.spacy --paths.dev ./data/valid.spacy`\n",
    "6. test trained model and tune if needed by modifying hyperparameters in the config.cfg and repeating step 5."
   ]
  },
  {
   "cell_type": "markdown",
   "id": "819ac1f3-4847-4e1f-9813-8b4313249b80",
   "metadata": {},
   "source": [
    "### 1. DUMMY DATA PREPARATION"
   ]
  },
  {
   "cell_type": "code",
   "execution_count": 7,
   "id": "ea51a576-bf10-4fa6-b732-561c41c40915",
   "metadata": {},
   "outputs": [],
   "source": [
    "! mkdir ./data\n",
    "trainpath = \"./data/train.spacy\"\n",
    "validpath = \"./data/valid.spacy\""
   ]
  },
  {
   "cell_type": "code",
   "execution_count": 8,
   "id": "0775f64b-977a-4ee6-aae3-db9533bb11a3",
   "metadata": {},
   "outputs": [],
   "source": [
    "# define dummy data to test api\n",
    "traindata = [(\"would you please help me\", \"HELP\"), (\"give me some hints\", \"HELP\"), (\"how should I proceed\", \"HELP\"), (\"I don't understand\", \"HELP\"),\n",
    "                (\"yeap\", \"YES\"), (\"ok\", \"YES\"), (\"fine\", \"YES\"), (\"sure\", \"YES\"), (\"perfect\", \"YES\"),\n",
    "                (\"no\", \"NO\"), (\"cancel\", \"NO\"), (\"disagree\", \"NO\")]\n",
    "validdata = [(\"please help\", \"HELP\"), (\"hints\", \"HELP\"), (\"help\", \"HELP\"), (\"I don't get it\", \"HELP\"),\n",
    "                (\"let's do it\", \"YES\"), (\"right\", \"YES\"), (\"well, ok\", \"YES\"), (\"ok, fine\", \"YES\"),\n",
    "                (\"nah\", \"NO\"), (\"I don't want it\", \"NO\"), (\"no no no\", \"NO\"), (\"stop it\", \"NO\")]\n",
    "labels = [\"HELP\", \"YES\", \"NO\"]"
   ]
  },
  {
   "cell_type": "markdown",
   "id": "a281bff3-4937-4559-8159-b4bfb63ce0ba",
   "metadata": {},
   "source": [
    "### 2. CONVERT DATA TO DocBin"
   ]
  },
  {
   "cell_type": "code",
   "execution_count": 9,
   "id": "677f9e86-3079-431b-8420-00b8581c075b",
   "metadata": {},
   "outputs": [],
   "source": [
    "def makedocs(data: list, labels: list, package):\n",
    "    \"\"\"\n",
    "    :param data: tuples of text with labels\n",
    "    :param labels: list of existing labels\n",
    "    :param package: spacy language package\n",
    "    :return: list of spacy doc files\n",
    "    \"\"\"\n",
    "    docs = []\n",
    "    for doc, label in package.pipe(data, as_tuples=True):\n",
    "        for key in labels:\n",
    "            doc.cats[key] = int(label == key)\n",
    "        docs.append(doc)\n",
    "    return (docs)"
   ]
  },
  {
   "cell_type": "code",
   "execution_count": 10,
   "id": "25e64b75-3024-4f57-b1aa-bf3339bd4544",
   "metadata": {},
   "outputs": [],
   "source": [
    "def datatodocbin(data: list, labels: list, path: str, package):\n",
    "    \"\"\"\n",
    "    :param data: tuples of text with labels\n",
    "    :param labels: list of existing labels\n",
    "    :param package: spacy language package\n",
    "    :param path: where to store docbin\n",
    "    \"\"\"\n",
    "    docs = makedocs(data, labels, package)\n",
    "    docbin = DocBin(docs=docs)\n",
    "    docbin.to_disk(path)"
   ]
  },
  {
   "cell_type": "code",
   "execution_count": 11,
   "id": "2eb3b8e7-fa0c-4df6-a8fb-24d0218f9157",
   "metadata": {},
   "outputs": [
    {
     "name": "stdout",
     "output_type": "stream",
     "text": [
      "Collecting en-core-web-sm==3.2.0\n",
      "  Downloading https://github.com/explosion/spacy-models/releases/download/en_core_web_sm-3.2.0/en_core_web_sm-3.2.0-py3-none-any.whl (13.9 MB)\n",
      "\u001b[K     |████████████████████████████████| 13.9 MB 5.2 MB/s eta 0:00:01\n",
      "\u001b[?25hRequirement already satisfied: spacy<3.3.0,>=3.2.0 in /home/barinale/.local/lib/python3.8/site-packages (from en-core-web-sm==3.2.0) (3.2.3)\n",
      "Requirement already satisfied: cymem<2.1.0,>=2.0.2 in /home/barinale/.local/lib/python3.8/site-packages (from spacy<3.3.0,>=3.2.0->en-core-web-sm==3.2.0) (2.0.6)\n",
      "Requirement already satisfied: blis<0.8.0,>=0.4.0 in /home/barinale/.local/lib/python3.8/site-packages (from spacy<3.3.0,>=3.2.0->en-core-web-sm==3.2.0) (0.7.6)\n",
      "Requirement already satisfied: wasabi<1.1.0,>=0.8.1 in /home/barinale/.local/lib/python3.8/site-packages (from spacy<3.3.0,>=3.2.0->en-core-web-sm==3.2.0) (0.9.0)\n",
      "Requirement already satisfied: requests<3.0.0,>=2.13.0 in /home/barinale/miniconda3/envs/ner/lib/python3.8/site-packages (from spacy<3.3.0,>=3.2.0->en-core-web-sm==3.2.0) (2.27.1)\n",
      "Requirement already satisfied: srsly<3.0.0,>=2.4.1 in /home/barinale/.local/lib/python3.8/site-packages (from spacy<3.3.0,>=3.2.0->en-core-web-sm==3.2.0) (2.4.2)\n",
      "Requirement already satisfied: pathy>=0.3.5 in /home/barinale/.local/lib/python3.8/site-packages (from spacy<3.3.0,>=3.2.0->en-core-web-sm==3.2.0) (0.6.1)\n",
      "Requirement already satisfied: spacy-loggers<2.0.0,>=1.0.0 in /home/barinale/.local/lib/python3.8/site-packages (from spacy<3.3.0,>=3.2.0->en-core-web-sm==3.2.0) (1.0.1)\n",
      "Requirement already satisfied: typer<0.5.0,>=0.3.0 in /home/barinale/.local/lib/python3.8/site-packages (from spacy<3.3.0,>=3.2.0->en-core-web-sm==3.2.0) (0.4.0)\n",
      "Requirement already satisfied: tqdm<5.0.0,>=4.38.0 in /home/barinale/.local/lib/python3.8/site-packages (from spacy<3.3.0,>=3.2.0->en-core-web-sm==3.2.0) (4.63.0)\n",
      "Requirement already satisfied: pydantic!=1.8,!=1.8.1,<1.9.0,>=1.7.4 in /home/barinale/.local/lib/python3.8/site-packages (from spacy<3.3.0,>=3.2.0->en-core-web-sm==3.2.0) (1.8.2)\n",
      "Requirement already satisfied: preshed<3.1.0,>=3.0.2 in /home/barinale/.local/lib/python3.8/site-packages (from spacy<3.3.0,>=3.2.0->en-core-web-sm==3.2.0) (3.0.6)\n",
      "Requirement already satisfied: catalogue<2.1.0,>=2.0.6 in /home/barinale/.local/lib/python3.8/site-packages (from spacy<3.3.0,>=3.2.0->en-core-web-sm==3.2.0) (2.0.6)\n",
      "Requirement already satisfied: packaging>=20.0 in /home/barinale/.local/lib/python3.8/site-packages (from spacy<3.3.0,>=3.2.0->en-core-web-sm==3.2.0) (21.3)\n",
      "Requirement already satisfied: spacy-legacy<3.1.0,>=3.0.8 in /home/barinale/.local/lib/python3.8/site-packages (from spacy<3.3.0,>=3.2.0->en-core-web-sm==3.2.0) (3.0.9)\n",
      "Requirement already satisfied: numpy>=1.15.0 in /home/barinale/miniconda3/envs/ner/lib/python3.8/site-packages (from spacy<3.3.0,>=3.2.0->en-core-web-sm==3.2.0) (1.21.2)\n",
      "Requirement already satisfied: murmurhash<1.1.0,>=0.28.0 in /home/barinale/.local/lib/python3.8/site-packages (from spacy<3.3.0,>=3.2.0->en-core-web-sm==3.2.0) (1.0.6)\n",
      "Requirement already satisfied: setuptools in /home/barinale/miniconda3/envs/ner/lib/python3.8/site-packages (from spacy<3.3.0,>=3.2.0->en-core-web-sm==3.2.0) (58.0.4)\n",
      "Requirement already satisfied: jinja2 in /home/barinale/miniconda3/envs/ner/lib/python3.8/site-packages (from spacy<3.3.0,>=3.2.0->en-core-web-sm==3.2.0) (3.0.3)\n",
      "Requirement already satisfied: thinc<8.1.0,>=8.0.12 in /home/barinale/.local/lib/python3.8/site-packages (from spacy<3.3.0,>=3.2.0->en-core-web-sm==3.2.0) (8.0.13)\n",
      "Requirement already satisfied: langcodes<4.0.0,>=3.2.0 in /home/barinale/.local/lib/python3.8/site-packages (from spacy<3.3.0,>=3.2.0->en-core-web-sm==3.2.0) (3.3.0)\n",
      "Requirement already satisfied: pyparsing!=3.0.5,>=2.0.2 in /home/barinale/miniconda3/envs/ner/lib/python3.8/site-packages (from packaging>=20.0->spacy<3.3.0,>=3.2.0->en-core-web-sm==3.2.0) (3.0.7)\n",
      "Requirement already satisfied: smart-open<6.0.0,>=5.0.0 in /home/barinale/.local/lib/python3.8/site-packages (from pathy>=0.3.5->spacy<3.3.0,>=3.2.0->en-core-web-sm==3.2.0) (5.2.1)\n",
      "Requirement already satisfied: typing-extensions>=3.7.4.3 in /home/barinale/.local/lib/python3.8/site-packages (from pydantic!=1.8,!=1.8.1,<1.9.0,>=1.7.4->spacy<3.3.0,>=3.2.0->en-core-web-sm==3.2.0) (4.1.1)\n",
      "Requirement already satisfied: charset-normalizer~=2.0.0 in /home/barinale/miniconda3/envs/ner/lib/python3.8/site-packages (from requests<3.0.0,>=2.13.0->spacy<3.3.0,>=3.2.0->en-core-web-sm==3.2.0) (2.0.4)\n",
      "Requirement already satisfied: urllib3<1.27,>=1.21.1 in /home/barinale/miniconda3/envs/ner/lib/python3.8/site-packages (from requests<3.0.0,>=2.13.0->spacy<3.3.0,>=3.2.0->en-core-web-sm==3.2.0) (1.26.8)\n",
      "Requirement already satisfied: idna<4,>=2.5 in /home/barinale/miniconda3/envs/ner/lib/python3.8/site-packages (from requests<3.0.0,>=2.13.0->spacy<3.3.0,>=3.2.0->en-core-web-sm==3.2.0) (3.3)\n",
      "Requirement already satisfied: certifi>=2017.4.17 in /home/barinale/miniconda3/envs/ner/lib/python3.8/site-packages (from requests<3.0.0,>=2.13.0->spacy<3.3.0,>=3.2.0->en-core-web-sm==3.2.0) (2021.10.8)\n",
      "Requirement already satisfied: click<9.0.0,>=7.1.1 in /home/barinale/.local/lib/python3.8/site-packages (from typer<0.5.0,>=0.3.0->spacy<3.3.0,>=3.2.0->en-core-web-sm==3.2.0) (8.0.4)\n",
      "Requirement already satisfied: MarkupSafe>=2.0 in /home/barinale/miniconda3/envs/ner/lib/python3.8/site-packages (from jinja2->spacy<3.3.0,>=3.2.0->en-core-web-sm==3.2.0) (2.1.0)\n",
      "\u001b[38;5;2m✔ Download and installation successful\u001b[0m\n",
      "You can now load the package via spacy.load('en_core_web_sm')\n"
     ]
    }
   ],
   "source": [
    "# download language model\n",
    "! python -m spacy download en_core_web_sm"
   ]
  },
  {
   "cell_type": "code",
   "execution_count": 14,
   "id": "a7be2185-a7bf-43d0-901a-c0afa99e968d",
   "metadata": {},
   "outputs": [],
   "source": [
    "# save data as docbins\n",
    "engpackage = spacy.load(\"en_core_web_sm\")\n",
    "datatodocbin(data=traindata, labels=labels, path=trainpath, package=engpackage)\n",
    "datatodocbin(data=validdata, labels=labels, path=validpath, package=engpackage)"
   ]
  },
  {
   "cell_type": "markdown",
   "id": "5dfa9d03-4d1f-43c5-a772-6e46ab3282b4",
   "metadata": {},
   "source": [
    "### 3. CREATE base.cfg (details: https://spacy.io/api/cli#init)"
   ]
  },
  {
   "cell_type": "code",
   "execution_count": 15,
   "id": "f0534fdc-8b9b-4786-a4db-758a7a9ea1d3",
   "metadata": {},
   "outputs": [
    {
     "name": "stdout",
     "output_type": "stream",
     "text": [
      "\u001b[38;5;3m⚠ To generate a more effective transformer-based config (GPU-only),\n",
      "install the spacy-transformers package and re-run this command. The config\n",
      "generated now does not use transformers.\u001b[0m\n",
      "\u001b[38;5;4mℹ Generated config template specific for your use case\u001b[0m\n",
      "- Language: en\n",
      "- Pipeline: textcat_multilabel\n",
      "- Optimize for: efficiency\n",
      "- Hardware: CPU\n",
      "- Transformer: None\n",
      "\u001b[38;5;2m✔ Auto-filled config with all values\u001b[0m\n",
      "\u001b[38;5;2m✔ Saved config\u001b[0m\n",
      "base.cfg\n",
      "You can now add your data and train your pipeline:\n",
      "python -m spacy train base.cfg --paths.train ./train.spacy --paths.dev ./dev.spacy\n"
     ]
    }
   ],
   "source": [
    "! python -m spacy init config base.cfg --lang en --pipeline textcat_multilabel --optimize efficiency --force"
   ]
  },
  {
   "cell_type": "markdown",
   "id": "8b0c6150-e84f-4dc9-8fa6-ca7323b258ad",
   "metadata": {},
   "source": [
    "### 4. CREATE config.cfg (details: https://spacy.io/api/cli#init-fill-config)"
   ]
  },
  {
   "cell_type": "code",
   "execution_count": 16,
   "id": "cca49437-843b-4529-b6f8-e6cf5f3932f3",
   "metadata": {},
   "outputs": [
    {
     "name": "stdout",
     "output_type": "stream",
     "text": [
      "\u001b[38;5;3m⚠ Nothing to auto-fill: base config is already complete\u001b[0m\n",
      "\u001b[38;5;2m✔ Saved config\u001b[0m\n",
      "config.cfg\n",
      "You can now add your data and train your pipeline:\n",
      "python -m spacy train config.cfg --paths.train ./train.spacy --paths.dev ./dev.spacy\n"
     ]
    }
   ],
   "source": [
    "! python3 -m spacy init fill-config ./base.cfg ./config.cfg"
   ]
  },
  {
   "cell_type": "markdown",
   "id": "8d4e0408-9a8b-44ed-996a-dbe5fab39174",
   "metadata": {},
   "source": [
    "### 5. TRAIN NEW MODEL"
   ]
  },
  {
   "cell_type": "code",
   "execution_count": 18,
   "id": "bce23ac4-0d03-423f-855b-a7d68bbbf806",
   "metadata": {},
   "outputs": [],
   "source": [
    "! mkdir ./output"
   ]
  },
  {
   "cell_type": "code",
   "execution_count": 19,
   "id": "f127cf51-5c81-43c0-87c9-3df09cf2e3c4",
   "metadata": {},
   "outputs": [
    {
     "name": "stdout",
     "output_type": "stream",
     "text": [
      "\u001b[38;5;4mℹ Saving to output directory: output\u001b[0m\n",
      "\u001b[38;5;4mℹ Using CPU\u001b[0m\n",
      "\u001b[1m\n",
      "=========================== Initializing pipeline ===========================\u001b[0m\n",
      "[2022-03-14 16:05:18,435] [INFO] Set up nlp object from config\n",
      "[2022-03-14 16:05:18,443] [INFO] Pipeline: ['textcat_multilabel']\n",
      "[2022-03-14 16:05:18,445] [INFO] Created vocabulary\n",
      "[2022-03-14 16:05:18,445] [INFO] Finished initializing nlp object\n",
      "[2022-03-14 16:05:18,460] [INFO] Initialized pipeline components: ['textcat_multilabel']\n",
      "\u001b[38;5;2m✔ Initialized pipeline\u001b[0m\n",
      "\u001b[1m\n",
      "============================= Training pipeline =============================\u001b[0m\n",
      "\u001b[38;5;4mℹ Pipeline: ['textcat_multilabel']\u001b[0m\n",
      "\u001b[38;5;4mℹ Initial learn rate: 0.001\u001b[0m\n",
      "E    #       LOSS TEXTC...  CATS_SCORE  SCORE \n",
      "---  ------  -------------  ----------  ------\n",
      "  0       0           0.01       82.29    0.82\n",
      "200     200           0.71       82.29    0.82\n",
      "400     400           0.37       83.33    0.83\n",
      "600     600           0.23       83.33    0.83\n",
      "800     800           0.15       83.33    0.83\n",
      "1000    1000           0.11       83.33    0.83\n",
      "1200    1200           0.08       83.33    0.83\n",
      "1400    1400           0.06       83.33    0.83\n",
      "1600    1600           0.05       83.33    0.83\n",
      "1800    1800           0.04       83.33    0.83\n",
      "2000    2000           0.03       83.33    0.83\n",
      "\u001b[38;5;2m✔ Saved pipeline to output directory\u001b[0m\n",
      "output/model-last\n"
     ]
    }
   ],
   "source": [
    "! python3 -m spacy train config.cfg --output ./output --paths.train ./data/train.spacy --paths.dev ./data/valid.spacy"
   ]
  },
  {
   "cell_type": "markdown",
   "id": "c2790afb-d3f1-4bce-a8f5-f60000663007",
   "metadata": {},
   "source": [
    "### 6. TEST TRAINED MODEL"
   ]
  },
  {
   "cell_type": "code",
   "execution_count": 27,
   "id": "6fd0839d-efb7-4e69-9a36-e611a3423c0a",
   "metadata": {},
   "outputs": [],
   "source": [
    "def test_model(model, data):\n",
    "    \"\"\"\n",
    "    manual classification of valid data\n",
    "    \n",
    "    :param model: trained spacy model\n",
    "    :param data: tuples of text with labels\n",
    "    \"\"\"\n",
    "    for text in data:\n",
    "        doc = model(text[0])\n",
    "        print(\"CLASSIFICATION:\", doc.cats)\n",
    "        print(\"GROUND TRUTH\", text)\n",
    "        print(\"\\n\")"
   ]
  },
  {
   "cell_type": "code",
   "execution_count": 28,
   "id": "3dde65ca-099f-49c3-a9b1-a889a3c10cbd",
   "metadata": {},
   "outputs": [
    {
     "name": "stdout",
     "output_type": "stream",
     "text": [
      "CLASSIFICATION: {'HELP': 0.6775532364845276, 'YES': 0.23055101931095123, 'NO': 0.1631542295217514}\n",
      "GROUND TRUTH ('please help', 'HELP')\n",
      "\n",
      "\n",
      "CLASSIFICATION: {'HELP': 0.5253580212593079, 'YES': 0.3474675714969635, 'NO': 0.24426689743995667}\n",
      "GROUND TRUTH ('hints', 'HELP')\n",
      "\n",
      "\n",
      "CLASSIFICATION: {'HELP': 0.47562965750694275, 'YES': 0.38746094703674316, 'NO': 0.2715665102005005}\n",
      "GROUND TRUTH ('help', 'HELP')\n",
      "\n",
      "\n",
      "CLASSIFICATION: {'HELP': 0.893428385257721, 'YES': 0.08140502125024796, 'NO': 0.06446904689073563}\n",
      "GROUND TRUTH (\"I don't get it\", 'HELP')\n",
      "\n",
      "\n",
      "CLASSIFICATION: {'HELP': 0.5208970904350281, 'YES': 0.3509201407432556, 'NO': 0.24651892483234406}\n",
      "GROUND TRUTH (\"let's do it\", 'YES')\n",
      "\n",
      "\n",
      "CLASSIFICATION: {'HELP': 0.28137174248695374, 'YES': 0.5718020796775818, 'NO': 0.4161897897720337}\n",
      "GROUND TRUTH ('right', 'YES')\n",
      "\n",
      "\n",
      "CLASSIFICATION: {'HELP': 0.072362519800663, 'YES': 0.9025143980979919, 'NO': 0.09393086284399033}\n",
      "GROUND TRUTH ('well, ok', 'YES')\n",
      "\n",
      "\n",
      "CLASSIFICATION: {'HELP': 0.015303709544241428, 'YES': 0.9846588373184204, 'NO': 0.01485169306397438}\n",
      "GROUND TRUTH ('ok, fine', 'YES')\n",
      "\n",
      "\n",
      "CLASSIFICATION: {'HELP': 0.28137174248695374, 'YES': 0.5718020796775818, 'NO': 0.4161897897720337}\n",
      "GROUND TRUTH ('nah', 'NO')\n",
      "\n",
      "\n",
      "CLASSIFICATION: {'HELP': 0.893428385257721, 'YES': 0.08140502125024796, 'NO': 0.06446904689073563}\n",
      "GROUND TRUTH (\"I don't want it\", 'NO')\n",
      "\n",
      "\n",
      "CLASSIFICATION: {'HELP': 0.0030868174508213997, 'YES': 0.0013706836616620421, 'NO': 0.9985822439193726}\n",
      "GROUND TRUTH ('no no no', 'NO')\n",
      "\n",
      "\n",
      "CLASSIFICATION: {'HELP': 0.28137174248695374, 'YES': 0.5718020796775818, 'NO': 0.4161897897720337}\n",
      "GROUND TRUTH ('stop it', 'NO')\n",
      "\n",
      "\n"
     ]
    }
   ],
   "source": [
    "# test model\n",
    "# to work with several models we need to implement the api for it ourselves (IF I AM NOT MISSING SOMETHING ABOUT SPACY)\n",
    "nlp = spacy.load(\"output/model-last\")\n",
    "test_model(model=nlp, data=validdata)"
   ]
  },
  {
   "cell_type": "code",
   "execution_count": null,
   "id": "ddd8f10f-36dd-4f6d-9c7c-65cadf3d994b",
   "metadata": {},
   "outputs": [],
   "source": []
  }
 ],
 "metadata": {
  "kernelspec": {
   "display_name": "Python 3 (ipykernel)",
   "language": "python",
   "name": "python3"
  },
  "language_info": {
   "codemirror_mode": {
    "name": "ipython",
    "version": 3
   },
   "file_extension": ".py",
   "mimetype": "text/x-python",
   "name": "python",
   "nbconvert_exporter": "python",
   "pygments_lexer": "ipython3",
   "version": "3.7.11"
  }
 },
 "nbformat": 4,
 "nbformat_minor": 5
}
