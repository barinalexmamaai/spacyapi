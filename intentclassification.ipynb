{
 "cells": [
  {
   "cell_type": "code",
   "execution_count": 17,
   "id": "3107e38f-79b5-4b05-b50c-8e31142f61a8",
   "metadata": {},
   "outputs": [],
   "source": [
    "import spacy\n",
    "from spacy.tokens import DocBin"
   ]
  },
  {
   "cell_type": "code",
   "execution_count": 19,
   "id": "0775f64b-977a-4ee6-aae3-db9533bb11a3",
   "metadata": {},
   "outputs": [],
   "source": [
    "# define dummy data to test api\n",
    "trainengdata = [(\"would you please help me\", \"HELP\"), (\"give me some hints\", \"HELP\"), (\"how should I proceed\", \"HELP\"),\n",
    "                (\"yeap\", \"YES\"), (\"ok\", \"YES\"), (\"fine\", \"YES\"), (\"sure\", \"YES\"), (\"perfect\", \"YES\"),\n",
    "                (\"no\", \"NO\"), (\"cancel\", \"NO\"), (\"disagree\", \"NO\")]\n",
    "validengdata = [(\"please help\", \"HELP\"), (\"hints\", \"HELP\"), (\"help\", \"HELP\"), (\"I don't get it\", \"HELP\"),\n",
    "                (\"let's do it\", \"YES\"), (\"right\", \"YES\"), (\"well, ok\", \"YES\"), (\"ok, fine\", \"YES\"),\n",
    "                (\"nah\", \"NO\"), (\"I don't want it\", \"NO\"), (\"no no no\", \"NO\"), (\"stop it\", \"NO\")]\n",
    "englabels = [\"HELP\", \"YES\", \"NO\"]"
   ]
  },
  {
   "cell_type": "code",
   "execution_count": 24,
   "id": "e45ff152-6076-4aff-bcf3-e94ae353f701",
   "metadata": {},
   "outputs": [],
   "source": [
    "# load eng model\n",
    "nlp = spacy.load(\"en_core_web_sm\")"
   ]
  },
  {
   "cell_type": "code",
   "execution_count": 25,
   "id": "677f9e86-3079-431b-8420-00b8581c075b",
   "metadata": {},
   "outputs": [],
   "source": [
    "def makedocs(data: list, labels: list):\n",
    "    \"\"\"\n",
    "    :param data: tuples of text with labels\n",
    "    :param labels: list of existing labels\n",
    "    :return: list of spacy doc files\n",
    "    \"\"\"\n",
    "    docs = []\n",
    "    for doc, label in nlp.pipe(data, as_tuples=True):\n",
    "        for key in labels:\n",
    "            doc.cats[key] = int(label == key)\n",
    "        docs.append(doc)\n",
    "    return (docs)"
   ]
  },
  {
   "cell_type": "code",
   "execution_count": 26,
   "id": "25e64b75-3024-4f57-b1aa-bf3339bd4544",
   "metadata": {},
   "outputs": [],
   "source": [
    "def datatodocbin(data: list, labels: list, path: str):\n",
    "    \"\"\"\n",
    "    :param data: tuples of text with labels\n",
    "    :param labels: list of existing labels\n",
    "    :param path: where to store docbin\n",
    "    \"\"\"\n",
    "    docs = makedocs(data, labels)\n",
    "    docbin = DocBin(docs=docs)\n",
    "    docbin.to_disk(path)"
   ]
  },
  {
   "cell_type": "code",
   "execution_count": 27,
   "id": "a7be2185-a7bf-43d0-901a-c0afa99e968d",
   "metadata": {},
   "outputs": [],
   "source": [
    "# save data as docbins\n",
    "datatodocbin(data=trainengdata, labels=englabels, path='data/train.spacy')\n",
    "datatodocbin(data=validengdata, labels=englabels, path='data/valid.spacy')"
   ]
  },
  {
   "cell_type": "code",
   "execution_count": null,
   "id": "777b1fe4-4b72-4617-9d0c-548a5e32ca66",
   "metadata": {},
   "outputs": [],
   "source": [
    "# STEPS TO TRAIN THE MODEL\n",
    "# 1.\n",
    "#   to create base_config.cfg go to \n",
    "#       https://spacy.io/usage/training#quickstart\n",
    "#   choose parameters: language=english, components=textcat, Text Classification - exclusive categories = unchecked, \n",
    "#                      hardware etc. and copy generated config to your base_config.cfg file at the root of the project\n",
    "#   define: train = \"data/train.spacy\" \n",
    "#           dev = \"data/valid.spacy\"\n",
    "# 2.\n",
    "#   in terminal run to automatically create a config file:\n",
    "#   python3 -m spacy init fill-config ./base_config.cfg ./config.cfg\n",
    "# 3.\n",
    "#   create folder output in the root directory.\n",
    "#   run in terminal to train model: \n",
    "#       python3 -m spacy train config.cfg --output ./output"
   ]
  },
  {
   "cell_type": "code",
   "execution_count": 28,
   "id": "e4c442f0-594c-4956-97d8-3e239eb3f275",
   "metadata": {},
   "outputs": [
    {
     "name": "stderr",
     "output_type": "stream",
     "text": [
      "/home/barinale/miniconda3/envs/ner/lib/python3.8/site-packages/spacy/util.py:833: UserWarning: [W095] Model 'en_pipeline' (0.0.0) was trained with spaCy v3.2 and may not be 100% compatible with the current version (3.2.1). If you see errors or degraded performance, download a newer compatible model or retrain your custom model with the current spaCy version. For more details and available updates, run: python -m spacy validate\n",
      "  warnings.warn(warn_msg)\n"
     ]
    }
   ],
   "source": [
    "# load the last trained model\n",
    "nlp = spacy.load(\"output/model-last\")"
   ]
  },
  {
   "cell_type": "code",
   "execution_count": 40,
   "id": "6fd0839d-efb7-4e69-9a36-e611a3423c0a",
   "metadata": {},
   "outputs": [
    {
     "name": "stdout",
     "output_type": "stream",
     "text": [
      "CLASSIFICATION: {'HELP': 0.6788396835327148, 'YES': 0.2385694533586502, 'NO': 0.1696544885635376}\n",
      "GROUND TRUTH ('please help', 'HELP')\n",
      "\n",
      "\n",
      "CLASSIFICATION: {'HELP': 0.5321220755577087, 'YES': 0.3553994596004486, 'NO': 0.25086450576782227}\n",
      "GROUND TRUTH ('hints', 'HELP')\n",
      "\n",
      "\n",
      "CLASSIFICATION: {'HELP': 0.4852232336997986, 'YES': 0.39396926760673523, 'NO': 0.2773498594760895}\n",
      "GROUND TRUTH ('help', 'HELP')\n",
      "\n",
      "\n",
      "CLASSIFICATION: {'HELP': 0.5279896855354309, 'YES': 0.358663409948349, 'NO': 0.25301623344421387}\n",
      "GROUND TRUTH (\"I don't get it\", 'HELP')\n",
      "\n",
      "\n",
      "CLASSIFICATION: {'HELP': 0.29594287276268005, 'YES': 0.5742524266242981, 'NO': 0.4189189076423645}\n",
      "GROUND TRUTH (\"let's do it\", 'YES')\n",
      "\n",
      "\n",
      "CLASSIFICATION: {'HELP': 0.29594287276268005, 'YES': 0.5742524266242981, 'NO': 0.4189189076423645}\n",
      "GROUND TRUTH ('right', 'YES')\n",
      "\n",
      "\n",
      "CLASSIFICATION: {'HELP': 0.0812438428401947, 'YES': 0.8936100602149963, 'NO': 0.10380345582962036}\n",
      "GROUND TRUTH ('well, ok', 'YES')\n",
      "\n",
      "\n",
      "CLASSIFICATION: {'HELP': 0.018263142555952072, 'YES': 0.9812400937080383, 'NO': 0.018269069492816925}\n",
      "GROUND TRUTH ('ok, fine', 'YES')\n",
      "\n",
      "\n",
      "CLASSIFICATION: {'HELP': 0.29594287276268005, 'YES': 0.5742524266242981, 'NO': 0.4189189076423645}\n",
      "GROUND TRUTH ('nah', 'NO')\n",
      "\n",
      "\n",
      "CLASSIFICATION: {'HELP': 0.5279896855354309, 'YES': 0.358663409948349, 'NO': 0.25301623344421387}\n",
      "GROUND TRUTH (\"I don't want it\", 'NO')\n",
      "\n",
      "\n",
      "CLASSIFICATION: {'HELP': 0.003898289520293474, 'YES': 0.001986100571230054, 'NO': 0.9979588985443115}\n",
      "GROUND TRUTH ('no no no', 'NO')\n",
      "\n",
      "\n",
      "CLASSIFICATION: {'HELP': 0.29594287276268005, 'YES': 0.5742524266242981, 'NO': 0.4189189076423645}\n",
      "GROUND TRUTH ('stop it', 'NO')\n",
      "\n",
      "\n"
     ]
    }
   ],
   "source": [
    "# test model manually\n",
    "for text in validengdata:\n",
    "    doc = nlp(text[0])\n",
    "    print(\"CLASSIFICATION:\", doc.cats)\n",
    "    print(\"GROUND TRUTH\", text)\n",
    "    print(\"\\n\")"
   ]
  },
  {
   "cell_type": "code",
   "execution_count": null,
   "id": "afddb452-3193-44ad-9f23-b2b788d8a697",
   "metadata": {},
   "outputs": [],
   "source": [
    "# TO TUNE THE MODEL\n",
    "# look into config.cfg file and tune hyperparameters"
   ]
  }
 ],
 "metadata": {
  "kernelspec": {
   "display_name": "Python 3 (ipykernel)",
   "language": "python",
   "name": "python3"
  },
  "language_info": {
   "codemirror_mode": {
    "name": "ipython",
    "version": 3
   },
   "file_extension": ".py",
   "mimetype": "text/x-python",
   "name": "python",
   "nbconvert_exporter": "python",
   "pygments_lexer": "ipython3",
   "version": "3.8.12"
  }
 },
 "nbformat": 4,
 "nbformat_minor": 5
}
