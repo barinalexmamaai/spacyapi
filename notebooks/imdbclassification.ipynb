{
 "cells": [
  {
   "cell_type": "markdown",
   "id": "95e66b01-3893-4379-b315-ede82efeb6d8",
   "metadata": {},
   "source": [
    "## fine tune bert model for custom dataset"
   ]
  },
  {
   "cell_type": "markdown",
   "id": "5b538518-a536-4fda-b99f-0af0929f7294",
   "metadata": {},
   "source": [
    "### 1. load/define data set"
   ]
  },
  {
   "cell_type": "code",
   "execution_count": 2,
   "id": "78f665b5-5346-4a77-9ec5-dc4813f2d720",
   "metadata": {},
   "outputs": [
    {
     "name": "stderr",
     "output_type": "stream",
     "text": [
      "/home/barinale/miniconda3/envs/ner/lib/python3.7/site-packages/tqdm/auto.py:22: TqdmWarning: IProgress not found. Please update jupyter and ipywidgets. See https://ipywidgets.readthedocs.io/en/stable/user_install.html\n",
      "  from .autonotebook import tqdm as notebook_tqdm\n"
     ]
    }
   ],
   "source": [
    "from datasets import load_dataset"
   ]
  },
  {
   "cell_type": "code",
   "execution_count": 32,
   "id": "a5cdb658-624b-4c7d-b336-5db4f8c2299e",
   "metadata": {},
   "outputs": [
    {
     "name": "stderr",
     "output_type": "stream",
     "text": [
      "Reusing dataset imdb (/home/barinale/.cache/huggingface/datasets/imdb/plain_text/1.0.0/2fdd8b9bcadd6e7055e742a706876ba43f19faee861df134affd7a3f60fc38a1)\n",
      "100%|████████████████████████████████████████████████████████████████████| 3/3 [00:00<00:00, 718.16it/s]\n"
     ]
    }
   ],
   "source": [
    "imdb = load_dataset(\"imdb\")"
   ]
  },
  {
   "cell_type": "code",
   "execution_count": 33,
   "id": "8850dc27-674b-4963-a63d-48c33144de2a",
   "metadata": {},
   "outputs": [],
   "source": [
    "imdb = imdb.shuffle()"
   ]
  },
  {
   "cell_type": "code",
   "execution_count": 34,
   "id": "bb4665dc-fe1a-40a2-964d-5fdbdc93eda4",
   "metadata": {},
   "outputs": [],
   "source": [
    "for key in imdb.keys():\n",
    "    imdb[key] = imdb[key].select(range(10))"
   ]
  },
  {
   "cell_type": "code",
   "execution_count": 35,
   "id": "a62ea842-554a-480a-a4a7-7bce27bbbe64",
   "metadata": {},
   "outputs": [
    {
     "name": "stdout",
     "output_type": "stream",
     "text": [
      "{'train': 10, 'test': 10, 'unsupervised': 10}\n"
     ]
    }
   ],
   "source": [
    "print(imdb.num_rows)"
   ]
  },
  {
   "cell_type": "markdown",
   "id": "e5ea9c90-ca64-4a6a-8c96-48bfa329b273",
   "metadata": {},
   "source": [
    "### 2. install transofrmers library"
   ]
  },
  {
   "cell_type": "code",
   "execution_count": 39,
   "id": "c1d46ddc-47f6-4c64-ae93-f92d41c04333",
   "metadata": {},
   "outputs": [
    {
     "name": "stdout",
     "output_type": "stream",
     "text": [
      "Requirement already satisfied: transformers in /home/barinale/miniconda3/envs/ner/lib/python3.7/site-packages (4.14.1)\n",
      "Requirement already satisfied: numpy>=1.17 in /home/barinale/miniconda3/envs/ner/lib/python3.7/site-packages (from transformers) (1.19.2)\n",
      "Requirement already satisfied: importlib-metadata in /home/barinale/miniconda3/envs/ner/lib/python3.7/site-packages (from transformers) (4.8.2)\n",
      "Requirement already satisfied: filelock in /home/barinale/miniconda3/envs/ner/lib/python3.7/site-packages (from transformers) (3.6.0)\n",
      "Requirement already satisfied: requests in /home/barinale/miniconda3/envs/ner/lib/python3.7/site-packages (from transformers) (2.27.1)\n",
      "Requirement already satisfied: tqdm>=4.27 in /home/barinale/miniconda3/envs/ner/lib/python3.7/site-packages (from transformers) (4.63.0)\n",
      "Requirement already satisfied: regex!=2019.12.17 in /home/barinale/miniconda3/envs/ner/lib/python3.7/site-packages (from transformers) (2021.11.2)\n",
      "Requirement already satisfied: huggingface-hub<1.0,>=0.1.0 in /home/barinale/miniconda3/envs/ner/lib/python3.7/site-packages (from transformers) (0.2.1)\n",
      "Requirement already satisfied: pyyaml>=5.1 in /home/barinale/miniconda3/envs/ner/lib/python3.7/site-packages (from transformers) (6.0)\n",
      "Requirement already satisfied: packaging>=20.0 in /home/barinale/miniconda3/envs/ner/lib/python3.7/site-packages (from transformers) (21.3)\n",
      "Requirement already satisfied: sacremoses in /home/barinale/miniconda3/envs/ner/lib/python3.7/site-packages (from transformers) (0.0.43)\n",
      "Requirement already satisfied: tokenizers<0.11,>=0.10.1 in /home/barinale/miniconda3/envs/ner/lib/python3.7/site-packages (from transformers) (0.10.3)\n",
      "Requirement already satisfied: typing-extensions>=3.7.4.3 in /home/barinale/miniconda3/envs/ner/lib/python3.7/site-packages (from huggingface-hub<1.0,>=0.1.0->transformers) (3.10.0.2)\n",
      "Requirement already satisfied: pyparsing!=3.0.5,>=2.0.2 in /home/barinale/miniconda3/envs/ner/lib/python3.7/site-packages (from packaging>=20.0->transformers) (3.0.4)\n",
      "Requirement already satisfied: zipp>=0.5 in /home/barinale/miniconda3/envs/ner/lib/python3.7/site-packages (from importlib-metadata->transformers) (3.7.0)\n",
      "Requirement already satisfied: idna<4,>=2.5 in /home/barinale/miniconda3/envs/ner/lib/python3.7/site-packages (from requests->transformers) (3.3)\n",
      "Requirement already satisfied: certifi>=2017.4.17 in /home/barinale/miniconda3/envs/ner/lib/python3.7/site-packages (from requests->transformers) (2021.10.8)\n",
      "Requirement already satisfied: charset-normalizer~=2.0.0 in /home/barinale/miniconda3/envs/ner/lib/python3.7/site-packages (from requests->transformers) (2.0.4)\n",
      "Requirement already satisfied: urllib3<1.27,>=1.21.1 in /home/barinale/miniconda3/envs/ner/lib/python3.7/site-packages (from requests->transformers) (1.26.8)\n",
      "Requirement already satisfied: click in /home/barinale/miniconda3/envs/ner/lib/python3.7/site-packages (from sacremoses->transformers) (8.0.4)\n",
      "Requirement already satisfied: joblib in /home/barinale/miniconda3/envs/ner/lib/python3.7/site-packages (from sacremoses->transformers) (1.1.0)\n",
      "Requirement already satisfied: six in /home/barinale/miniconda3/envs/ner/lib/python3.7/site-packages (from sacremoses->transformers) (1.16.0)\n"
     ]
    }
   ],
   "source": [
    "! pip install transformers"
   ]
  },
  {
   "cell_type": "markdown",
   "id": "1a444710-8953-4fe6-8f24-2f326588602f",
   "metadata": {},
   "source": [
    "### 3. preprocess text"
   ]
  },
  {
   "cell_type": "code",
   "execution_count": 40,
   "id": "d6fb0ba6-d503-43ca-8420-3d6c51c4b31e",
   "metadata": {},
   "outputs": [],
   "source": [
    "from transformers import AutoTokenizer"
   ]
  },
  {
   "cell_type": "code",
   "execution_count": 41,
   "id": "48eaceeb-774c-4956-aa69-1ef2c5986d67",
   "metadata": {},
   "outputs": [],
   "source": [
    "# load the same tokenizer a model was trained with\n",
    "tokenizer = AutoTokenizer.from_pretrained(\"distilbert-base-uncased\")"
   ]
  },
  {
   "cell_type": "code",
   "execution_count": 42,
   "id": "10f2b9d2-cf9e-406a-9d74-122945e42fc0",
   "metadata": {},
   "outputs": [],
   "source": [
    "def preprocess(examples):\n",
    "    return tokenizer(examples[\"text\"], truncation=True)"
   ]
  },
  {
   "cell_type": "code",
   "execution_count": 43,
   "id": "c8c34a5a-32e5-4ce4-beaa-cc84b3506f99",
   "metadata": {},
   "outputs": [
    {
     "name": "stderr",
     "output_type": "stream",
     "text": [
      "100%|█████████████████████████████████████████████████████████████████████| 1/1 [00:00<00:00, 94.75ba/s]\n",
      "100%|█████████████████████████████████████████████████████████████████████| 1/1 [00:00<00:00, 55.12ba/s]\n",
      "100%|█████████████████████████████████████████████████████████████████████| 1/1 [00:00<00:00, 62.59ba/s]\n"
     ]
    }
   ],
   "source": [
    "tokenized = imdb.map(preprocess, batched=True)"
   ]
  },
  {
   "cell_type": "code",
   "execution_count": 44,
   "id": "09d8f1d8-792a-48d8-951d-cea578c5dc9a",
   "metadata": {},
   "outputs": [],
   "source": [
    "from transformers import DataCollatorWithPadding"
   ]
  },
  {
   "cell_type": "code",
   "execution_count": 45,
   "id": "a7530462-cbec-4ffa-ba19-7677ca50f1b9",
   "metadata": {},
   "outputs": [],
   "source": [
    "collator = DataCollatorWithPadding(tokenizer=tokenizer)"
   ]
  },
  {
   "cell_type": "markdown",
   "id": "b02ce3fc-994a-4abe-a0b2-bfd9e2ad1516",
   "metadata": {},
   "source": [
    "### 4. load pretrained model"
   ]
  },
  {
   "cell_type": "code",
   "execution_count": 46,
   "id": "af7027aa-917e-4237-849e-48c0cee7e0a6",
   "metadata": {},
   "outputs": [],
   "source": [
    "from transformers import AutoModelForSequenceClassification"
   ]
  },
  {
   "cell_type": "code",
   "execution_count": 47,
   "id": "2d5f2f37-6cb9-4938-9ee1-4508766ff415",
   "metadata": {},
   "outputs": [
    {
     "name": "stderr",
     "output_type": "stream",
     "text": [
      "Some weights of the model checkpoint at distilbert-base-uncased were not used when initializing DistilBertForSequenceClassification: ['vocab_transform.weight', 'vocab_projector.weight', 'vocab_layer_norm.weight', 'vocab_layer_norm.bias', 'vocab_projector.bias', 'vocab_transform.bias']\n",
      "- This IS expected if you are initializing DistilBertForSequenceClassification from the checkpoint of a model trained on another task or with another architecture (e.g. initializing a BertForSequenceClassification model from a BertForPreTraining model).\n",
      "- This IS NOT expected if you are initializing DistilBertForSequenceClassification from the checkpoint of a model that you expect to be exactly identical (initializing a BertForSequenceClassification model from a BertForSequenceClassification model).\n",
      "Some weights of DistilBertForSequenceClassification were not initialized from the model checkpoint at distilbert-base-uncased and are newly initialized: ['classifier.bias', 'pre_classifier.bias', 'classifier.weight', 'pre_classifier.weight']\n",
      "You should probably TRAIN this model on a down-stream task to be able to use it for predictions and inference.\n"
     ]
    }
   ],
   "source": [
    "model = AutoModelForSequenceClassification.from_pretrained(\"distilbert-base-uncased\", num_labels=2)"
   ]
  },
  {
   "cell_type": "code",
   "execution_count": 48,
   "id": "f29ebebb-19ba-4513-9e5c-b5b4eea5de7e",
   "metadata": {},
   "outputs": [],
   "source": [
    "from transformers import TrainingArguments, Trainer"
   ]
  },
  {
   "cell_type": "markdown",
   "id": "49d59cac-3485-4e5f-94d5-04558e18270e",
   "metadata": {},
   "source": [
    "#### a. Define your training hyperparameters in TrainingArguments."
   ]
  },
  {
   "cell_type": "code",
   "execution_count": 49,
   "id": "bbf5a75b-999a-42dd-888e-2eab352382dc",
   "metadata": {},
   "outputs": [
    {
     "name": "stdout",
     "output_type": "stream",
     "text": [
      "huggingface/tokenizers: The current process just got forked, after parallelism has already been used. Disabling parallelism to avoid deadlocks...\n",
      "To disable this warning, you can either:\n",
      "\t- Avoid using `tokenizers` before the fork if possible\n",
      "\t- Explicitly set the environment variable TOKENIZERS_PARALLELISM=(true | false)\n",
      "mkdir: cannot create directory ‘./tunedbert’: File exists\n"
     ]
    }
   ],
   "source": [
    "! mkdir './tunedbert'"
   ]
  },
  {
   "cell_type": "code",
   "execution_count": 50,
   "id": "2845005c-746e-4c2d-b40c-ba4c7a72a58f",
   "metadata": {},
   "outputs": [],
   "source": [
    "training_args = TrainingArguments(\n",
    "    output_dir=\"./tunedbert\",\n",
    "    learning_rate=2e-5,\n",
    "    per_device_train_batch_size=16,\n",
    "    per_device_eval_batch_size=16,\n",
    "    num_train_epochs=2,\n",
    "    weight_decay=0.01,\n",
    ")"
   ]
  },
  {
   "cell_type": "markdown",
   "id": "e8175f9d-209b-4de2-9846-2d26c9417eed",
   "metadata": {},
   "source": [
    "#### b. Pass the training arguments to a Trainer along with the model, dataset, tokenizer, and data collator."
   ]
  },
  {
   "cell_type": "code",
   "execution_count": 51,
   "id": "75d91e65-682c-4a58-98ba-f161eca192e4",
   "metadata": {},
   "outputs": [],
   "source": [
    "trainer = Trainer(\n",
    "    model=model,\n",
    "    args=training_args,\n",
    "    train_dataset=tokenized[\"train\"],\n",
    "    eval_dataset=tokenized[\"test\"],\n",
    "    data_collator=collator,\n",
    "    tokenizer=tokenizer,\n",
    ")\n"
   ]
  },
  {
   "cell_type": "markdown",
   "id": "f98450dc-244c-4a2c-ae04-7152f2105860",
   "metadata": {},
   "source": [
    "#### c. Call Trainer.train() to fine-tune your model."
   ]
  },
  {
   "cell_type": "code",
   "execution_count": null,
   "id": "bf063e43-9f1a-419b-a883-999f93973198",
   "metadata": {},
   "outputs": [
    {
     "name": "stderr",
     "output_type": "stream",
     "text": [
      "The following columns in the training set  don't have a corresponding argument in `DistilBertForSequenceClassification.forward` and have been ignored: text.\n",
      "***** Running training *****\n",
      "  Num examples = 10\n",
      "  Num Epochs = 2\n",
      "  Instantaneous batch size per device = 16\n",
      "  Total train batch size (w. parallel, distributed & accumulation) = 16\n",
      "  Gradient Accumulation steps = 1\n",
      "  Total optimization steps = 2\n"
     ]
    }
   ],
   "source": [
    "trainer.train()"
   ]
  },
  {
   "cell_type": "code",
   "execution_count": null,
   "id": "b4b8efda-d073-4466-bbba-f41b25729393",
   "metadata": {},
   "outputs": [],
   "source": []
  }
 ],
 "metadata": {
  "kernelspec": {
   "display_name": "Python 3 (ipykernel)",
   "language": "python",
   "name": "python3"
  },
  "language_info": {
   "codemirror_mode": {
    "name": "ipython",
    "version": 3
   },
   "file_extension": ".py",
   "mimetype": "text/x-python",
   "name": "python",
   "nbconvert_exporter": "python",
   "pygments_lexer": "ipython3",
   "version": "3.7.11"
  }
 },
 "nbformat": 4,
 "nbformat_minor": 5
}
