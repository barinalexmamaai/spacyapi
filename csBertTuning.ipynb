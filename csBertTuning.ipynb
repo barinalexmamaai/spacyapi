{
 "cells": [
  {
   "cell_type": "markdown",
   "id": "95e66b01-3893-4379-b315-ede82efeb6d8",
   "metadata": {},
   "source": [
    "## fine tune bert model for custom dataset"
   ]
  },
  {
   "cell_type": "markdown",
   "id": "48530009-5e4d-45aa-875e-4bbb02b9b577",
   "metadata": {},
   "source": [
    "### 1. install libraries"
   ]
  },
  {
   "cell_type": "code",
   "execution_count": null,
   "id": "1979f468-fe07-4724-9749-2f6af83bc484",
   "metadata": {},
   "outputs": [],
   "source": [
    "! pip install transformers"
   ]
  },
  {
   "cell_type": "code",
   "execution_count": null,
   "id": "f464fa3a-df71-47e2-b44c-12570f0375f6",
   "metadata": {},
   "outputs": [],
   "source": [
    "! pip install imbalanced-learn"
   ]
  },
  {
   "cell_type": "markdown",
   "id": "5b538518-a536-4fda-b99f-0af0929f7294",
   "metadata": {},
   "source": [
    "### 2. load/define data set"
   ]
  },
  {
   "cell_type": "code",
   "execution_count": 5,
   "id": "78f665b5-5346-4a77-9ec5-dc4813f2d720",
   "metadata": {},
   "outputs": [],
   "source": [
    "import pandas as pd\n",
    "from sklearn.model_selection import train_test_split"
   ]
  },
  {
   "cell_type": "code",
   "execution_count": 6,
   "id": "02865faf-014d-41b5-8841-63729890d3f3",
   "metadata": {},
   "outputs": [],
   "source": [
    "df = pd.read_csv('data/banking.csv')"
   ]
  },
  {
   "cell_type": "code",
   "execution_count": 7,
   "id": "0c2f9f66-0d45-4f8d-b387-116c1b9b739c",
   "metadata": {},
   "outputs": [],
   "source": [
    "# str labels to int\n",
    "df['intlabel'] = df['label'].rank(method='dense', ascending=False).astype(int) - 1"
   ]
  },
  {
   "cell_type": "code",
   "execution_count": 8,
   "id": "9cb7c7da-6385-45ad-a791-5a97cbfac331",
   "metadata": {},
   "outputs": [],
   "source": [
    "# prepare mapping from int labels back to str\n",
    "def getmapping(data: pd.DataFrame) -> dict:\n",
    "    \"\"\"\n",
    "    :param data: data frame with 'intlabel' columns containing int values \n",
    "        and 'label' column containing str values\n",
    "    :return: mapping from int values to str\n",
    "    \"\"\"\n",
    "    labelmapping = {}\n",
    "    for key in data.intlabel.unique():\n",
    "        value = data.loc[data['intlabel'] == key,'label'].unique()[0]\n",
    "        labelmapping[key] = value\n",
    "    return labelmapping"
   ]
  },
  {
   "cell_type": "code",
   "execution_count": 9,
   "id": "9aea277d-1d5d-4c8b-894d-8392bbaee653",
   "metadata": {},
   "outputs": [
    {
     "name": "stdout",
     "output_type": "stream",
     "text": [
      "(173, 3)\n"
     ]
    },
    {
     "data": {
      "text/html": [
       "<div>\n",
       "<style scoped>\n",
       "    .dataframe tbody tr th:only-of-type {\n",
       "        vertical-align: middle;\n",
       "    }\n",
       "\n",
       "    .dataframe tbody tr th {\n",
       "        vertical-align: top;\n",
       "    }\n",
       "\n",
       "    .dataframe thead th {\n",
       "        text-align: right;\n",
       "    }\n",
       "</style>\n",
       "<table border=\"1\" class=\"dataframe\">\n",
       "  <thead>\n",
       "    <tr style=\"text-align: right;\">\n",
       "      <th></th>\n",
       "      <th>text</th>\n",
       "      <th>label</th>\n",
       "      <th>intlabel</th>\n",
       "    </tr>\n",
       "  </thead>\n",
       "  <tbody>\n",
       "    <tr>\n",
       "      <th>75</th>\n",
       "      <td>co mohu zadat</td>\n",
       "      <td>pomoc</td>\n",
       "      <td>16</td>\n",
       "    </tr>\n",
       "    <tr>\n",
       "      <th>117</th>\n",
       "      <td>Potřeboval bych nastavit souhlas s inkasem, al...</td>\n",
       "      <td>zadat_inkaso</td>\n",
       "      <td>9</td>\n",
       "    </tr>\n",
       "    <tr>\n",
       "      <th>81</th>\n",
       "      <td>co teď</td>\n",
       "      <td>pomoc</td>\n",
       "      <td>16</td>\n",
       "    </tr>\n",
       "    <tr>\n",
       "      <th>93</th>\n",
       "      <td>Dobré odpoledne</td>\n",
       "      <td>pozdrav</td>\n",
       "      <td>14</td>\n",
       "    </tr>\n",
       "    <tr>\n",
       "      <th>152</th>\n",
       "      <td>změnit trvalý příkaz</td>\n",
       "      <td>zmenit_trvaly_prikaz</td>\n",
       "      <td>4</td>\n",
       "    </tr>\n",
       "  </tbody>\n",
       "</table>\n",
       "</div>"
      ],
      "text/plain": [
       "                                                  text                 label  \\\n",
       "75                                       co mohu zadat                 pomoc   \n",
       "117  Potřeboval bych nastavit souhlas s inkasem, al...          zadat_inkaso   \n",
       "81                                              co teď                 pomoc   \n",
       "93                                     Dobré odpoledne               pozdrav   \n",
       "152                               změnit trvalý příkaz  zmenit_trvaly_prikaz   \n",
       "\n",
       "     intlabel  \n",
       "75         16  \n",
       "117         9  \n",
       "81         16  \n",
       "93         14  \n",
       "152         4  "
      ]
     },
     "execution_count": 9,
     "metadata": {},
     "output_type": "execute_result"
    }
   ],
   "source": [
    "print(df.shape)\n",
    "df.sample(frac=1).head()"
   ]
  },
  {
   "cell_type": "code",
   "execution_count": 10,
   "id": "43887c36-7acc-4ba9-99e3-d28fb9f4e1f6",
   "metadata": {},
   "outputs": [
    {
     "data": {
      "text/html": [
       "<div>\n",
       "<style scoped>\n",
       "    .dataframe tbody tr th:only-of-type {\n",
       "        vertical-align: middle;\n",
       "    }\n",
       "\n",
       "    .dataframe tbody tr th {\n",
       "        vertical-align: top;\n",
       "    }\n",
       "\n",
       "    .dataframe thead th {\n",
       "        text-align: right;\n",
       "    }\n",
       "</style>\n",
       "<table border=\"1\" class=\"dataframe\">\n",
       "  <thead>\n",
       "    <tr style=\"text-align: right;\">\n",
       "      <th></th>\n",
       "      <th>label</th>\n",
       "      <th>counts</th>\n",
       "    </tr>\n",
       "  </thead>\n",
       "  <tbody>\n",
       "    <tr>\n",
       "      <th>0</th>\n",
       "      <td>all_in_one</td>\n",
       "      <td>2</td>\n",
       "    </tr>\n",
       "    <tr>\n",
       "      <th>1</th>\n",
       "      <td>bez_predcisli</td>\n",
       "      <td>3</td>\n",
       "    </tr>\n",
       "    <tr>\n",
       "      <th>2</th>\n",
       "      <td>blokace_karty</td>\n",
       "      <td>9</td>\n",
       "    </tr>\n",
       "    <tr>\n",
       "      <th>3</th>\n",
       "      <td>dekuji</td>\n",
       "      <td>4</td>\n",
       "    </tr>\n",
       "    <tr>\n",
       "      <th>4</th>\n",
       "      <td>go_back</td>\n",
       "      <td>5</td>\n",
       "    </tr>\n",
       "    <tr>\n",
       "      <th>5</th>\n",
       "      <td>hotovo</td>\n",
       "      <td>9</td>\n",
       "    </tr>\n",
       "    <tr>\n",
       "      <th>6</th>\n",
       "      <td>jednorazova_platba</td>\n",
       "      <td>17</td>\n",
       "    </tr>\n",
       "    <tr>\n",
       "      <th>7</th>\n",
       "      <td>jiny_email</td>\n",
       "      <td>4</td>\n",
       "    </tr>\n",
       "    <tr>\n",
       "      <th>8</th>\n",
       "      <td>jiny_ucet</td>\n",
       "      <td>2</td>\n",
       "    </tr>\n",
       "    <tr>\n",
       "      <th>9</th>\n",
       "      <td>konec</td>\n",
       "      <td>6</td>\n",
       "    </tr>\n",
       "    <tr>\n",
       "      <th>10</th>\n",
       "      <td>odeslani_platby</td>\n",
       "      <td>5</td>\n",
       "    </tr>\n",
       "    <tr>\n",
       "      <th>11</th>\n",
       "      <td>opravit</td>\n",
       "      <td>1</td>\n",
       "    </tr>\n",
       "    <tr>\n",
       "      <th>12</th>\n",
       "      <td>pokracovat</td>\n",
       "      <td>2</td>\n",
       "    </tr>\n",
       "    <tr>\n",
       "      <th>13</th>\n",
       "      <td>pomoc</td>\n",
       "      <td>20</td>\n",
       "    </tr>\n",
       "    <tr>\n",
       "      <th>14</th>\n",
       "      <td>pomoc_platby</td>\n",
       "      <td>2</td>\n",
       "    </tr>\n",
       "    <tr>\n",
       "      <th>15</th>\n",
       "      <td>pozdrav</td>\n",
       "      <td>6</td>\n",
       "    </tr>\n",
       "    <tr>\n",
       "      <th>16</th>\n",
       "      <td>say_again</td>\n",
       "      <td>8</td>\n",
       "    </tr>\n",
       "    <tr>\n",
       "      <th>17</th>\n",
       "      <td>validace</td>\n",
       "      <td>1</td>\n",
       "    </tr>\n",
       "    <tr>\n",
       "      <th>18</th>\n",
       "      <td>verifikace_platby_vse_spatne</td>\n",
       "      <td>3</td>\n",
       "    </tr>\n",
       "    <tr>\n",
       "      <th>19</th>\n",
       "      <td>zacit_znovu</td>\n",
       "      <td>7</td>\n",
       "    </tr>\n",
       "    <tr>\n",
       "      <th>20</th>\n",
       "      <td>zadat_inkaso</td>\n",
       "      <td>4</td>\n",
       "    </tr>\n",
       "    <tr>\n",
       "      <th>21</th>\n",
       "      <td>zadat_trvaly_prikaz</td>\n",
       "      <td>11</td>\n",
       "    </tr>\n",
       "    <tr>\n",
       "      <th>22</th>\n",
       "      <td>zadna_operace</td>\n",
       "      <td>2</td>\n",
       "    </tr>\n",
       "    <tr>\n",
       "      <th>23</th>\n",
       "      <td>zadost_o_strpeni</td>\n",
       "      <td>13</td>\n",
       "    </tr>\n",
       "    <tr>\n",
       "      <th>24</th>\n",
       "      <td>zmenit_inkaso</td>\n",
       "      <td>3</td>\n",
       "    </tr>\n",
       "    <tr>\n",
       "      <th>25</th>\n",
       "      <td>zmenit_trvaly_prikaz</td>\n",
       "      <td>5</td>\n",
       "    </tr>\n",
       "    <tr>\n",
       "      <th>26</th>\n",
       "      <td>zruseni_platby</td>\n",
       "      <td>4</td>\n",
       "    </tr>\n",
       "    <tr>\n",
       "      <th>27</th>\n",
       "      <td>zrusit_inkaso</td>\n",
       "      <td>4</td>\n",
       "    </tr>\n",
       "    <tr>\n",
       "      <th>28</th>\n",
       "      <td>zrusit_trvaly_prikaz</td>\n",
       "      <td>4</td>\n",
       "    </tr>\n",
       "    <tr>\n",
       "      <th>29</th>\n",
       "      <td>zustatek_uctu</td>\n",
       "      <td>7</td>\n",
       "    </tr>\n",
       "  </tbody>\n",
       "</table>\n",
       "</div>"
      ],
      "text/plain": [
       "                           label  counts\n",
       "0                     all_in_one       2\n",
       "1                  bez_predcisli       3\n",
       "2                  blokace_karty       9\n",
       "3                         dekuji       4\n",
       "4                        go_back       5\n",
       "5                         hotovo       9\n",
       "6             jednorazova_platba      17\n",
       "7                     jiny_email       4\n",
       "8                      jiny_ucet       2\n",
       "9                          konec       6\n",
       "10               odeslani_platby       5\n",
       "11                       opravit       1\n",
       "12                    pokracovat       2\n",
       "13                         pomoc      20\n",
       "14                  pomoc_platby       2\n",
       "15                       pozdrav       6\n",
       "16                     say_again       8\n",
       "17                      validace       1\n",
       "18  verifikace_platby_vse_spatne       3\n",
       "19                   zacit_znovu       7\n",
       "20                  zadat_inkaso       4\n",
       "21           zadat_trvaly_prikaz      11\n",
       "22                 zadna_operace       2\n",
       "23              zadost_o_strpeni      13\n",
       "24                 zmenit_inkaso       3\n",
       "25          zmenit_trvaly_prikaz       5\n",
       "26                zruseni_platby       4\n",
       "27                 zrusit_inkaso       4\n",
       "28          zrusit_trvaly_prikaz       4\n",
       "29                 zustatek_uctu       7"
      ]
     },
     "execution_count": 10,
     "metadata": {},
     "output_type": "execute_result"
    }
   ],
   "source": [
    "# count how many samples per label in the dataset\n",
    "dfcounts = df.groupby('label').size().reset_index(name='counts')\n",
    "dfcounts"
   ]
  },
  {
   "cell_type": "code",
   "execution_count": 11,
   "id": "840bcf7d-9826-44cd-aad1-76bb70d060cd",
   "metadata": {},
   "outputs": [],
   "source": [
    "# retrieve labels that have minimum number of samples\n",
    "dfmincounts = dfcounts[dfcounts.counts > 2]"
   ]
  },
  {
   "cell_type": "code",
   "execution_count": 12,
   "id": "40853c6e-17be-4e71-8223-3403fa89366b",
   "metadata": {},
   "outputs": [
    {
     "data": {
      "text/html": [
       "<div>\n",
       "<style scoped>\n",
       "    .dataframe tbody tr th:only-of-type {\n",
       "        vertical-align: middle;\n",
       "    }\n",
       "\n",
       "    .dataframe tbody tr th {\n",
       "        vertical-align: top;\n",
       "    }\n",
       "\n",
       "    .dataframe thead th {\n",
       "        text-align: right;\n",
       "    }\n",
       "</style>\n",
       "<table border=\"1\" class=\"dataframe\">\n",
       "  <thead>\n",
       "    <tr style=\"text-align: right;\">\n",
       "      <th></th>\n",
       "      <th>label</th>\n",
       "      <th>counts</th>\n",
       "    </tr>\n",
       "  </thead>\n",
       "  <tbody>\n",
       "    <tr>\n",
       "      <th>0</th>\n",
       "      <td>bez_predcisli</td>\n",
       "      <td>3</td>\n",
       "    </tr>\n",
       "    <tr>\n",
       "      <th>1</th>\n",
       "      <td>blokace_karty</td>\n",
       "      <td>9</td>\n",
       "    </tr>\n",
       "    <tr>\n",
       "      <th>2</th>\n",
       "      <td>dekuji</td>\n",
       "      <td>4</td>\n",
       "    </tr>\n",
       "    <tr>\n",
       "      <th>3</th>\n",
       "      <td>go_back</td>\n",
       "      <td>5</td>\n",
       "    </tr>\n",
       "    <tr>\n",
       "      <th>4</th>\n",
       "      <td>hotovo</td>\n",
       "      <td>9</td>\n",
       "    </tr>\n",
       "    <tr>\n",
       "      <th>5</th>\n",
       "      <td>jednorazova_platba</td>\n",
       "      <td>17</td>\n",
       "    </tr>\n",
       "    <tr>\n",
       "      <th>6</th>\n",
       "      <td>jiny_email</td>\n",
       "      <td>4</td>\n",
       "    </tr>\n",
       "    <tr>\n",
       "      <th>7</th>\n",
       "      <td>konec</td>\n",
       "      <td>6</td>\n",
       "    </tr>\n",
       "    <tr>\n",
       "      <th>8</th>\n",
       "      <td>odeslani_platby</td>\n",
       "      <td>5</td>\n",
       "    </tr>\n",
       "    <tr>\n",
       "      <th>9</th>\n",
       "      <td>pomoc</td>\n",
       "      <td>20</td>\n",
       "    </tr>\n",
       "    <tr>\n",
       "      <th>10</th>\n",
       "      <td>pozdrav</td>\n",
       "      <td>6</td>\n",
       "    </tr>\n",
       "    <tr>\n",
       "      <th>11</th>\n",
       "      <td>say_again</td>\n",
       "      <td>8</td>\n",
       "    </tr>\n",
       "    <tr>\n",
       "      <th>12</th>\n",
       "      <td>verifikace_platby_vse_spatne</td>\n",
       "      <td>3</td>\n",
       "    </tr>\n",
       "    <tr>\n",
       "      <th>13</th>\n",
       "      <td>zacit_znovu</td>\n",
       "      <td>7</td>\n",
       "    </tr>\n",
       "    <tr>\n",
       "      <th>14</th>\n",
       "      <td>zadat_inkaso</td>\n",
       "      <td>4</td>\n",
       "    </tr>\n",
       "    <tr>\n",
       "      <th>15</th>\n",
       "      <td>zadat_trvaly_prikaz</td>\n",
       "      <td>11</td>\n",
       "    </tr>\n",
       "    <tr>\n",
       "      <th>16</th>\n",
       "      <td>zadost_o_strpeni</td>\n",
       "      <td>13</td>\n",
       "    </tr>\n",
       "    <tr>\n",
       "      <th>17</th>\n",
       "      <td>zmenit_inkaso</td>\n",
       "      <td>3</td>\n",
       "    </tr>\n",
       "    <tr>\n",
       "      <th>18</th>\n",
       "      <td>zmenit_trvaly_prikaz</td>\n",
       "      <td>5</td>\n",
       "    </tr>\n",
       "    <tr>\n",
       "      <th>19</th>\n",
       "      <td>zruseni_platby</td>\n",
       "      <td>4</td>\n",
       "    </tr>\n",
       "    <tr>\n",
       "      <th>20</th>\n",
       "      <td>zrusit_inkaso</td>\n",
       "      <td>4</td>\n",
       "    </tr>\n",
       "    <tr>\n",
       "      <th>21</th>\n",
       "      <td>zrusit_trvaly_prikaz</td>\n",
       "      <td>4</td>\n",
       "    </tr>\n",
       "    <tr>\n",
       "      <th>22</th>\n",
       "      <td>zustatek_uctu</td>\n",
       "      <td>7</td>\n",
       "    </tr>\n",
       "  </tbody>\n",
       "</table>\n",
       "</div>"
      ],
      "text/plain": [
       "                           label  counts\n",
       "0                  bez_predcisli       3\n",
       "1                  blokace_karty       9\n",
       "2                         dekuji       4\n",
       "3                        go_back       5\n",
       "4                         hotovo       9\n",
       "5             jednorazova_platba      17\n",
       "6                     jiny_email       4\n",
       "7                          konec       6\n",
       "8                odeslani_platby       5\n",
       "9                          pomoc      20\n",
       "10                       pozdrav       6\n",
       "11                     say_again       8\n",
       "12  verifikace_platby_vse_spatne       3\n",
       "13                   zacit_znovu       7\n",
       "14                  zadat_inkaso       4\n",
       "15           zadat_trvaly_prikaz      11\n",
       "16              zadost_o_strpeni      13\n",
       "17                 zmenit_inkaso       3\n",
       "18          zmenit_trvaly_prikaz       5\n",
       "19                zruseni_platby       4\n",
       "20                 zrusit_inkaso       4\n",
       "21          zrusit_trvaly_prikaz       4\n",
       "22                 zustatek_uctu       7"
      ]
     },
     "execution_count": 12,
     "metadata": {},
     "output_type": "execute_result"
    }
   ],
   "source": [
    "# remove data with labels that have less than minimum number of samples\n",
    "df = df[df.label.isin(dfmincounts.label.tolist())]\n",
    "df['intlabel'] = df['label'].rank(method='dense', ascending=False).astype(int) - 1\n",
    "df.groupby('label').size().reset_index(name='counts')"
   ]
  },
  {
   "cell_type": "code",
   "execution_count": 13,
   "id": "080bc0f2-00ed-4d9b-b461-d3f6733c9b89",
   "metadata": {},
   "outputs": [
    {
     "data": {
      "text/plain": [
       "23"
      ]
     },
     "execution_count": 13,
     "metadata": {},
     "output_type": "execute_result"
    }
   ],
   "source": [
    "labelmapping = getmapping(df)\n",
    "n_labels = len(labelmapping.values())\n",
    "n_labels"
   ]
  },
  {
   "cell_type": "code",
   "execution_count": 14,
   "id": "1e17d6e9-9c18-47ff-b831-4bdd8d006faa",
   "metadata": {},
   "outputs": [],
   "source": [
    "texts = df.text.tolist()\n",
    "labels = df.intlabel.tolist()"
   ]
  },
  {
   "cell_type": "code",
   "execution_count": 15,
   "id": "f788fd68-d980-4899-96a8-890bf40e8e86",
   "metadata": {},
   "outputs": [],
   "source": [
    "trntxt, tsttxt, trnlbl, tstlbl = train_test_split(texts, labels, test_size=0.2)"
   ]
  },
  {
   "cell_type": "markdown",
   "id": "1a444710-8953-4fe6-8f24-2f326588602f",
   "metadata": {},
   "source": [
    "### 3. preprocess text"
   ]
  },
  {
   "cell_type": "markdown",
   "id": "9662ffb0-62c0-401f-9893-0c449efb2520",
   "metadata": {},
   "source": [
    "#### 3.1 balance training dataset"
   ]
  },
  {
   "cell_type": "code",
   "execution_count": 16,
   "id": "bf426d42-b6f1-447a-b986-8a41148ea487",
   "metadata": {},
   "outputs": [
    {
     "data": {
      "text/html": [
       "<div>\n",
       "<style scoped>\n",
       "    .dataframe tbody tr th:only-of-type {\n",
       "        vertical-align: middle;\n",
       "    }\n",
       "\n",
       "    .dataframe tbody tr th {\n",
       "        vertical-align: top;\n",
       "    }\n",
       "\n",
       "    .dataframe thead th {\n",
       "        text-align: right;\n",
       "    }\n",
       "</style>\n",
       "<table border=\"1\" class=\"dataframe\">\n",
       "  <thead>\n",
       "    <tr style=\"text-align: right;\">\n",
       "      <th></th>\n",
       "      <th>label</th>\n",
       "      <th>counts</th>\n",
       "    </tr>\n",
       "  </thead>\n",
       "  <tbody>\n",
       "    <tr>\n",
       "      <th>0</th>\n",
       "      <td>bez_predcisli</td>\n",
       "      <td>2</td>\n",
       "    </tr>\n",
       "    <tr>\n",
       "      <th>1</th>\n",
       "      <td>blokace_karty</td>\n",
       "      <td>7</td>\n",
       "    </tr>\n",
       "    <tr>\n",
       "      <th>2</th>\n",
       "      <td>dekuji</td>\n",
       "      <td>3</td>\n",
       "    </tr>\n",
       "    <tr>\n",
       "      <th>3</th>\n",
       "      <td>go_back</td>\n",
       "      <td>5</td>\n",
       "    </tr>\n",
       "    <tr>\n",
       "      <th>4</th>\n",
       "      <td>hotovo</td>\n",
       "      <td>8</td>\n",
       "    </tr>\n",
       "    <tr>\n",
       "      <th>5</th>\n",
       "      <td>jednorazova_platba</td>\n",
       "      <td>16</td>\n",
       "    </tr>\n",
       "    <tr>\n",
       "      <th>6</th>\n",
       "      <td>jiny_email</td>\n",
       "      <td>2</td>\n",
       "    </tr>\n",
       "    <tr>\n",
       "      <th>7</th>\n",
       "      <td>konec</td>\n",
       "      <td>5</td>\n",
       "    </tr>\n",
       "    <tr>\n",
       "      <th>8</th>\n",
       "      <td>odeslani_platby</td>\n",
       "      <td>4</td>\n",
       "    </tr>\n",
       "    <tr>\n",
       "      <th>9</th>\n",
       "      <td>pomoc</td>\n",
       "      <td>15</td>\n",
       "    </tr>\n",
       "    <tr>\n",
       "      <th>10</th>\n",
       "      <td>pozdrav</td>\n",
       "      <td>5</td>\n",
       "    </tr>\n",
       "    <tr>\n",
       "      <th>11</th>\n",
       "      <td>say_again</td>\n",
       "      <td>6</td>\n",
       "    </tr>\n",
       "    <tr>\n",
       "      <th>12</th>\n",
       "      <td>verifikace_platby_vse_spatne</td>\n",
       "      <td>3</td>\n",
       "    </tr>\n",
       "    <tr>\n",
       "      <th>13</th>\n",
       "      <td>zacit_znovu</td>\n",
       "      <td>4</td>\n",
       "    </tr>\n",
       "    <tr>\n",
       "      <th>14</th>\n",
       "      <td>zadat_inkaso</td>\n",
       "      <td>4</td>\n",
       "    </tr>\n",
       "    <tr>\n",
       "      <th>15</th>\n",
       "      <td>zadat_trvaly_prikaz</td>\n",
       "      <td>9</td>\n",
       "    </tr>\n",
       "    <tr>\n",
       "      <th>16</th>\n",
       "      <td>zadost_o_strpeni</td>\n",
       "      <td>10</td>\n",
       "    </tr>\n",
       "    <tr>\n",
       "      <th>17</th>\n",
       "      <td>zmenit_inkaso</td>\n",
       "      <td>3</td>\n",
       "    </tr>\n",
       "    <tr>\n",
       "      <th>18</th>\n",
       "      <td>zmenit_trvaly_prikaz</td>\n",
       "      <td>2</td>\n",
       "    </tr>\n",
       "    <tr>\n",
       "      <th>19</th>\n",
       "      <td>zruseni_platby</td>\n",
       "      <td>4</td>\n",
       "    </tr>\n",
       "    <tr>\n",
       "      <th>20</th>\n",
       "      <td>zrusit_inkaso</td>\n",
       "      <td>3</td>\n",
       "    </tr>\n",
       "    <tr>\n",
       "      <th>21</th>\n",
       "      <td>zrusit_trvaly_prikaz</td>\n",
       "      <td>2</td>\n",
       "    </tr>\n",
       "    <tr>\n",
       "      <th>22</th>\n",
       "      <td>zustatek_uctu</td>\n",
       "      <td>6</td>\n",
       "    </tr>\n",
       "  </tbody>\n",
       "</table>\n",
       "</div>"
      ],
      "text/plain": [
       "                           label  counts\n",
       "0                  bez_predcisli       2\n",
       "1                  blokace_karty       7\n",
       "2                         dekuji       3\n",
       "3                        go_back       5\n",
       "4                         hotovo       8\n",
       "5             jednorazova_platba      16\n",
       "6                     jiny_email       2\n",
       "7                          konec       5\n",
       "8                odeslani_platby       4\n",
       "9                          pomoc      15\n",
       "10                       pozdrav       5\n",
       "11                     say_again       6\n",
       "12  verifikace_platby_vse_spatne       3\n",
       "13                   zacit_znovu       4\n",
       "14                  zadat_inkaso       4\n",
       "15           zadat_trvaly_prikaz       9\n",
       "16              zadost_o_strpeni      10\n",
       "17                 zmenit_inkaso       3\n",
       "18          zmenit_trvaly_prikaz       2\n",
       "19                zruseni_platby       4\n",
       "20                 zrusit_inkaso       3\n",
       "21          zrusit_trvaly_prikaz       2\n",
       "22                 zustatek_uctu       6"
      ]
     },
     "execution_count": 16,
     "metadata": {},
     "output_type": "execute_result"
    }
   ],
   "source": [
    "# take a look into training data distribution to decide if balancing is necessary\n",
    "dftrn = pd.DataFrame({'text': trntxt, 'label': [labelmapping[key] for key in trnlbl], 'intlabel': trnlbl})\n",
    "dftrn.groupby('label').size().reset_index(name='counts')"
   ]
  },
  {
   "cell_type": "code",
   "execution_count": 17,
   "id": "7a2d38b6-7750-491c-8ff3-747a90900205",
   "metadata": {},
   "outputs": [],
   "source": [
    "from imblearn.over_sampling import RandomOverSampler\n",
    "import numpy as np"
   ]
  },
  {
   "cell_type": "code",
   "execution_count": 18,
   "id": "91f5c06c-1739-4619-bca7-98cb6dc08ddc",
   "metadata": {},
   "outputs": [],
   "source": [
    "sampler = RandomOverSampler(random_state=42)"
   ]
  },
  {
   "cell_type": "code",
   "execution_count": 19,
   "id": "b49a2f2e-3a07-40ba-9106-7c57f26ecd4e",
   "metadata": {},
   "outputs": [],
   "source": [
    "trntxt = np.asarray(trntxt)\n",
    "trntxt = trntxt[:, np.newaxis]"
   ]
  },
  {
   "cell_type": "code",
   "execution_count": 20,
   "id": "910afa40-ba54-4eca-a7b8-0485ef0e587a",
   "metadata": {},
   "outputs": [],
   "source": [
    "trntxt, trnlbl = sampler.fit_resample(trntxt, trnlbl)\n",
    "trntxt = trntxt.flatten().tolist()"
   ]
  },
  {
   "cell_type": "code",
   "execution_count": 21,
   "id": "89f1a325-6806-45f7-9497-47ca823556cc",
   "metadata": {},
   "outputs": [
    {
     "data": {
      "text/html": [
       "<div>\n",
       "<style scoped>\n",
       "    .dataframe tbody tr th:only-of-type {\n",
       "        vertical-align: middle;\n",
       "    }\n",
       "\n",
       "    .dataframe tbody tr th {\n",
       "        vertical-align: top;\n",
       "    }\n",
       "\n",
       "    .dataframe thead th {\n",
       "        text-align: right;\n",
       "    }\n",
       "</style>\n",
       "<table border=\"1\" class=\"dataframe\">\n",
       "  <thead>\n",
       "    <tr style=\"text-align: right;\">\n",
       "      <th></th>\n",
       "      <th>label</th>\n",
       "      <th>counts</th>\n",
       "    </tr>\n",
       "  </thead>\n",
       "  <tbody>\n",
       "    <tr>\n",
       "      <th>0</th>\n",
       "      <td>bez_predcisli</td>\n",
       "      <td>16</td>\n",
       "    </tr>\n",
       "    <tr>\n",
       "      <th>1</th>\n",
       "      <td>blokace_karty</td>\n",
       "      <td>16</td>\n",
       "    </tr>\n",
       "    <tr>\n",
       "      <th>2</th>\n",
       "      <td>dekuji</td>\n",
       "      <td>16</td>\n",
       "    </tr>\n",
       "    <tr>\n",
       "      <th>3</th>\n",
       "      <td>go_back</td>\n",
       "      <td>16</td>\n",
       "    </tr>\n",
       "    <tr>\n",
       "      <th>4</th>\n",
       "      <td>hotovo</td>\n",
       "      <td>16</td>\n",
       "    </tr>\n",
       "    <tr>\n",
       "      <th>5</th>\n",
       "      <td>jednorazova_platba</td>\n",
       "      <td>16</td>\n",
       "    </tr>\n",
       "    <tr>\n",
       "      <th>6</th>\n",
       "      <td>jiny_email</td>\n",
       "      <td>16</td>\n",
       "    </tr>\n",
       "    <tr>\n",
       "      <th>7</th>\n",
       "      <td>konec</td>\n",
       "      <td>16</td>\n",
       "    </tr>\n",
       "    <tr>\n",
       "      <th>8</th>\n",
       "      <td>odeslani_platby</td>\n",
       "      <td>16</td>\n",
       "    </tr>\n",
       "    <tr>\n",
       "      <th>9</th>\n",
       "      <td>pomoc</td>\n",
       "      <td>16</td>\n",
       "    </tr>\n",
       "    <tr>\n",
       "      <th>10</th>\n",
       "      <td>pozdrav</td>\n",
       "      <td>16</td>\n",
       "    </tr>\n",
       "    <tr>\n",
       "      <th>11</th>\n",
       "      <td>say_again</td>\n",
       "      <td>16</td>\n",
       "    </tr>\n",
       "    <tr>\n",
       "      <th>12</th>\n",
       "      <td>verifikace_platby_vse_spatne</td>\n",
       "      <td>16</td>\n",
       "    </tr>\n",
       "    <tr>\n",
       "      <th>13</th>\n",
       "      <td>zacit_znovu</td>\n",
       "      <td>16</td>\n",
       "    </tr>\n",
       "    <tr>\n",
       "      <th>14</th>\n",
       "      <td>zadat_inkaso</td>\n",
       "      <td>16</td>\n",
       "    </tr>\n",
       "    <tr>\n",
       "      <th>15</th>\n",
       "      <td>zadat_trvaly_prikaz</td>\n",
       "      <td>16</td>\n",
       "    </tr>\n",
       "    <tr>\n",
       "      <th>16</th>\n",
       "      <td>zadost_o_strpeni</td>\n",
       "      <td>16</td>\n",
       "    </tr>\n",
       "    <tr>\n",
       "      <th>17</th>\n",
       "      <td>zmenit_inkaso</td>\n",
       "      <td>16</td>\n",
       "    </tr>\n",
       "    <tr>\n",
       "      <th>18</th>\n",
       "      <td>zmenit_trvaly_prikaz</td>\n",
       "      <td>16</td>\n",
       "    </tr>\n",
       "    <tr>\n",
       "      <th>19</th>\n",
       "      <td>zruseni_platby</td>\n",
       "      <td>16</td>\n",
       "    </tr>\n",
       "    <tr>\n",
       "      <th>20</th>\n",
       "      <td>zrusit_inkaso</td>\n",
       "      <td>16</td>\n",
       "    </tr>\n",
       "    <tr>\n",
       "      <th>21</th>\n",
       "      <td>zrusit_trvaly_prikaz</td>\n",
       "      <td>16</td>\n",
       "    </tr>\n",
       "    <tr>\n",
       "      <th>22</th>\n",
       "      <td>zustatek_uctu</td>\n",
       "      <td>16</td>\n",
       "    </tr>\n",
       "  </tbody>\n",
       "</table>\n",
       "</div>"
      ],
      "text/plain": [
       "                           label  counts\n",
       "0                  bez_predcisli      16\n",
       "1                  blokace_karty      16\n",
       "2                         dekuji      16\n",
       "3                        go_back      16\n",
       "4                         hotovo      16\n",
       "5             jednorazova_platba      16\n",
       "6                     jiny_email      16\n",
       "7                          konec      16\n",
       "8                odeslani_platby      16\n",
       "9                          pomoc      16\n",
       "10                       pozdrav      16\n",
       "11                     say_again      16\n",
       "12  verifikace_platby_vse_spatne      16\n",
       "13                   zacit_znovu      16\n",
       "14                  zadat_inkaso      16\n",
       "15           zadat_trvaly_prikaz      16\n",
       "16              zadost_o_strpeni      16\n",
       "17                 zmenit_inkaso      16\n",
       "18          zmenit_trvaly_prikaz      16\n",
       "19                zruseni_platby      16\n",
       "20                 zrusit_inkaso      16\n",
       "21          zrusit_trvaly_prikaz      16\n",
       "22                 zustatek_uctu      16"
      ]
     },
     "execution_count": 21,
     "metadata": {},
     "output_type": "execute_result"
    }
   ],
   "source": [
    "# chech the result of balancing\n",
    "dftrn = pd.DataFrame({'text': trntxt, 'label': [labelmapping[key] for key in trnlbl], 'intlabel': trnlbl})\n",
    "dftrn.groupby('label').size().reset_index(name='counts')"
   ]
  },
  {
   "cell_type": "markdown",
   "id": "85800695-e2f6-4ca3-9ef9-83f35406b23c",
   "metadata": {},
   "source": [
    "#### 3.2 encode string data with tokenizer"
   ]
  },
  {
   "cell_type": "code",
   "execution_count": 22,
   "id": "d6fb0ba6-d503-43ca-8420-3d6c51c4b31e",
   "metadata": {},
   "outputs": [
    {
     "name": "stderr",
     "output_type": "stream",
     "text": [
      "/home/barinale/miniconda3/envs/ner/lib/python3.7/site-packages/tqdm/auto.py:22: TqdmWarning: IProgress not found. Please update jupyter and ipywidgets. See https://ipywidgets.readthedocs.io/en/stable/user_install.html\n",
      "  from .autonotebook import tqdm as notebook_tqdm\n"
     ]
    }
   ],
   "source": [
    "from transformers import AutoTokenizer"
   ]
  },
  {
   "cell_type": "code",
   "execution_count": 25,
   "id": "48eaceeb-774c-4956-aa69-1ef2c5986d67",
   "metadata": {},
   "outputs": [
    {
     "name": "stderr",
     "output_type": "stream",
     "text": [
      "Downloading: 100%|██████████████████████████████████████████████████████| 402/402 [00:00<00:00, 176kB/s]\n",
      "Downloading: 100%|██████████████████████████████████████████████████████| 723/723 [00:00<00:00, 583kB/s]\n",
      "Downloading: 100%|█████████████████████████████████████████████████| 4.83M/4.83M [00:02<00:00, 2.53MB/s]\n",
      "Downloading: 100%|█████████████████████████████████████████████████| 8.66M/8.66M [07:21<00:00, 20.6kB/s]\n",
      "Downloading: 100%|█████████████████████████████████████████████████████| 239/239 [00:00<00:00, 41.0kB/s]\n"
     ]
    }
   ],
   "source": [
    "# load the same tokenizer a model was trained with\n",
    "tokenizer = AutoTokenizer.from_pretrained(\"sentence-transformers/paraphrase-multilingual-mpnet-base-v2\")"
   ]
  },
  {
   "cell_type": "code",
   "execution_count": 26,
   "id": "fb496c93-67fa-42a0-8d10-94cbb7eecc0f",
   "metadata": {},
   "outputs": [],
   "source": [
    "trnencodings = tokenizer(trntxt, truncation=True, padding=True)\n",
    "tstencodings = tokenizer(tsttxt, truncation=True, padding=True)"
   ]
  },
  {
   "cell_type": "code",
   "execution_count": 27,
   "id": "3ec01f54-3b14-49f8-a6d1-024456b53c77",
   "metadata": {},
   "outputs": [],
   "source": [
    "trndata = [{'label': label, 'input_ids': inid, 'attention_mask': atmask} for label, inid, atmask in zip(trnlbl, trnencodings['input_ids'], trnencodings['attention_mask'])]\n",
    "tstdata = [{'label': label, 'input_ids': inid, 'attention_mask': atmask} for label, inid, atmask in zip(tstlbl, tstencodings['input_ids'], tstencodings['attention_mask'])]"
   ]
  },
  {
   "cell_type": "markdown",
   "id": "b02ce3fc-994a-4abe-a0b2-bfd9e2ad1516",
   "metadata": {},
   "source": [
    "### 4. load pretrained model"
   ]
  },
  {
   "cell_type": "code",
   "execution_count": 28,
   "id": "af7027aa-917e-4237-849e-48c0cee7e0a6",
   "metadata": {},
   "outputs": [],
   "source": [
    "from transformers import AutoModelForSequenceClassification"
   ]
  },
  {
   "cell_type": "code",
   "execution_count": 29,
   "id": "0281ca1e-bbcb-4897-bb5e-032fd0a98b3f",
   "metadata": {},
   "outputs": [
    {
     "name": "stderr",
     "output_type": "stream",
     "text": [
      "Downloading: 100%|█████████████████████████████████████████████████| 1.04G/1.04G [07:02<00:00, 2.63MB/s]\n",
      "Some weights of the model checkpoint at sentence-transformers/paraphrase-multilingual-mpnet-base-v2 were not used when initializing XLMRobertaForSequenceClassification: ['pooler.dense.weight', 'pooler.dense.bias']\n",
      "- This IS expected if you are initializing XLMRobertaForSequenceClassification from the checkpoint of a model trained on another task or with another architecture (e.g. initializing a BertForSequenceClassification model from a BertForPreTraining model).\n",
      "- This IS NOT expected if you are initializing XLMRobertaForSequenceClassification from the checkpoint of a model that you expect to be exactly identical (initializing a BertForSequenceClassification model from a BertForSequenceClassification model).\n",
      "Some weights of XLMRobertaForSequenceClassification were not initialized from the model checkpoint at sentence-transformers/paraphrase-multilingual-mpnet-base-v2 and are newly initialized: ['classifier.out_proj.bias', 'classifier.dense.weight', 'classifier.dense.bias', 'classifier.out_proj.weight']\n",
      "You should probably TRAIN this model on a down-stream task to be able to use it for predictions and inference.\n"
     ]
    }
   ],
   "source": [
    "model = AutoModelForSequenceClassification.from_pretrained(\"sentence-transformers/paraphrase-multilingual-mpnet-base-v2\", num_labels=n_labels)"
   ]
  },
  {
   "cell_type": "markdown",
   "id": "acb0d47a-59f6-4ed0-b316-75779f60d87f",
   "metadata": {},
   "source": [
    "### 5. Fit model on a custom dataset"
   ]
  },
  {
   "cell_type": "code",
   "execution_count": 30,
   "id": "4fecb8f1-ebb7-46c3-a16b-b5d55bf1f18b",
   "metadata": {},
   "outputs": [],
   "source": [
    "from transformers import TrainingArguments, Trainer"
   ]
  },
  {
   "cell_type": "code",
   "execution_count": 31,
   "id": "caada46d-f02d-4c6f-9dc0-5a49fc63de42",
   "metadata": {},
   "outputs": [],
   "source": [
    "training_args = TrainingArguments(\n",
    "    output_dir=\"./tunedbert\",\n",
    "    do_eval=True,\n",
    "    evaluation_strategy=\"epoch\",\n",
    "    learning_rate=2e-4,\n",
    "    per_device_train_batch_size=16,\n",
    "    per_device_eval_batch_size=16,\n",
    "    logging_strategy=\"epoch\",\n",
    "    num_train_epochs=10,\n",
    "    weight_decay=0.01,\n",
    ")\n",
    "trainer = Trainer(\n",
    "    model=model,\n",
    "    args=training_args,\n",
    "    train_dataset=trndata,\n",
    "    eval_dataset=tstdata,\n",
    "    tokenizer=tokenizer,\n",
    ")"
   ]
  },
  {
   "cell_type": "code",
   "execution_count": null,
   "id": "98ff9158-7cd9-48e7-b76b-67d2abfeb1ef",
   "metadata": {},
   "outputs": [
    {
     "name": "stderr",
     "output_type": "stream",
     "text": [
      "***** Running training *****\n",
      "  Num examples = 368\n",
      "  Num Epochs = 10\n",
      "  Instantaneous batch size per device = 16\n",
      "  Total train batch size (w. parallel, distributed & accumulation) = 16\n",
      "  Gradient Accumulation steps = 1\n",
      "  Total optimization steps = 230\n"
     ]
    }
   ],
   "source": [
    "trainer.train()"
   ]
  },
  {
   "cell_type": "code",
   "execution_count": 68,
   "id": "1a8ff15c-c1fe-47e8-afc7-7bf744a12584",
   "metadata": {},
   "outputs": [],
   "source": [
    "history = np.asarray(trainer.state.log_history[:-1])\n",
    "loss = history[::2]\n",
    "evalloss = history[1::2]\n",
    "loss = [entry['loss'] for entry in loss]\n",
    "evalloss = [entry['eval_loss'] for entry in evalloss]"
   ]
  },
  {
   "cell_type": "code",
   "execution_count": 3,
   "id": "f7c34c64-f77d-4f32-8491-54b852c933b5",
   "metadata": {},
   "outputs": [],
   "source": [
    "import matplotlib.pyplot as plt"
   ]
  },
  {
   "cell_type": "code",
   "execution_count": 70,
   "id": "93439822-890e-4623-9ebf-c84868b9a1b7",
   "metadata": {},
   "outputs": [],
   "source": [
    "def learningcurve(loss: list, evalloss: list):\n",
    "    plt.figure()\n",
    "    plt.xlabel(\"epoch\")\n",
    "    plt.ylabel(\"loss\")\n",
    "    epochs = np.arange(len(loss))\n",
    "    plt.plot(epochs, loss, color='b')\n",
    "    plt.plot(epochs, evalloss, color='r')\n",
    "    plt.legend(['train loss', 'test loss'])\n",
    "    plt.show()"
   ]
  },
  {
   "cell_type": "code",
   "execution_count": 71,
   "id": "336e17b4-05a9-4a5a-894f-d9539d13263e",
   "metadata": {},
   "outputs": [
    {
     "data": {
      "image/png": "[encoded data removed]",
      "text/plain": [
       "<Figure size 432x288 with 1 Axes>"
      ]
     },
     "metadata": {
      "needs_background": "light"
     },
     "output_type": "display_data"
    }
   ],
   "source": [
    "learningcurve(loss, evalloss)"
   ]
  },
  {
   "cell_type": "markdown",
   "id": "e95a904b-61d2-4b5b-9c59-5d1f48801adf",
   "metadata": {},
   "source": [
    "### 6. Test trained model"
   ]
  },
  {
   "cell_type": "code",
   "execution_count": 4,
   "id": "91eb97ec-4051-4b27-a889-268cb9dc4475",
   "metadata": {},
   "outputs": [],
   "source": [
    "import time"
   ]
  },
  {
   "cell_type": "code",
   "execution_count": 72,
   "id": "5efcf853-7062-4606-978c-5a0c1a6992d7",
   "metadata": {},
   "outputs": [
    {
     "name": "stderr",
     "output_type": "stream",
     "text": [
      "***** Running Prediction *****\n",
      "  Num examples = 33\n",
      "  Batch size = 16\n"
     ]
    },
    {
     "data": {
      "text/html": [
       "\n",
       "    <div>\n",
       "      \n",
       "      <progress value='3' max='3' style='width:300px; height:20px; vertical-align: middle;'></progress>\n",
       "      [3/3 00:00]\n",
       "    </div>\n",
       "    "
      ],
      "text/plain": [
       "<IPython.core.display.HTML object>"
      ]
     },
     "metadata": {},
     "output_type": "display_data"
    }
   ],
   "source": [
    "start = time.time()\n",
    "rawpredictions = trainer.predict(tstdata)\n",
    "predtime = time.time() - start\n",
    "pred_intlabels = np.argmax(rawpredictions.predictions, axis=1)\n",
    "pred_labels = [labelmapping[lbl] for lbl in pred_intlabels]\n",
    "gt_intlabels = np.array([entry['label'] for entry in tstdata])\n",
    "gt_labels = [labelmapping[lbl] for lbl in gt_intlabels]"
   ]
  },
  {
   "cell_type": "code",
   "execution_count": 73,
   "id": "d56c9721-6373-4968-a3dc-901b1e52600d",
   "metadata": {},
   "outputs": [
    {
     "data": {
      "text/plain": [
       "'ACCURACY: 0.696969696969697; 23 correct out of 33'"
      ]
     },
     "execution_count": 73,
     "metadata": {},
     "output_type": "execute_result"
    }
   ],
   "source": [
    "correct = np.sum(pred_intlabels == gt_intlabels)\n",
    "accuracy = correct / gt_intlabels.shape[0]\n",
    "f\"ACCURACY: {accuracy}; {correct} correct out of {gt_intlabels.shape[0]}\""
   ]
  },
  {
   "cell_type": "code",
   "execution_count": 74,
   "id": "379a2553-55ce-4257-8a7e-f7abf71a296c",
   "metadata": {},
   "outputs": [
    {
     "data": {
      "text/plain": [
       "[{'text': 'Potřeboval bych nastavit souhlas s inkasem, ale nejde mi to.',\n",
       "  'prediction': 'zrusit_inkaso',\n",
       "  'ground truth': 'zadat_inkaso'},\n",
       " {'text': 'zrušit trvalý příkaz',\n",
       "  'prediction': 'zrusit_trvaly_prikaz',\n",
       "  'ground truth': 'zrusit_trvaly_prikaz'},\n",
       " {'text': 'kde to jsem', 'prediction': 'pomoc', 'ground truth': 'pomoc'},\n",
       " {'text': 'co mohu dělat', 'prediction': 'pomoc', 'ground truth': 'pomoc'},\n",
       " {'text': 'Jen si to připravím.',\n",
       "  'prediction': 'konec',\n",
       "  'ground truth': 'zadost_o_strpeni'},\n",
       " {'text': 'co se to děje', 'prediction': 'pomoc', 'ground truth': 'pomoc'},\n",
       " {'text': 'Jen si dojdu pro číslo účtu.',\n",
       "  'prediction': 'zadat_trvaly_prikaz',\n",
       "  'ground truth': 'zadost_o_strpeni'},\n",
       " {'text': 'chci odeslat platbu',\n",
       "  'prediction': 'jednorazova_platba',\n",
       "  'ground truth': 'odeslani_platby'},\n",
       " {'text': 'Koupil jsem si na internetu pračku, a potřebuji ji zaplatit.',\n",
       "  'prediction': 'zruseni_platby',\n",
       "  'ground truth': 'jednorazova_platba'},\n",
       " {'text': 'Díky', 'prediction': 'dekuji', 'ground truth': 'dekuji'},\n",
       " {'text': 'normální platba',\n",
       "  'prediction': 'blokace_karty',\n",
       "  'ground truth': 'jednorazova_platba'},\n",
       " {'text': 'Dá se takhle po telefonu zřídit trvalý příkaz, nebo musím do banky?',\n",
       "  'prediction': 'zadat_trvaly_prikaz',\n",
       "  'ground truth': 'zadat_trvaly_prikaz'},\n",
       " {'text': 'řekni to znova',\n",
       "  'prediction': 'say_again',\n",
       "  'ground truth': 'say_again'},\n",
       " {'text': 'vše', 'prediction': 'hotovo', 'ground truth': 'hotovo'},\n",
       " {'text': 'změnit trvalý příkaz',\n",
       "  'prediction': 'zmenit_trvaly_prikaz',\n",
       "  'ground truth': 'zmenit_trvaly_prikaz'},\n",
       " {'text': 'Vydrž', 'prediction': 'pomoc', 'ground truth': 'zadost_o_strpeni'},\n",
       " {'text': 'Chtěl bych zadat inkaso.',\n",
       "  'prediction': 'zadat_inkaso',\n",
       "  'ground truth': 'zadat_inkaso'},\n",
       " {'text': 'co mohu říct', 'prediction': 'pomoc', 'ground truth': 'pomoc'},\n",
       " {'text': 'odešli',\n",
       "  'prediction': 'zacit_znovu',\n",
       "  'ground truth': 'odeslani_platby'},\n",
       " {'text': 'bez předčíslí',\n",
       "  'prediction': 'bez_predcisli',\n",
       "  'ground truth': 'bez_predcisli'},\n",
       " {'text': 'Dejte mi chvilku.',\n",
       "  'prediction': 'zadost_o_strpeni',\n",
       "  'ground truth': 'zadost_o_strpeni'},\n",
       " {'text': 'jiný email',\n",
       "  'prediction': 'jiny_email',\n",
       "  'ground truth': 'jiny_email'},\n",
       " {'text': 'Začít znovu',\n",
       "  'prediction': 'zacit_znovu',\n",
       "  'ground truth': 'zacit_znovu'},\n",
       " {'text': 'Vydrž prosím',\n",
       "  'prediction': 'zadost_o_strpeni',\n",
       "  'ground truth': 'zadost_o_strpeni'},\n",
       " {'text': 'jdeme dál', 'prediction': 'go_back', 'ground truth': 'hotovo'},\n",
       " {'text': 'Chci poslat tři tisíce ségře.',\n",
       "  'prediction': 'jednorazova_platba',\n",
       "  'ground truth': 'jednorazova_platba'},\n",
       " {'text': 'Dá se přes telefon nastavit trvalý příkaz?',\n",
       "  'prediction': 'zadat_trvaly_prikaz',\n",
       "  'ground truth': 'zadat_trvaly_prikaz'},\n",
       " {'text': 'to je vše', 'prediction': 'hotovo', 'ground truth': 'hotovo'},\n",
       " {'text': 'jedeme dál', 'prediction': 'konec', 'ground truth': 'hotovo'},\n",
       " {'text': 'jinou mailovou adresu',\n",
       "  'prediction': 'jiny_email',\n",
       "  'ground truth': 'jiny_email'},\n",
       " {'text': 'co mám dělat', 'prediction': 'pomoc', 'ground truth': 'pomoc'},\n",
       " {'text': 'chci poslat peníze',\n",
       "  'prediction': 'jednorazova_platba',\n",
       "  'ground truth': 'jednorazova_platba'},\n",
       " {'text': 'co můžu dělat', 'prediction': 'pomoc', 'ground truth': 'pomoc'}]"
      ]
     },
     "execution_count": 74,
     "metadata": {},
     "output_type": "execute_result"
    }
   ],
   "source": [
    "result = [{'text': txt, 'prediction': pred, 'ground truth': gt} for txt, pred, gt in zip(tsttxt, pred_labels, gt_labels)]\n",
    "result"
   ]
  },
  {
   "cell_type": "code",
   "execution_count": null,
   "id": "049c5ad6-6bd4-4621-841c-212215b2d94f",
   "metadata": {},
   "outputs": [],
   "source": []
  }
 ],
 "metadata": {
  "kernelspec": {
   "display_name": "Python 3 (ipykernel)",
   "language": "python",
   "name": "python3"
  },
  "language_info": {
   "codemirror_mode": {
    "name": "ipython",
    "version": 3
   },
   "file_extension": ".py",
   "mimetype": "text/x-python",
   "name": "python",
   "nbconvert_exporter": "python",
   "pygments_lexer": "ipython3",
   "version": "3.7.11"
  }
 },
 "nbformat": 4,
 "nbformat_minor": 5
}
