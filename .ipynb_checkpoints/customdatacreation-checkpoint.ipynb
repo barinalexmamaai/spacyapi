{
 "cells": [
  {
   "cell_type": "markdown",
   "id": "95e66b01-3893-4379-b315-ede82efeb6d8",
   "metadata": {},
   "source": [
    "## Create custom dataset"
   ]
  },
  {
   "cell_type": "code",
   "execution_count": 6,
   "id": "78f665b5-5346-4a77-9ec5-dc4813f2d720",
   "metadata": {},
   "outputs": [],
   "source": [
    "import pandas as pd\n",
    "import numpy as np"
   ]
  },
  {
   "cell_type": "code",
   "execution_count": 25,
   "id": "40765282-b51b-4f7a-8346-ef12b80247ce",
   "metadata": {},
   "outputs": [],
   "source": [
    "data = {\"HELP\": [\"pomoc\", \"potřebuju pomoc\", \"pomoz mi\", \"zobraz nápovědu\", \"nápověda\", \"nevím co dál\", \"co mám dělat dál\", \"poraď mi\"],\n",
    "        \"CONFIRMATION_YES\": [\"ano\", \"jo\", \"ok\", \"jasně\"],\n",
    "        \"CONFIRMATION_NO\": [\"ne\", \"ani náhodou\", \"zrušit\", \"omyl\", \"rozmyslel jsem se\"],\n",
    "        \"NEXT\": [\"další krok\", \"chci dělat něco nového\", \"jdeme dál\"],\n",
    "        \"RESTART\": [\"restart levelu\", \"restart\", \"odznova\", \"celé znovu\", \"tak znovu\"],\n",
    "        \"IRRELEVANT\": [\"určitou část dne\", \"ale každý obývá\", \"ještě devět mužských a dva ženské\", \"zvuky či videa\", \"je městský park ve východní části\"]}"
   ]
  },
  {
   "cell_type": "code",
   "execution_count": 26,
   "id": "f4480d0b-194e-45bc-bae7-aeed36c7ae5d",
   "metadata": {},
   "outputs": [],
   "source": [
    "# convert to texts and labels\n",
    "columns = {\"text\": [], \"label\": []}\n",
    "for key, value in data.items():\n",
    "    columns[\"text\"] += value\n",
    "    labels = np.repeat(key, len(value)).tolist()\n",
    "    columns[\"label\"] += labels"
   ]
  },
  {
   "cell_type": "code",
   "execution_count": 28,
   "id": "36417adf-50b5-43ac-954e-f58b384756d1",
   "metadata": {},
   "outputs": [],
   "source": [
    "df = pd.DataFrame(columns)"
   ]
  },
  {
   "cell_type": "code",
   "execution_count": 31,
   "id": "d0a1b8a5-67f2-4e87-b6c6-d31914d74bfb",
   "metadata": {},
   "outputs": [
    {
     "data": {
      "text/html": [
       "<div>\n",
       "<style scoped>\n",
       "    .dataframe tbody tr th:only-of-type {\n",
       "        vertical-align: middle;\n",
       "    }\n",
       "\n",
       "    .dataframe tbody tr th {\n",
       "        vertical-align: top;\n",
       "    }\n",
       "\n",
       "    .dataframe thead th {\n",
       "        text-align: right;\n",
       "    }\n",
       "</style>\n",
       "<table border=\"1\" class=\"dataframe\">\n",
       "  <thead>\n",
       "    <tr style=\"text-align: right;\">\n",
       "      <th></th>\n",
       "      <th>text</th>\n",
       "      <th>label</th>\n",
       "    </tr>\n",
       "  </thead>\n",
       "  <tbody>\n",
       "    <tr>\n",
       "      <th>0</th>\n",
       "      <td>pomoc</td>\n",
       "      <td>HELP</td>\n",
       "    </tr>\n",
       "    <tr>\n",
       "      <th>1</th>\n",
       "      <td>potřebuju pomoc</td>\n",
       "      <td>HELP</td>\n",
       "    </tr>\n",
       "    <tr>\n",
       "      <th>2</th>\n",
       "      <td>pomoz mi</td>\n",
       "      <td>HELP</td>\n",
       "    </tr>\n",
       "    <tr>\n",
       "      <th>3</th>\n",
       "      <td>zobraz nápovědu</td>\n",
       "      <td>HELP</td>\n",
       "    </tr>\n",
       "    <tr>\n",
       "      <th>4</th>\n",
       "      <td>nápověda</td>\n",
       "      <td>HELP</td>\n",
       "    </tr>\n",
       "  </tbody>\n",
       "</table>\n",
       "</div>"
      ],
      "text/plain": [
       "              text label\n",
       "0            pomoc  HELP\n",
       "1  potřebuju pomoc  HELP\n",
       "2         pomoz mi  HELP\n",
       "3  zobraz nápovědu  HELP\n",
       "4         nápověda  HELP"
      ]
     },
     "execution_count": 31,
     "metadata": {},
     "output_type": "execute_result"
    }
   ],
   "source": [
    "df.head()"
   ]
  },
  {
   "cell_type": "code",
   "execution_count": 33,
   "id": "cd113b6b-a66c-4d0e-87ec-699336fe559e",
   "metadata": {},
   "outputs": [],
   "source": [
    "path = \"data/dummycsdata.csv\""
   ]
  },
  {
   "cell_type": "code",
   "execution_count": 35,
   "id": "3a7a815e-8e65-4734-b0c7-c3b34fe3ff36",
   "metadata": {},
   "outputs": [],
   "source": [
    "df.to_csv(path, index=False)"
   ]
  },
  {
   "cell_type": "markdown",
   "id": "40c82afa-8057-4944-9c4d-1cb2f72b6ed6",
   "metadata": {},
   "source": [
    "### Verify created dataset"
   ]
  },
  {
   "cell_type": "code",
   "execution_count": 36,
   "id": "02865faf-014d-41b5-8841-63729890d3f3",
   "metadata": {},
   "outputs": [],
   "source": [
    "loaded = pd.read_csv(path)"
   ]
  },
  {
   "cell_type": "code",
   "execution_count": 37,
   "id": "dd200448-0e63-4f91-97e8-f62543663648",
   "metadata": {},
   "outputs": [
    {
     "data": {
      "text/html": [
       "<div>\n",
       "<style scoped>\n",
       "    .dataframe tbody tr th:only-of-type {\n",
       "        vertical-align: middle;\n",
       "    }\n",
       "\n",
       "    .dataframe tbody tr th {\n",
       "        vertical-align: top;\n",
       "    }\n",
       "\n",
       "    .dataframe thead th {\n",
       "        text-align: right;\n",
       "    }\n",
       "</style>\n",
       "<table border=\"1\" class=\"dataframe\">\n",
       "  <thead>\n",
       "    <tr style=\"text-align: right;\">\n",
       "      <th></th>\n",
       "      <th>text</th>\n",
       "      <th>label</th>\n",
       "    </tr>\n",
       "  </thead>\n",
       "  <tbody>\n",
       "    <tr>\n",
       "      <th>0</th>\n",
       "      <td>pomoc</td>\n",
       "      <td>HELP</td>\n",
       "    </tr>\n",
       "    <tr>\n",
       "      <th>1</th>\n",
       "      <td>potřebuju pomoc</td>\n",
       "      <td>HELP</td>\n",
       "    </tr>\n",
       "    <tr>\n",
       "      <th>2</th>\n",
       "      <td>pomoz mi</td>\n",
       "      <td>HELP</td>\n",
       "    </tr>\n",
       "    <tr>\n",
       "      <th>3</th>\n",
       "      <td>zobraz nápovědu</td>\n",
       "      <td>HELP</td>\n",
       "    </tr>\n",
       "    <tr>\n",
       "      <th>4</th>\n",
       "      <td>nápověda</td>\n",
       "      <td>HELP</td>\n",
       "    </tr>\n",
       "  </tbody>\n",
       "</table>\n",
       "</div>"
      ],
      "text/plain": [
       "              text label\n",
       "0            pomoc  HELP\n",
       "1  potřebuju pomoc  HELP\n",
       "2         pomoz mi  HELP\n",
       "3  zobraz nápovědu  HELP\n",
       "4         nápověda  HELP"
      ]
     },
     "execution_count": 37,
     "metadata": {},
     "output_type": "execute_result"
    }
   ],
   "source": [
    "loaded.head()"
   ]
  }
 ],
 "metadata": {
  "kernelspec": {
   "display_name": "Python 3 (ipykernel)",
   "language": "python",
   "name": "python3"
  },
  "language_info": {
   "codemirror_mode": {
    "name": "ipython",
    "version": 3
   },
   "file_extension": ".py",
   "mimetype": "text/x-python",
   "name": "python",
   "nbconvert_exporter": "python",
   "pygments_lexer": "ipython3",
   "version": "3.7.11"
  }
 },
 "nbformat": 4,
 "nbformat_minor": 5
}
