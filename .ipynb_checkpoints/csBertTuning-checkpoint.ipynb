{
 "cells": [
  {
   "cell_type": "markdown",
   "id": "95e66b01-3893-4379-b315-ede82efeb6d8",
   "metadata": {},
   "source": [
    "## fine tune bert model for custom dataset"
   ]
  },
  {
   "cell_type": "markdown",
   "id": "48530009-5e4d-45aa-875e-4bbb02b9b577",
   "metadata": {},
   "source": [
    "### 1. install libraries"
   ]
  },
  {
   "cell_type": "code",
   "execution_count": 22,
   "id": "1979f468-fe07-4724-9749-2f6af83bc484",
   "metadata": {},
   "outputs": [
    {
     "name": "stdout",
     "output_type": "stream",
     "text": [
      "huggingface/tokenizers: The current process just got forked, after parallelism has already been used. Disabling parallelism to avoid deadlocks...\n",
      "To disable this warning, you can either:\n",
      "\t- Avoid using `tokenizers` before the fork if possible\n",
      "\t- Explicitly set the environment variable TOKENIZERS_PARALLELISM=(true | false)\n",
      "Requirement already satisfied: transformers in /home/barinale/miniconda3/envs/ner/lib/python3.7/site-packages (4.14.1)\n",
      "Requirement already satisfied: numpy>=1.17 in /home/barinale/miniconda3/envs/ner/lib/python3.7/site-packages (from transformers) (1.19.2)\n",
      "Requirement already satisfied: huggingface-hub<1.0,>=0.1.0 in /home/barinale/miniconda3/envs/ner/lib/python3.7/site-packages (from transformers) (0.2.1)\n",
      "Requirement already satisfied: filelock in /home/barinale/miniconda3/envs/ner/lib/python3.7/site-packages (from transformers) (3.6.0)\n",
      "Requirement already satisfied: tokenizers<0.11,>=0.10.1 in /home/barinale/miniconda3/envs/ner/lib/python3.7/site-packages (from transformers) (0.10.3)\n",
      "Requirement already satisfied: regex!=2019.12.17 in /home/barinale/miniconda3/envs/ner/lib/python3.7/site-packages (from transformers) (2021.11.2)\n",
      "Requirement already satisfied: sacremoses in /home/barinale/miniconda3/envs/ner/lib/python3.7/site-packages (from transformers) (0.0.43)\n",
      "Requirement already satisfied: tqdm>=4.27 in /home/barinale/miniconda3/envs/ner/lib/python3.7/site-packages (from transformers) (4.63.0)\n",
      "Requirement already satisfied: packaging>=20.0 in /home/barinale/miniconda3/envs/ner/lib/python3.7/site-packages (from transformers) (21.3)\n",
      "Requirement already satisfied: importlib-metadata in /home/barinale/miniconda3/envs/ner/lib/python3.7/site-packages (from transformers) (4.8.2)\n",
      "Requirement already satisfied: pyyaml>=5.1 in /home/barinale/miniconda3/envs/ner/lib/python3.7/site-packages (from transformers) (6.0)\n",
      "Requirement already satisfied: requests in /home/barinale/miniconda3/envs/ner/lib/python3.7/site-packages (from transformers) (2.27.1)\n",
      "Requirement already satisfied: typing-extensions>=3.7.4.3 in /home/barinale/miniconda3/envs/ner/lib/python3.7/site-packages (from huggingface-hub<1.0,>=0.1.0->transformers) (3.10.0.2)\n",
      "Requirement already satisfied: pyparsing!=3.0.5,>=2.0.2 in /home/barinale/miniconda3/envs/ner/lib/python3.7/site-packages (from packaging>=20.0->transformers) (3.0.4)\n",
      "Requirement already satisfied: zipp>=0.5 in /home/barinale/miniconda3/envs/ner/lib/python3.7/site-packages (from importlib-metadata->transformers) (3.7.0)\n",
      "Requirement already satisfied: idna<4,>=2.5 in /home/barinale/miniconda3/envs/ner/lib/python3.7/site-packages (from requests->transformers) (3.3)\n",
      "Requirement already satisfied: certifi>=2017.4.17 in /home/barinale/miniconda3/envs/ner/lib/python3.7/site-packages (from requests->transformers) (2021.10.8)\n",
      "Requirement already satisfied: urllib3<1.27,>=1.21.1 in /home/barinale/miniconda3/envs/ner/lib/python3.7/site-packages (from requests->transformers) (1.26.8)\n",
      "Requirement already satisfied: charset-normalizer~=2.0.0 in /home/barinale/miniconda3/envs/ner/lib/python3.7/site-packages (from requests->transformers) (2.0.4)\n",
      "Requirement already satisfied: click in /home/barinale/miniconda3/envs/ner/lib/python3.7/site-packages (from sacremoses->transformers) (8.0.4)\n",
      "Requirement already satisfied: joblib in /home/barinale/miniconda3/envs/ner/lib/python3.7/site-packages (from sacremoses->transformers) (1.1.0)\n",
      "Requirement already satisfied: six in /home/barinale/miniconda3/envs/ner/lib/python3.7/site-packages (from sacremoses->transformers) (1.16.0)\n"
     ]
    }
   ],
   "source": [
    "! pip install transformers"
   ]
  },
  {
   "cell_type": "markdown",
   "id": "5b538518-a536-4fda-b99f-0af0929f7294",
   "metadata": {},
   "source": [
    "### 2. load/define data set"
   ]
  },
  {
   "cell_type": "code",
   "execution_count": 1,
   "id": "78f665b5-5346-4a77-9ec5-dc4813f2d720",
   "metadata": {},
   "outputs": [],
   "source": [
    "import pandas as pd"
   ]
  },
  {
   "cell_type": "code",
   "execution_count": 2,
   "id": "02865faf-014d-41b5-8841-63729890d3f3",
   "metadata": {},
   "outputs": [],
   "source": [
    "df = pd.read_csv('data/dummycsdata.csv')"
   ]
  },
  {
   "cell_type": "code",
   "execution_count": 3,
   "id": "0c2f9f66-0d45-4f8d-b387-116c1b9b739c",
   "metadata": {},
   "outputs": [],
   "source": [
    "# str labels to int\n",
    "df['intlabel'] = df['label'].rank(method='dense', ascending=False).astype(int) - 1"
   ]
  },
  {
   "cell_type": "code",
   "execution_count": 4,
   "id": "9cb7c7da-6385-45ad-a791-5a97cbfac331",
   "metadata": {},
   "outputs": [
    {
     "name": "stdout",
     "output_type": "stream",
     "text": [
      "{3: 'HELP', 4: 'CONFIRMATION_YES', 5: 'CONFIRMATION_NO', 1: 'NEXT', 0: 'RESTART', 2: 'IRRELEVANT'}\n"
     ]
    }
   ],
   "source": [
    "# prepare mapping from int labels back to str\n",
    "labelmapping = {}\n",
    "for key in df.intlabel.unique():\n",
    "    value = df.loc[df['intlabel'] == key,'label'].unique()[0]\n",
    "    labelmapping[key] = value\n",
    "print(labelmapping)"
   ]
  },
  {
   "cell_type": "code",
   "execution_count": 5,
   "id": "9dd54a97-95b8-408d-94c4-3d4f5629d5cc",
   "metadata": {},
   "outputs": [
    {
     "name": "stdout",
     "output_type": "stream",
     "text": [
      "6\n"
     ]
    }
   ],
   "source": [
    "n_labels = len(labelmapping.values())\n",
    "print(n_labels)"
   ]
  },
  {
   "cell_type": "code",
   "execution_count": 6,
   "id": "9aea277d-1d5d-4c8b-894d-8392bbaee653",
   "metadata": {},
   "outputs": [
    {
     "name": "stdout",
     "output_type": "stream",
     "text": [
      "                                 text             label  intlabel\n",
      "0                               pomoc              HELP         3\n",
      "1                     potřebuju pomoc              HELP         3\n",
      "2                            pomoz mi              HELP         3\n",
      "3                     zobraz nápovědu              HELP         3\n",
      "4                            nápověda              HELP         3\n",
      "5                        nevím co dál              HELP         3\n",
      "6                    co mám dělat dál              HELP         3\n",
      "7                            poraď mi              HELP         3\n",
      "8                                 ano  CONFIRMATION_YES         4\n",
      "9                                  jo  CONFIRMATION_YES         4\n",
      "10                                 ok  CONFIRMATION_YES         4\n",
      "11                              jasně  CONFIRMATION_YES         4\n",
      "12                                 ne   CONFIRMATION_NO         5\n",
      "13                        ani náhodou   CONFIRMATION_NO         5\n",
      "14                             zrušit   CONFIRMATION_NO         5\n",
      "15                               omyl   CONFIRMATION_NO         5\n",
      "16                  rozmyslel jsem se   CONFIRMATION_NO         5\n",
      "17                         další krok              NEXT         1\n",
      "18             chci dělat něco nového              NEXT         1\n",
      "19                          jdeme dál              NEXT         1\n",
      "20                     restart levelu           RESTART         0\n",
      "21                            restart           RESTART         0\n",
      "22                            odznova           RESTART         0\n",
      "23                         celé znovu           RESTART         0\n",
      "24                          tak znovu           RESTART         0\n",
      "25                   určitou část dne        IRRELEVANT         2\n",
      "26                    ale každý obývá        IRRELEVANT         2\n",
      "27  ještě devět mužských a dva ženské        IRRELEVANT         2\n",
      "28                     zvuky či videa        IRRELEVANT         2\n",
      "29  je městský park ve východní části        IRRELEVANT         2\n"
     ]
    }
   ],
   "source": [
    "print(df)"
   ]
  },
  {
   "cell_type": "code",
   "execution_count": 7,
   "id": "1e17d6e9-9c18-47ff-b831-4bdd8d006faa",
   "metadata": {},
   "outputs": [],
   "source": [
    "texts = df.text.tolist()\n",
    "labels = df.intlabel.tolist()"
   ]
  },
  {
   "cell_type": "code",
   "execution_count": 8,
   "id": "f6b7b874-5868-4011-ab3a-7c8c66c5043b",
   "metadata": {},
   "outputs": [],
   "source": [
    "from sklearn.model_selection import train_test_split"
   ]
  },
  {
   "cell_type": "code",
   "execution_count": 9,
   "id": "f788fd68-d980-4899-96a8-890bf40e8e86",
   "metadata": {},
   "outputs": [],
   "source": [
    "trntxt, tsttxt, trnlbl, tstlbl = train_test_split(texts, labels, test_size=0.1)"
   ]
  },
  {
   "cell_type": "code",
   "execution_count": 10,
   "id": "ec86c1d9-d1e6-4bde-a4e4-10f4e6b59adb",
   "metadata": {},
   "outputs": [
    {
     "name": "stdout",
     "output_type": "stream",
     "text": [
      "['jasně', 'rozmyslel jsem se', 'potřebuju pomoc'] [4, 5, 3] ['CONFIRMATION_YES', 'CONFIRMATION_NO', 'HELP']\n"
     ]
    }
   ],
   "source": [
    "print(tsttxt, tstlbl, [labelmapping[key] for key in tstlbl])"
   ]
  },
  {
   "cell_type": "markdown",
   "id": "1a444710-8953-4fe6-8f24-2f326588602f",
   "metadata": {},
   "source": [
    "### 3. preprocess text"
   ]
  },
  {
   "cell_type": "code",
   "execution_count": 11,
   "id": "d6fb0ba6-d503-43ca-8420-3d6c51c4b31e",
   "metadata": {},
   "outputs": [
    {
     "name": "stderr",
     "output_type": "stream",
     "text": [
      "/home/barinale/miniconda3/envs/ner/lib/python3.7/site-packages/tqdm/auto.py:22: TqdmWarning: IProgress not found. Please update jupyter and ipywidgets. See https://ipywidgets.readthedocs.io/en/stable/user_install.html\n",
      "  from .autonotebook import tqdm as notebook_tqdm\n"
     ]
    }
   ],
   "source": [
    "import tensorflow as tf\n",
    "from transformers import AutoTokenizer"
   ]
  },
  {
   "cell_type": "code",
   "execution_count": 12,
   "id": "48eaceeb-774c-4956-aa69-1ef2c5986d67",
   "metadata": {},
   "outputs": [],
   "source": [
    "# load the same tokenizer a model was trained with\n",
    "tokenizer = AutoTokenizer.from_pretrained(\"Seznam/small-e-czech\")"
   ]
  },
  {
   "cell_type": "code",
   "execution_count": 13,
   "id": "fb496c93-67fa-42a0-8d10-94cbb7eecc0f",
   "metadata": {},
   "outputs": [
    {
     "name": "stderr",
     "output_type": "stream",
     "text": [
      "Asking to truncate to max_length but no maximum length is provided and the model has no predefined maximum length. Default to no truncation.\n"
     ]
    }
   ],
   "source": [
    "trnencodings = tokenizer(trntxt, truncation=True, padding=True)\n",
    "tstencodings = tokenizer(tsttxt, truncation=True, padding=True)"
   ]
  },
  {
   "cell_type": "code",
   "execution_count": 17,
   "id": "3ec01f54-3b14-49f8-a6d1-024456b53c77",
   "metadata": {},
   "outputs": [],
   "source": [
    "trndata = [{'label': label, 'input_ids': inid, 'attention_mask': atmask} for label, inid, atmask in zip(trnlbl, trnencodings['input_ids'], trnencodings['attention_mask'])]\n",
    "tstdata = [{'label': label, 'input_ids': inid, 'attention_mask': atmask} for label, inid, atmask in zip(tstlbl, tstencodings['input_ids'], tstencodings['attention_mask'])]"
   ]
  },
  {
   "cell_type": "markdown",
   "id": "b02ce3fc-994a-4abe-a0b2-bfd9e2ad1516",
   "metadata": {},
   "source": [
    "### 4. load pretrained model"
   ]
  },
  {
   "cell_type": "code",
   "execution_count": 18,
   "id": "af7027aa-917e-4237-849e-48c0cee7e0a6",
   "metadata": {},
   "outputs": [],
   "source": [
    "from transformers import AutoModelForSequenceClassification"
   ]
  },
  {
   "cell_type": "code",
   "execution_count": 19,
   "id": "0281ca1e-bbcb-4897-bb5e-032fd0a98b3f",
   "metadata": {},
   "outputs": [
    {
     "name": "stderr",
     "output_type": "stream",
     "text": [
      "Some weights of the model checkpoint at Seznam/small-e-czech were not used when initializing ElectraForSequenceClassification: ['discriminator_predictions.dense.weight', 'discriminator_predictions.dense_prediction.bias', 'discriminator_predictions.dense_prediction.weight', 'discriminator_predictions.dense.bias']\n",
      "- This IS expected if you are initializing ElectraForSequenceClassification from the checkpoint of a model trained on another task or with another architecture (e.g. initializing a BertForSequenceClassification model from a BertForPreTraining model).\n",
      "- This IS NOT expected if you are initializing ElectraForSequenceClassification from the checkpoint of a model that you expect to be exactly identical (initializing a BertForSequenceClassification model from a BertForSequenceClassification model).\n",
      "Some weights of ElectraForSequenceClassification were not initialized from the model checkpoint at Seznam/small-e-czech and are newly initialized: ['classifier.dense.bias', 'classifier.dense.weight', 'classifier.out_proj.bias', 'classifier.out_proj.weight']\n",
      "You should probably TRAIN this model on a down-stream task to be able to use it for predictions and inference.\n"
     ]
    }
   ],
   "source": [
    "model = AutoModelForSequenceClassification.from_pretrained(\"Seznam/small-e-czech\", num_labels=n_labels)"
   ]
  },
  {
   "cell_type": "markdown",
   "id": "acb0d47a-59f6-4ed0-b316-75779f60d87f",
   "metadata": {},
   "source": [
    "### 5. Fit model on a custom dataset"
   ]
  },
  {
   "cell_type": "code",
   "execution_count": 20,
   "id": "4fecb8f1-ebb7-46c3-a16b-b5d55bf1f18b",
   "metadata": {},
   "outputs": [],
   "source": [
    "from transformers import TrainingArguments, Trainer"
   ]
  },
  {
   "cell_type": "code",
   "execution_count": 99,
   "id": "caada46d-f02d-4c6f-9dc0-5a49fc63de42",
   "metadata": {},
   "outputs": [
    {
     "name": "stderr",
     "output_type": "stream",
     "text": [
      "PyTorch: setting up devices\n",
      "The default value for the training argument `--report_to` will change in v5 (from all installed integrations to none). In v5, you will need to use `--report_to all` to get the same behavior as now. You should start updating your code and make this info disappear :-).\n"
     ]
    }
   ],
   "source": [
    "training_args = TrainingArguments(\n",
    "    output_dir=\"./tunedbert\",\n",
    "    learning_rate=2e-5,\n",
    "    per_device_train_batch_size=16,\n",
    "    per_device_eval_batch_size=16,\n",
    "    num_train_epochs=20,\n",
    "    weight_decay=0.01,\n",
    ")\n",
    "trainer = Trainer(\n",
    "    model=model,\n",
    "    args=training_args,\n",
    "    train_dataset=trndata,\n",
    "    eval_dataset=tstdata,\n",
    "    tokenizer=tokenizer,\n",
    ")"
   ]
  },
  {
   "cell_type": "code",
   "execution_count": 100,
   "id": "98ff9158-7cd9-48e7-b76b-67d2abfeb1ef",
   "metadata": {},
   "outputs": [
    {
     "name": "stderr",
     "output_type": "stream",
     "text": [
      "***** Running training *****\n",
      "  Num examples = 27\n",
      "  Num Epochs = 20\n",
      "  Instantaneous batch size per device = 16\n",
      "  Total train batch size (w. parallel, distributed & accumulation) = 16\n",
      "  Gradient Accumulation steps = 1\n",
      "  Total optimization steps = 40\n"
     ]
    },
    {
     "data": {
      "text/html": [
       "\n",
       "    <div>\n",
       "      \n",
       "      <progress value='40' max='40' style='width:300px; height:20px; vertical-align: middle;'></progress>\n",
       "      [40/40 00:09, Epoch 20/20]\n",
       "    </div>\n",
       "    <table border=\"1\" class=\"dataframe\">\n",
       "  <thead>\n",
       "    <tr style=\"text-align: left;\">\n",
       "      <th>Step</th>\n",
       "      <th>Training Loss</th>\n",
       "    </tr>\n",
       "  </thead>\n",
       "  <tbody>\n",
       "  </tbody>\n",
       "</table><p>"
      ],
      "text/plain": [
       "<IPython.core.display.HTML object>"
      ]
     },
     "metadata": {},
     "output_type": "display_data"
    },
    {
     "name": "stderr",
     "output_type": "stream",
     "text": [
      "\n",
      "\n",
      "Training completed. Do not forget to share your model on huggingface.co/models =)\n",
      "\n",
      "\n"
     ]
    },
    {
     "data": {
      "text/plain": [
       "TrainOutput(global_step=40, training_loss=1.760857391357422, metrics={'train_runtime': 9.7797, 'train_samples_per_second': 55.216, 'train_steps_per_second': 4.09, 'total_flos': 279286723440.0, 'train_loss': 1.760857391357422, 'epoch': 20.0})"
      ]
     },
     "execution_count": 100,
     "metadata": {},
     "output_type": "execute_result"
    }
   ],
   "source": [
    "trainer.train()"
   ]
  },
  {
   "cell_type": "markdown",
   "id": "e95a904b-61d2-4b5b-9c59-5d1f48801adf",
   "metadata": {},
   "source": [
    "### 6. Test trained model"
   ]
  },
  {
   "cell_type": "code",
   "execution_count": 101,
   "id": "11c4fcfe-1446-4ebe-a178-3100f64c7185",
   "metadata": {},
   "outputs": [],
   "source": [
    "import numpy as np\n",
    "from transformers import pipeline"
   ]
  },
  {
   "cell_type": "code",
   "execution_count": 111,
   "id": "5efcf853-7062-4606-978c-5a0c1a6992d7",
   "metadata": {},
   "outputs": [
    {
     "name": "stderr",
     "output_type": "stream",
     "text": [
      "***** Running Prediction *****\n",
      "  Num examples = 3\n",
      "  Batch size = 16\n"
     ]
    }
   ],
   "source": [
    "rawpredictions = trainer.predict(tstdata)\n",
    "pred_intlabels = np.argmax(rawpredictions.predictions, axis=1)\n",
    "pred_labels = [labelmapping[lbl] for lbl in pred_intlabels]\n",
    "gt_intlabels = np.array([entry['label'] for entry in tstdata])\n",
    "gt_labels = [labelmapping[lbl] for lbl in gt_intlabels]"
   ]
  },
  {
   "cell_type": "code",
   "execution_count": 114,
   "id": "d56c9721-6373-4968-a3dc-901b1e52600d",
   "metadata": {},
   "outputs": [
    {
     "name": "stdout",
     "output_type": "stream",
     "text": [
      "ACCURACY 0.6666666666666666\n"
     ]
    }
   ],
   "source": [
    "correct = np.sum(pred_intlabels == gt_intlabels)\n",
    "accuracy = correct / gt_intlabels.shape[0]\n",
    "print(\"ACCURACY\", accuracy)"
   ]
  },
  {
   "cell_type": "code",
   "execution_count": 115,
   "id": "379a2553-55ce-4257-8a7e-f7abf71a296c",
   "metadata": {},
   "outputs": [
    {
     "name": "stdout",
     "output_type": "stream",
     "text": [
      "DATA: ['jasně', 'rozmyslel jsem se', 'potřebuju pomoc']\n",
      "PREDICTED: ['CONFIRMATION_YES', 'HELP', 'HELP']\n",
      "GROUND TRUTH: ['CONFIRMATION_YES', 'CONFIRMATION_NO', 'HELP']\n"
     ]
    }
   ],
   "source": [
    "print(\"DATA:\", tsttxt)\n",
    "print(\"PREDICTED:\", pred_labels)\n",
    "print(\"GROUND TRUTH:\", gt_labels)"
   ]
  },
  {
   "cell_type": "code",
   "execution_count": null,
   "id": "d2610e77-ddb0-4690-b301-1fe4113f169c",
   "metadata": {},
   "outputs": [],
   "source": []
  }
 ],
 "metadata": {
  "kernelspec": {
   "display_name": "Python 3 (ipykernel)",
   "language": "python",
   "name": "python3"
  },
  "language_info": {
   "codemirror_mode": {
    "name": "ipython",
    "version": 3
   },
   "file_extension": ".py",
   "mimetype": "text/x-python",
   "name": "python",
   "nbconvert_exporter": "python",
   "pygments_lexer": "ipython3",
   "version": "3.7.11"
  }
 },
 "nbformat": 4,
 "nbformat_minor": 5
}
