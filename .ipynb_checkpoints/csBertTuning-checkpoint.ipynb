{
 "cells": [
  {
   "cell_type": "markdown",
   "id": "95e66b01-3893-4379-b315-ede82efeb6d8",
   "metadata": {},
   "source": [
    "## fine tune bert model for custom dataset"
   ]
  },
  {
   "cell_type": "markdown",
   "id": "48530009-5e4d-45aa-875e-4bbb02b9b577",
   "metadata": {},
   "source": [
    "### 1. install libraries"
   ]
  },
  {
   "cell_type": "code",
   "execution_count": null,
   "id": "1979f468-fe07-4724-9749-2f6af83bc484",
   "metadata": {},
   "outputs": [],
   "source": [
    "! pip install transformers"
   ]
  },
  {
   "cell_type": "code",
   "execution_count": 78,
   "id": "f464fa3a-df71-47e2-b44c-12570f0375f6",
   "metadata": {},
   "outputs": [
    {
     "name": "stdout",
     "output_type": "stream",
     "text": [
      "Requirement already satisfied: imbalanced-learn in /home/barinale/miniconda3/envs/ner/lib/python3.7/site-packages (0.9.0)\n",
      "Requirement already satisfied: numpy>=1.14.6 in /home/barinale/miniconda3/envs/ner/lib/python3.7/site-packages (from imbalanced-learn) (1.19.2)\n",
      "Requirement already satisfied: scikit-learn>=1.0.1 in /home/barinale/miniconda3/envs/ner/lib/python3.7/site-packages (from imbalanced-learn) (1.0.2)\n",
      "Requirement already satisfied: threadpoolctl>=2.0.0 in /home/barinale/miniconda3/envs/ner/lib/python3.7/site-packages (from imbalanced-learn) (3.1.0)\n",
      "Requirement already satisfied: joblib>=0.11 in /home/barinale/miniconda3/envs/ner/lib/python3.7/site-packages (from imbalanced-learn) (1.1.0)\n",
      "Requirement already satisfied: scipy>=1.1.0 in /home/barinale/miniconda3/envs/ner/lib/python3.7/site-packages (from imbalanced-learn) (1.6.2)\n"
     ]
    }
   ],
   "source": [
    "! pip install imbalanced-learn"
   ]
  },
  {
   "cell_type": "markdown",
   "id": "5b538518-a536-4fda-b99f-0af0929f7294",
   "metadata": {},
   "source": [
    "### 2. load/define data set"
   ]
  },
  {
   "cell_type": "code",
   "execution_count": 1,
   "id": "78f665b5-5346-4a77-9ec5-dc4813f2d720",
   "metadata": {},
   "outputs": [],
   "source": [
    "import pandas as pd\n",
    "from sklearn.model_selection import train_test_split"
   ]
  },
  {
   "cell_type": "code",
   "execution_count": 2,
   "id": "02865faf-014d-41b5-8841-63729890d3f3",
   "metadata": {},
   "outputs": [],
   "source": [
    "df = pd.read_csv('data/banking.csv')"
   ]
  },
  {
   "cell_type": "code",
   "execution_count": 3,
   "id": "0c2f9f66-0d45-4f8d-b387-116c1b9b739c",
   "metadata": {},
   "outputs": [],
   "source": [
    "# str labels to int\n",
    "df['intlabel'] = df['label'].rank(method='dense', ascending=False).astype(int) - 1"
   ]
  },
  {
   "cell_type": "code",
   "execution_count": 4,
   "id": "9cb7c7da-6385-45ad-a791-5a97cbfac331",
   "metadata": {},
   "outputs": [
    {
     "name": "stdout",
     "output_type": "stream",
     "text": [
      "{29: 'all_in_one', 28: 'bez_predcisli', 27: 'blokace_karty', 26: 'dekuji', 25: 'go_back', 24: 'hotovo', 23: 'jednorazova_platba', 22: 'jiny_email', 21: 'jiny_ucet', 20: 'konec', 19: 'odeslani_platby', 18: 'opravit', 17: 'pokracovat', 16: 'pomoc', 15: 'pomoc_platby', 14: 'pozdrav', 13: 'say_again', 12: 'validace', 11: 'verifikace_platby_vse_spatne', 10: 'zacit_znovu', 9: 'zadat_inkaso', 8: 'zadat_trvaly_prikaz', 7: 'zadna_operace', 6: 'zadost_o_strpeni', 5: 'zmenit_inkaso', 4: 'zmenit_trvaly_prikaz', 3: 'zruseni_platby', 2: 'zrusit_inkaso', 1: 'zrusit_trvaly_prikaz', 0: 'zustatek_uctu'}\n"
     ]
    }
   ],
   "source": [
    "# prepare mapping from int labels back to str\n",
    "labelmapping = {}\n",
    "for key in df.intlabel.unique():\n",
    "    value = df.loc[df['intlabel'] == key,'label'].unique()[0]\n",
    "    labelmapping[key] = value\n",
    "print(labelmapping)"
   ]
  },
  {
   "cell_type": "code",
   "execution_count": 5,
   "id": "9dd54a97-95b8-408d-94c4-3d4f5629d5cc",
   "metadata": {},
   "outputs": [
    {
     "name": "stdout",
     "output_type": "stream",
     "text": [
      "30\n"
     ]
    }
   ],
   "source": [
    "n_labels = len(labelmapping.values())\n",
    "print(n_labels)"
   ]
  },
  {
   "cell_type": "code",
   "execution_count": 6,
   "id": "9aea277d-1d5d-4c8b-894d-8392bbaee653",
   "metadata": {},
   "outputs": [
    {
     "name": "stdout",
     "output_type": "stream",
     "text": [
      "(173, 3)\n"
     ]
    },
    {
     "data": {
      "text/html": [
       "<div>\n",
       "<style scoped>\n",
       "    .dataframe tbody tr th:only-of-type {\n",
       "        vertical-align: middle;\n",
       "    }\n",
       "\n",
       "    .dataframe tbody tr th {\n",
       "        vertical-align: top;\n",
       "    }\n",
       "\n",
       "    .dataframe thead th {\n",
       "        text-align: right;\n",
       "    }\n",
       "</style>\n",
       "<table border=\"1\" class=\"dataframe\">\n",
       "  <thead>\n",
       "    <tr style=\"text-align: right;\">\n",
       "      <th></th>\n",
       "      <th>text</th>\n",
       "      <th>label</th>\n",
       "      <th>intlabel</th>\n",
       "    </tr>\n",
       "  </thead>\n",
       "  <tbody>\n",
       "    <tr>\n",
       "      <th>120</th>\n",
       "      <td>Chtěla bych posílat dceři měsíčně peníze na je...</td>\n",
       "      <td>zadat_trvaly_prikaz</td>\n",
       "      <td>8</td>\n",
       "    </tr>\n",
       "    <tr>\n",
       "      <th>67</th>\n",
       "      <td>pokračovat</td>\n",
       "      <td>pokracovat</td>\n",
       "      <td>17</td>\n",
       "    </tr>\n",
       "    <tr>\n",
       "      <th>119</th>\n",
       "      <td>zadat inkaso</td>\n",
       "      <td>zadat_inkaso</td>\n",
       "      <td>9</td>\n",
       "    </tr>\n",
       "    <tr>\n",
       "      <th>23</th>\n",
       "      <td>dál už nic</td>\n",
       "      <td>hotovo</td>\n",
       "      <td>24</td>\n",
       "    </tr>\n",
       "    <tr>\n",
       "      <th>152</th>\n",
       "      <td>změnit trvalý příkaz</td>\n",
       "      <td>zmenit_trvaly_prikaz</td>\n",
       "      <td>4</td>\n",
       "    </tr>\n",
       "  </tbody>\n",
       "</table>\n",
       "</div>"
      ],
      "text/plain": [
       "                                                  text                 label  \\\n",
       "120  Chtěla bych posílat dceři měsíčně peníze na je...   zadat_trvaly_prikaz   \n",
       "67                                          pokračovat            pokracovat   \n",
       "119                                       zadat inkaso          zadat_inkaso   \n",
       "23                                          dál už nic                hotovo   \n",
       "152                               změnit trvalý příkaz  zmenit_trvaly_prikaz   \n",
       "\n",
       "     intlabel  \n",
       "120         8  \n",
       "67         17  \n",
       "119         9  \n",
       "23         24  \n",
       "152         4  "
      ]
     },
     "execution_count": 6,
     "metadata": {},
     "output_type": "execute_result"
    }
   ],
   "source": [
    "print(df.shape)\n",
    "df.sample(frac=1).head()"
   ]
  },
  {
   "cell_type": "code",
   "execution_count": 7,
   "id": "43887c36-7acc-4ba9-99e3-d28fb9f4e1f6",
   "metadata": {},
   "outputs": [
    {
     "data": {
      "text/html": [
       "<div>\n",
       "<style scoped>\n",
       "    .dataframe tbody tr th:only-of-type {\n",
       "        vertical-align: middle;\n",
       "    }\n",
       "\n",
       "    .dataframe tbody tr th {\n",
       "        vertical-align: top;\n",
       "    }\n",
       "\n",
       "    .dataframe thead th {\n",
       "        text-align: right;\n",
       "    }\n",
       "</style>\n",
       "<table border=\"1\" class=\"dataframe\">\n",
       "  <thead>\n",
       "    <tr style=\"text-align: right;\">\n",
       "      <th></th>\n",
       "      <th>label</th>\n",
       "      <th>counts</th>\n",
       "    </tr>\n",
       "  </thead>\n",
       "  <tbody>\n",
       "    <tr>\n",
       "      <th>0</th>\n",
       "      <td>all_in_one</td>\n",
       "      <td>2</td>\n",
       "    </tr>\n",
       "    <tr>\n",
       "      <th>1</th>\n",
       "      <td>bez_predcisli</td>\n",
       "      <td>3</td>\n",
       "    </tr>\n",
       "    <tr>\n",
       "      <th>2</th>\n",
       "      <td>blokace_karty</td>\n",
       "      <td>9</td>\n",
       "    </tr>\n",
       "    <tr>\n",
       "      <th>3</th>\n",
       "      <td>dekuji</td>\n",
       "      <td>4</td>\n",
       "    </tr>\n",
       "    <tr>\n",
       "      <th>4</th>\n",
       "      <td>go_back</td>\n",
       "      <td>5</td>\n",
       "    </tr>\n",
       "    <tr>\n",
       "      <th>5</th>\n",
       "      <td>hotovo</td>\n",
       "      <td>9</td>\n",
       "    </tr>\n",
       "    <tr>\n",
       "      <th>6</th>\n",
       "      <td>jednorazova_platba</td>\n",
       "      <td>17</td>\n",
       "    </tr>\n",
       "    <tr>\n",
       "      <th>7</th>\n",
       "      <td>jiny_email</td>\n",
       "      <td>4</td>\n",
       "    </tr>\n",
       "    <tr>\n",
       "      <th>8</th>\n",
       "      <td>jiny_ucet</td>\n",
       "      <td>2</td>\n",
       "    </tr>\n",
       "    <tr>\n",
       "      <th>9</th>\n",
       "      <td>konec</td>\n",
       "      <td>6</td>\n",
       "    </tr>\n",
       "    <tr>\n",
       "      <th>10</th>\n",
       "      <td>odeslani_platby</td>\n",
       "      <td>5</td>\n",
       "    </tr>\n",
       "    <tr>\n",
       "      <th>11</th>\n",
       "      <td>opravit</td>\n",
       "      <td>1</td>\n",
       "    </tr>\n",
       "    <tr>\n",
       "      <th>12</th>\n",
       "      <td>pokracovat</td>\n",
       "      <td>2</td>\n",
       "    </tr>\n",
       "    <tr>\n",
       "      <th>13</th>\n",
       "      <td>pomoc</td>\n",
       "      <td>20</td>\n",
       "    </tr>\n",
       "    <tr>\n",
       "      <th>14</th>\n",
       "      <td>pomoc_platby</td>\n",
       "      <td>2</td>\n",
       "    </tr>\n",
       "    <tr>\n",
       "      <th>15</th>\n",
       "      <td>pozdrav</td>\n",
       "      <td>6</td>\n",
       "    </tr>\n",
       "    <tr>\n",
       "      <th>16</th>\n",
       "      <td>say_again</td>\n",
       "      <td>8</td>\n",
       "    </tr>\n",
       "    <tr>\n",
       "      <th>17</th>\n",
       "      <td>validace</td>\n",
       "      <td>1</td>\n",
       "    </tr>\n",
       "    <tr>\n",
       "      <th>18</th>\n",
       "      <td>verifikace_platby_vse_spatne</td>\n",
       "      <td>3</td>\n",
       "    </tr>\n",
       "    <tr>\n",
       "      <th>19</th>\n",
       "      <td>zacit_znovu</td>\n",
       "      <td>7</td>\n",
       "    </tr>\n",
       "    <tr>\n",
       "      <th>20</th>\n",
       "      <td>zadat_inkaso</td>\n",
       "      <td>4</td>\n",
       "    </tr>\n",
       "    <tr>\n",
       "      <th>21</th>\n",
       "      <td>zadat_trvaly_prikaz</td>\n",
       "      <td>11</td>\n",
       "    </tr>\n",
       "    <tr>\n",
       "      <th>22</th>\n",
       "      <td>zadna_operace</td>\n",
       "      <td>2</td>\n",
       "    </tr>\n",
       "    <tr>\n",
       "      <th>23</th>\n",
       "      <td>zadost_o_strpeni</td>\n",
       "      <td>13</td>\n",
       "    </tr>\n",
       "    <tr>\n",
       "      <th>24</th>\n",
       "      <td>zmenit_inkaso</td>\n",
       "      <td>3</td>\n",
       "    </tr>\n",
       "    <tr>\n",
       "      <th>25</th>\n",
       "      <td>zmenit_trvaly_prikaz</td>\n",
       "      <td>5</td>\n",
       "    </tr>\n",
       "    <tr>\n",
       "      <th>26</th>\n",
       "      <td>zruseni_platby</td>\n",
       "      <td>4</td>\n",
       "    </tr>\n",
       "    <tr>\n",
       "      <th>27</th>\n",
       "      <td>zrusit_inkaso</td>\n",
       "      <td>4</td>\n",
       "    </tr>\n",
       "    <tr>\n",
       "      <th>28</th>\n",
       "      <td>zrusit_trvaly_prikaz</td>\n",
       "      <td>4</td>\n",
       "    </tr>\n",
       "    <tr>\n",
       "      <th>29</th>\n",
       "      <td>zustatek_uctu</td>\n",
       "      <td>7</td>\n",
       "    </tr>\n",
       "  </tbody>\n",
       "</table>\n",
       "</div>"
      ],
      "text/plain": [
       "                           label  counts\n",
       "0                     all_in_one       2\n",
       "1                  bez_predcisli       3\n",
       "2                  blokace_karty       9\n",
       "3                         dekuji       4\n",
       "4                        go_back       5\n",
       "5                         hotovo       9\n",
       "6             jednorazova_platba      17\n",
       "7                     jiny_email       4\n",
       "8                      jiny_ucet       2\n",
       "9                          konec       6\n",
       "10               odeslani_platby       5\n",
       "11                       opravit       1\n",
       "12                    pokracovat       2\n",
       "13                         pomoc      20\n",
       "14                  pomoc_platby       2\n",
       "15                       pozdrav       6\n",
       "16                     say_again       8\n",
       "17                      validace       1\n",
       "18  verifikace_platby_vse_spatne       3\n",
       "19                   zacit_znovu       7\n",
       "20                  zadat_inkaso       4\n",
       "21           zadat_trvaly_prikaz      11\n",
       "22                 zadna_operace       2\n",
       "23              zadost_o_strpeni      13\n",
       "24                 zmenit_inkaso       3\n",
       "25          zmenit_trvaly_prikaz       5\n",
       "26                zruseni_platby       4\n",
       "27                 zrusit_inkaso       4\n",
       "28          zrusit_trvaly_prikaz       4\n",
       "29                 zustatek_uctu       7"
      ]
     },
     "execution_count": 7,
     "metadata": {},
     "output_type": "execute_result"
    }
   ],
   "source": [
    "# count how many samples per label in the dataset\n",
    "dfcounts = df.groupby('label').size().reset_index(name='counts')\n",
    "dfcounts"
   ]
  },
  {
   "cell_type": "code",
   "execution_count": 8,
   "id": "840bcf7d-9826-44cd-aad1-76bb70d060cd",
   "metadata": {},
   "outputs": [],
   "source": [
    "# retrieve labels that have minimum number of samples\n",
    "dfmincounts = dfcounts[dfcounts.counts > 2]"
   ]
  },
  {
   "cell_type": "code",
   "execution_count": 9,
   "id": "40853c6e-17be-4e71-8223-3403fa89366b",
   "metadata": {},
   "outputs": [
    {
     "data": {
      "text/html": [
       "<div>\n",
       "<style scoped>\n",
       "    .dataframe tbody tr th:only-of-type {\n",
       "        vertical-align: middle;\n",
       "    }\n",
       "\n",
       "    .dataframe tbody tr th {\n",
       "        vertical-align: top;\n",
       "    }\n",
       "\n",
       "    .dataframe thead th {\n",
       "        text-align: right;\n",
       "    }\n",
       "</style>\n",
       "<table border=\"1\" class=\"dataframe\">\n",
       "  <thead>\n",
       "    <tr style=\"text-align: right;\">\n",
       "      <th></th>\n",
       "      <th>label</th>\n",
       "      <th>counts</th>\n",
       "    </tr>\n",
       "  </thead>\n",
       "  <tbody>\n",
       "    <tr>\n",
       "      <th>0</th>\n",
       "      <td>bez_predcisli</td>\n",
       "      <td>3</td>\n",
       "    </tr>\n",
       "    <tr>\n",
       "      <th>1</th>\n",
       "      <td>blokace_karty</td>\n",
       "      <td>9</td>\n",
       "    </tr>\n",
       "    <tr>\n",
       "      <th>2</th>\n",
       "      <td>dekuji</td>\n",
       "      <td>4</td>\n",
       "    </tr>\n",
       "    <tr>\n",
       "      <th>3</th>\n",
       "      <td>go_back</td>\n",
       "      <td>5</td>\n",
       "    </tr>\n",
       "    <tr>\n",
       "      <th>4</th>\n",
       "      <td>hotovo</td>\n",
       "      <td>9</td>\n",
       "    </tr>\n",
       "    <tr>\n",
       "      <th>5</th>\n",
       "      <td>jednorazova_platba</td>\n",
       "      <td>17</td>\n",
       "    </tr>\n",
       "    <tr>\n",
       "      <th>6</th>\n",
       "      <td>jiny_email</td>\n",
       "      <td>4</td>\n",
       "    </tr>\n",
       "    <tr>\n",
       "      <th>7</th>\n",
       "      <td>konec</td>\n",
       "      <td>6</td>\n",
       "    </tr>\n",
       "    <tr>\n",
       "      <th>8</th>\n",
       "      <td>odeslani_platby</td>\n",
       "      <td>5</td>\n",
       "    </tr>\n",
       "    <tr>\n",
       "      <th>9</th>\n",
       "      <td>pomoc</td>\n",
       "      <td>20</td>\n",
       "    </tr>\n",
       "    <tr>\n",
       "      <th>10</th>\n",
       "      <td>pozdrav</td>\n",
       "      <td>6</td>\n",
       "    </tr>\n",
       "    <tr>\n",
       "      <th>11</th>\n",
       "      <td>say_again</td>\n",
       "      <td>8</td>\n",
       "    </tr>\n",
       "    <tr>\n",
       "      <th>12</th>\n",
       "      <td>verifikace_platby_vse_spatne</td>\n",
       "      <td>3</td>\n",
       "    </tr>\n",
       "    <tr>\n",
       "      <th>13</th>\n",
       "      <td>zacit_znovu</td>\n",
       "      <td>7</td>\n",
       "    </tr>\n",
       "    <tr>\n",
       "      <th>14</th>\n",
       "      <td>zadat_inkaso</td>\n",
       "      <td>4</td>\n",
       "    </tr>\n",
       "    <tr>\n",
       "      <th>15</th>\n",
       "      <td>zadat_trvaly_prikaz</td>\n",
       "      <td>11</td>\n",
       "    </tr>\n",
       "    <tr>\n",
       "      <th>16</th>\n",
       "      <td>zadost_o_strpeni</td>\n",
       "      <td>13</td>\n",
       "    </tr>\n",
       "    <tr>\n",
       "      <th>17</th>\n",
       "      <td>zmenit_inkaso</td>\n",
       "      <td>3</td>\n",
       "    </tr>\n",
       "    <tr>\n",
       "      <th>18</th>\n",
       "      <td>zmenit_trvaly_prikaz</td>\n",
       "      <td>5</td>\n",
       "    </tr>\n",
       "    <tr>\n",
       "      <th>19</th>\n",
       "      <td>zruseni_platby</td>\n",
       "      <td>4</td>\n",
       "    </tr>\n",
       "    <tr>\n",
       "      <th>20</th>\n",
       "      <td>zrusit_inkaso</td>\n",
       "      <td>4</td>\n",
       "    </tr>\n",
       "    <tr>\n",
       "      <th>21</th>\n",
       "      <td>zrusit_trvaly_prikaz</td>\n",
       "      <td>4</td>\n",
       "    </tr>\n",
       "    <tr>\n",
       "      <th>22</th>\n",
       "      <td>zustatek_uctu</td>\n",
       "      <td>7</td>\n",
       "    </tr>\n",
       "  </tbody>\n",
       "</table>\n",
       "</div>"
      ],
      "text/plain": [
       "                           label  counts\n",
       "0                  bez_predcisli       3\n",
       "1                  blokace_karty       9\n",
       "2                         dekuji       4\n",
       "3                        go_back       5\n",
       "4                         hotovo       9\n",
       "5             jednorazova_platba      17\n",
       "6                     jiny_email       4\n",
       "7                          konec       6\n",
       "8                odeslani_platby       5\n",
       "9                          pomoc      20\n",
       "10                       pozdrav       6\n",
       "11                     say_again       8\n",
       "12  verifikace_platby_vse_spatne       3\n",
       "13                   zacit_znovu       7\n",
       "14                  zadat_inkaso       4\n",
       "15           zadat_trvaly_prikaz      11\n",
       "16              zadost_o_strpeni      13\n",
       "17                 zmenit_inkaso       3\n",
       "18          zmenit_trvaly_prikaz       5\n",
       "19                zruseni_platby       4\n",
       "20                 zrusit_inkaso       4\n",
       "21          zrusit_trvaly_prikaz       4\n",
       "22                 zustatek_uctu       7"
      ]
     },
     "execution_count": 9,
     "metadata": {},
     "output_type": "execute_result"
    }
   ],
   "source": [
    "# remove data with labels that have less than minimum number of samples\n",
    "df = df[df.label.isin(dfmincounts.label.tolist())]\n",
    "df.groupby('label').size().reset_index(name='counts')"
   ]
  },
  {
   "cell_type": "code",
   "execution_count": 35,
   "id": "1e17d6e9-9c18-47ff-b831-4bdd8d006faa",
   "metadata": {},
   "outputs": [],
   "source": [
    "texts = df.text.tolist()\n",
    "labels = df.intlabel.tolist()"
   ]
  },
  {
   "cell_type": "code",
   "execution_count": 36,
   "id": "f788fd68-d980-4899-96a8-890bf40e8e86",
   "metadata": {},
   "outputs": [],
   "source": [
    "trntxt, tsttxt, trnlbl, tstlbl = train_test_split(texts, labels, test_size=0.2)"
   ]
  },
  {
   "cell_type": "markdown",
   "id": "1a444710-8953-4fe6-8f24-2f326588602f",
   "metadata": {},
   "source": [
    "### 3. preprocess text"
   ]
  },
  {
   "cell_type": "markdown",
   "id": "9662ffb0-62c0-401f-9893-0c449efb2520",
   "metadata": {},
   "source": [
    "#### 3.1 balance training dataset"
   ]
  },
  {
   "cell_type": "code",
   "execution_count": 37,
   "id": "bf426d42-b6f1-447a-b986-8a41148ea487",
   "metadata": {},
   "outputs": [
    {
     "data": {
      "text/html": [
       "<div>\n",
       "<style scoped>\n",
       "    .dataframe tbody tr th:only-of-type {\n",
       "        vertical-align: middle;\n",
       "    }\n",
       "\n",
       "    .dataframe tbody tr th {\n",
       "        vertical-align: top;\n",
       "    }\n",
       "\n",
       "    .dataframe thead th {\n",
       "        text-align: right;\n",
       "    }\n",
       "</style>\n",
       "<table border=\"1\" class=\"dataframe\">\n",
       "  <thead>\n",
       "    <tr style=\"text-align: right;\">\n",
       "      <th></th>\n",
       "      <th>label</th>\n",
       "      <th>counts</th>\n",
       "    </tr>\n",
       "  </thead>\n",
       "  <tbody>\n",
       "    <tr>\n",
       "      <th>0</th>\n",
       "      <td>bez_predcisli</td>\n",
       "      <td>3</td>\n",
       "    </tr>\n",
       "    <tr>\n",
       "      <th>1</th>\n",
       "      <td>blokace_karty</td>\n",
       "      <td>9</td>\n",
       "    </tr>\n",
       "    <tr>\n",
       "      <th>2</th>\n",
       "      <td>dekuji</td>\n",
       "      <td>4</td>\n",
       "    </tr>\n",
       "    <tr>\n",
       "      <th>3</th>\n",
       "      <td>go_back</td>\n",
       "      <td>4</td>\n",
       "    </tr>\n",
       "    <tr>\n",
       "      <th>4</th>\n",
       "      <td>hotovo</td>\n",
       "      <td>8</td>\n",
       "    </tr>\n",
       "    <tr>\n",
       "      <th>5</th>\n",
       "      <td>jednorazova_platba</td>\n",
       "      <td>12</td>\n",
       "    </tr>\n",
       "    <tr>\n",
       "      <th>6</th>\n",
       "      <td>jiny_email</td>\n",
       "      <td>2</td>\n",
       "    </tr>\n",
       "    <tr>\n",
       "      <th>7</th>\n",
       "      <td>konec</td>\n",
       "      <td>5</td>\n",
       "    </tr>\n",
       "    <tr>\n",
       "      <th>8</th>\n",
       "      <td>odeslani_platby</td>\n",
       "      <td>4</td>\n",
       "    </tr>\n",
       "    <tr>\n",
       "      <th>9</th>\n",
       "      <td>pomoc</td>\n",
       "      <td>14</td>\n",
       "    </tr>\n",
       "    <tr>\n",
       "      <th>10</th>\n",
       "      <td>pozdrav</td>\n",
       "      <td>6</td>\n",
       "    </tr>\n",
       "    <tr>\n",
       "      <th>11</th>\n",
       "      <td>say_again</td>\n",
       "      <td>6</td>\n",
       "    </tr>\n",
       "    <tr>\n",
       "      <th>12</th>\n",
       "      <td>verifikace_platby_vse_spatne</td>\n",
       "      <td>2</td>\n",
       "    </tr>\n",
       "    <tr>\n",
       "      <th>13</th>\n",
       "      <td>zacit_znovu</td>\n",
       "      <td>5</td>\n",
       "    </tr>\n",
       "    <tr>\n",
       "      <th>14</th>\n",
       "      <td>zadat_inkaso</td>\n",
       "      <td>3</td>\n",
       "    </tr>\n",
       "    <tr>\n",
       "      <th>15</th>\n",
       "      <td>zadat_trvaly_prikaz</td>\n",
       "      <td>9</td>\n",
       "    </tr>\n",
       "    <tr>\n",
       "      <th>16</th>\n",
       "      <td>zadost_o_strpeni</td>\n",
       "      <td>10</td>\n",
       "    </tr>\n",
       "    <tr>\n",
       "      <th>17</th>\n",
       "      <td>zmenit_inkaso</td>\n",
       "      <td>2</td>\n",
       "    </tr>\n",
       "    <tr>\n",
       "      <th>18</th>\n",
       "      <td>zmenit_trvaly_prikaz</td>\n",
       "      <td>5</td>\n",
       "    </tr>\n",
       "    <tr>\n",
       "      <th>19</th>\n",
       "      <td>zruseni_platby</td>\n",
       "      <td>3</td>\n",
       "    </tr>\n",
       "    <tr>\n",
       "      <th>20</th>\n",
       "      <td>zrusit_inkaso</td>\n",
       "      <td>3</td>\n",
       "    </tr>\n",
       "    <tr>\n",
       "      <th>21</th>\n",
       "      <td>zrusit_trvaly_prikaz</td>\n",
       "      <td>3</td>\n",
       "    </tr>\n",
       "    <tr>\n",
       "      <th>22</th>\n",
       "      <td>zustatek_uctu</td>\n",
       "      <td>6</td>\n",
       "    </tr>\n",
       "  </tbody>\n",
       "</table>\n",
       "</div>"
      ],
      "text/plain": [
       "                           label  counts\n",
       "0                  bez_predcisli       3\n",
       "1                  blokace_karty       9\n",
       "2                         dekuji       4\n",
       "3                        go_back       4\n",
       "4                         hotovo       8\n",
       "5             jednorazova_platba      12\n",
       "6                     jiny_email       2\n",
       "7                          konec       5\n",
       "8                odeslani_platby       4\n",
       "9                          pomoc      14\n",
       "10                       pozdrav       6\n",
       "11                     say_again       6\n",
       "12  verifikace_platby_vse_spatne       2\n",
       "13                   zacit_znovu       5\n",
       "14                  zadat_inkaso       3\n",
       "15           zadat_trvaly_prikaz       9\n",
       "16              zadost_o_strpeni      10\n",
       "17                 zmenit_inkaso       2\n",
       "18          zmenit_trvaly_prikaz       5\n",
       "19                zruseni_platby       3\n",
       "20                 zrusit_inkaso       3\n",
       "21          zrusit_trvaly_prikaz       3\n",
       "22                 zustatek_uctu       6"
      ]
     },
     "execution_count": 37,
     "metadata": {},
     "output_type": "execute_result"
    }
   ],
   "source": [
    "# take a look into training data distribution to decide if balancing is necessary\n",
    "dftrn = pd.DataFrame({'text': trntxt, 'label': [labelmapping[key] for key in trnlbl], 'intlabel': trnlbl})\n",
    "dftrn.groupby('label').size().reset_index(name='counts')"
   ]
  },
  {
   "cell_type": "code",
   "execution_count": 38,
   "id": "7a2d38b6-7750-491c-8ff3-747a90900205",
   "metadata": {},
   "outputs": [],
   "source": [
    "from imblearn.over_sampling import RandomOverSampler\n",
    "import numpy as np"
   ]
  },
  {
   "cell_type": "code",
   "execution_count": 39,
   "id": "91f5c06c-1739-4619-bca7-98cb6dc08ddc",
   "metadata": {},
   "outputs": [],
   "source": [
    "sampler = RandomOverSampler(random_state=42)"
   ]
  },
  {
   "cell_type": "code",
   "execution_count": 40,
   "id": "b49a2f2e-3a07-40ba-9106-7c57f26ecd4e",
   "metadata": {},
   "outputs": [],
   "source": [
    "trntxt = np.asarray(trntxt)\n",
    "trntxt = trntxt[:, np.newaxis]"
   ]
  },
  {
   "cell_type": "code",
   "execution_count": 41,
   "id": "910afa40-ba54-4eca-a7b8-0485ef0e587a",
   "metadata": {},
   "outputs": [],
   "source": [
    "trntxt, trnlbl = sampler.fit_resample(trntxt, trnlbl)\n",
    "trntxt = trntxt.flatten().tolist()"
   ]
  },
  {
   "cell_type": "code",
   "execution_count": 42,
   "id": "89f1a325-6806-45f7-9497-47ca823556cc",
   "metadata": {},
   "outputs": [
    {
     "data": {
      "text/html": [
       "<div>\n",
       "<style scoped>\n",
       "    .dataframe tbody tr th:only-of-type {\n",
       "        vertical-align: middle;\n",
       "    }\n",
       "\n",
       "    .dataframe tbody tr th {\n",
       "        vertical-align: top;\n",
       "    }\n",
       "\n",
       "    .dataframe thead th {\n",
       "        text-align: right;\n",
       "    }\n",
       "</style>\n",
       "<table border=\"1\" class=\"dataframe\">\n",
       "  <thead>\n",
       "    <tr style=\"text-align: right;\">\n",
       "      <th></th>\n",
       "      <th>label</th>\n",
       "      <th>counts</th>\n",
       "    </tr>\n",
       "  </thead>\n",
       "  <tbody>\n",
       "    <tr>\n",
       "      <th>0</th>\n",
       "      <td>bez_predcisli</td>\n",
       "      <td>14</td>\n",
       "    </tr>\n",
       "    <tr>\n",
       "      <th>1</th>\n",
       "      <td>blokace_karty</td>\n",
       "      <td>14</td>\n",
       "    </tr>\n",
       "    <tr>\n",
       "      <th>2</th>\n",
       "      <td>dekuji</td>\n",
       "      <td>14</td>\n",
       "    </tr>\n",
       "    <tr>\n",
       "      <th>3</th>\n",
       "      <td>go_back</td>\n",
       "      <td>14</td>\n",
       "    </tr>\n",
       "    <tr>\n",
       "      <th>4</th>\n",
       "      <td>hotovo</td>\n",
       "      <td>14</td>\n",
       "    </tr>\n",
       "    <tr>\n",
       "      <th>5</th>\n",
       "      <td>jednorazova_platba</td>\n",
       "      <td>14</td>\n",
       "    </tr>\n",
       "    <tr>\n",
       "      <th>6</th>\n",
       "      <td>jiny_email</td>\n",
       "      <td>14</td>\n",
       "    </tr>\n",
       "    <tr>\n",
       "      <th>7</th>\n",
       "      <td>konec</td>\n",
       "      <td>14</td>\n",
       "    </tr>\n",
       "    <tr>\n",
       "      <th>8</th>\n",
       "      <td>odeslani_platby</td>\n",
       "      <td>14</td>\n",
       "    </tr>\n",
       "    <tr>\n",
       "      <th>9</th>\n",
       "      <td>pomoc</td>\n",
       "      <td>14</td>\n",
       "    </tr>\n",
       "    <tr>\n",
       "      <th>10</th>\n",
       "      <td>pozdrav</td>\n",
       "      <td>14</td>\n",
       "    </tr>\n",
       "    <tr>\n",
       "      <th>11</th>\n",
       "      <td>say_again</td>\n",
       "      <td>14</td>\n",
       "    </tr>\n",
       "    <tr>\n",
       "      <th>12</th>\n",
       "      <td>verifikace_platby_vse_spatne</td>\n",
       "      <td>14</td>\n",
       "    </tr>\n",
       "    <tr>\n",
       "      <th>13</th>\n",
       "      <td>zacit_znovu</td>\n",
       "      <td>14</td>\n",
       "    </tr>\n",
       "    <tr>\n",
       "      <th>14</th>\n",
       "      <td>zadat_inkaso</td>\n",
       "      <td>14</td>\n",
       "    </tr>\n",
       "    <tr>\n",
       "      <th>15</th>\n",
       "      <td>zadat_trvaly_prikaz</td>\n",
       "      <td>14</td>\n",
       "    </tr>\n",
       "    <tr>\n",
       "      <th>16</th>\n",
       "      <td>zadost_o_strpeni</td>\n",
       "      <td>14</td>\n",
       "    </tr>\n",
       "    <tr>\n",
       "      <th>17</th>\n",
       "      <td>zmenit_inkaso</td>\n",
       "      <td>14</td>\n",
       "    </tr>\n",
       "    <tr>\n",
       "      <th>18</th>\n",
       "      <td>zmenit_trvaly_prikaz</td>\n",
       "      <td>14</td>\n",
       "    </tr>\n",
       "    <tr>\n",
       "      <th>19</th>\n",
       "      <td>zruseni_platby</td>\n",
       "      <td>14</td>\n",
       "    </tr>\n",
       "    <tr>\n",
       "      <th>20</th>\n",
       "      <td>zrusit_inkaso</td>\n",
       "      <td>14</td>\n",
       "    </tr>\n",
       "    <tr>\n",
       "      <th>21</th>\n",
       "      <td>zrusit_trvaly_prikaz</td>\n",
       "      <td>14</td>\n",
       "    </tr>\n",
       "    <tr>\n",
       "      <th>22</th>\n",
       "      <td>zustatek_uctu</td>\n",
       "      <td>14</td>\n",
       "    </tr>\n",
       "  </tbody>\n",
       "</table>\n",
       "</div>"
      ],
      "text/plain": [
       "                           label  counts\n",
       "0                  bez_predcisli      14\n",
       "1                  blokace_karty      14\n",
       "2                         dekuji      14\n",
       "3                        go_back      14\n",
       "4                         hotovo      14\n",
       "5             jednorazova_platba      14\n",
       "6                     jiny_email      14\n",
       "7                          konec      14\n",
       "8                odeslani_platby      14\n",
       "9                          pomoc      14\n",
       "10                       pozdrav      14\n",
       "11                     say_again      14\n",
       "12  verifikace_platby_vse_spatne      14\n",
       "13                   zacit_znovu      14\n",
       "14                  zadat_inkaso      14\n",
       "15           zadat_trvaly_prikaz      14\n",
       "16              zadost_o_strpeni      14\n",
       "17                 zmenit_inkaso      14\n",
       "18          zmenit_trvaly_prikaz      14\n",
       "19                zruseni_platby      14\n",
       "20                 zrusit_inkaso      14\n",
       "21          zrusit_trvaly_prikaz      14\n",
       "22                 zustatek_uctu      14"
      ]
     },
     "execution_count": 42,
     "metadata": {},
     "output_type": "execute_result"
    }
   ],
   "source": [
    "# chech the result of balancing\n",
    "dftrn = pd.DataFrame({'text': trntxt, 'label': [labelmapping[key] for key in trnlbl], 'intlabel': trnlbl})\n",
    "dftrn.groupby('label').size().reset_index(name='counts')"
   ]
  },
  {
   "cell_type": "markdown",
   "id": "85800695-e2f6-4ca3-9ef9-83f35406b23c",
   "metadata": {},
   "source": [
    "#### 3.2 encode string data with tokenizer"
   ]
  },
  {
   "cell_type": "code",
   "execution_count": 43,
   "id": "d6fb0ba6-d503-43ca-8420-3d6c51c4b31e",
   "metadata": {},
   "outputs": [
    {
     "name": "stderr",
     "output_type": "stream",
     "text": [
      "/home/barinale/miniconda3/envs/ner/lib/python3.7/site-packages/tqdm/auto.py:22: TqdmWarning: IProgress not found. Please update jupyter and ipywidgets. See https://ipywidgets.readthedocs.io/en/stable/user_install.html\n",
      "  from .autonotebook import tqdm as notebook_tqdm\n"
     ]
    }
   ],
   "source": [
    "from transformers import AutoTokenizer"
   ]
  },
  {
   "cell_type": "code",
   "execution_count": 44,
   "id": "48eaceeb-774c-4956-aa69-1ef2c5986d67",
   "metadata": {},
   "outputs": [],
   "source": [
    "# load the same tokenizer a model was trained with\n",
    "tokenizer = AutoTokenizer.from_pretrained(\"Seznam/small-e-czech\")"
   ]
  },
  {
   "cell_type": "code",
   "execution_count": 45,
   "id": "fb496c93-67fa-42a0-8d10-94cbb7eecc0f",
   "metadata": {},
   "outputs": [
    {
     "name": "stderr",
     "output_type": "stream",
     "text": [
      "Asking to truncate to max_length but no maximum length is provided and the model has no predefined maximum length. Default to no truncation.\n"
     ]
    }
   ],
   "source": [
    "trnencodings = tokenizer(trntxt, truncation=True, padding=True)\n",
    "tstencodings = tokenizer(tsttxt, truncation=True, padding=True)"
   ]
  },
  {
   "cell_type": "code",
   "execution_count": 48,
   "id": "3ec01f54-3b14-49f8-a6d1-024456b53c77",
   "metadata": {},
   "outputs": [],
   "source": [
    "trndata = [{'label': label, 'input_ids': inid, 'attention_mask': atmask} for label, inid, atmask in zip(trnlbl, trnencodings['input_ids'], trnencodings['attention_mask'])]\n",
    "tstdata = [{'label': label, 'input_ids': inid, 'attention_mask': atmask} for label, inid, atmask in zip(tstlbl, tstencodings['input_ids'], tstencodings['attention_mask'])]"
   ]
  },
  {
   "cell_type": "markdown",
   "id": "b02ce3fc-994a-4abe-a0b2-bfd9e2ad1516",
   "metadata": {},
   "source": [
    "### 4. load pretrained model"
   ]
  },
  {
   "cell_type": "code",
   "execution_count": 49,
   "id": "af7027aa-917e-4237-849e-48c0cee7e0a6",
   "metadata": {},
   "outputs": [],
   "source": [
    "from transformers import AutoModelForSequenceClassification"
   ]
  },
  {
   "cell_type": "code",
   "execution_count": 50,
   "id": "0281ca1e-bbcb-4897-bb5e-032fd0a98b3f",
   "metadata": {},
   "outputs": [
    {
     "name": "stderr",
     "output_type": "stream",
     "text": [
      "Some weights of the model checkpoint at Seznam/small-e-czech were not used when initializing ElectraForSequenceClassification: ['discriminator_predictions.dense_prediction.weight', 'discriminator_predictions.dense.weight', 'discriminator_predictions.dense.bias', 'discriminator_predictions.dense_prediction.bias']\n",
      "- This IS expected if you are initializing ElectraForSequenceClassification from the checkpoint of a model trained on another task or with another architecture (e.g. initializing a BertForSequenceClassification model from a BertForPreTraining model).\n",
      "- This IS NOT expected if you are initializing ElectraForSequenceClassification from the checkpoint of a model that you expect to be exactly identical (initializing a BertForSequenceClassification model from a BertForSequenceClassification model).\n",
      "Some weights of ElectraForSequenceClassification were not initialized from the model checkpoint at Seznam/small-e-czech and are newly initialized: ['classifier.out_proj.weight', 'classifier.dense.bias', 'classifier.dense.weight', 'classifier.out_proj.bias']\n",
      "You should probably TRAIN this model on a down-stream task to be able to use it for predictions and inference.\n"
     ]
    }
   ],
   "source": [
    "model = AutoModelForSequenceClassification.from_pretrained(\"Seznam/small-e-czech\", num_labels=n_labels)"
   ]
  },
  {
   "cell_type": "markdown",
   "id": "acb0d47a-59f6-4ed0-b316-75779f60d87f",
   "metadata": {},
   "source": [
    "### 5. Fit model on a custom dataset"
   ]
  },
  {
   "cell_type": "code",
   "execution_count": 51,
   "id": "4fecb8f1-ebb7-46c3-a16b-b5d55bf1f18b",
   "metadata": {},
   "outputs": [],
   "source": [
    "from transformers import TrainingArguments, Trainer"
   ]
  },
  {
   "cell_type": "code",
   "execution_count": 65,
   "id": "caada46d-f02d-4c6f-9dc0-5a49fc63de42",
   "metadata": {},
   "outputs": [
    {
     "name": "stderr",
     "output_type": "stream",
     "text": [
      "PyTorch: setting up devices\n",
      "The default value for the training argument `--report_to` will change in v5 (from all installed integrations to none). In v5, you will need to use `--report_to all` to get the same behavior as now. You should start updating your code and make this info disappear :-).\n"
     ]
    }
   ],
   "source": [
    "training_args = TrainingArguments(\n",
    "    output_dir=\"./tunedbert\",\n",
    "    learning_rate=2e-5,\n",
    "    per_device_train_batch_size=16,\n",
    "    per_device_eval_batch_size=16,\n",
    "    logging_steps=100,\n",
    "    num_train_epochs=100,\n",
    "    weight_decay=0.01,\n",
    ")\n",
    "trainer = Trainer(\n",
    "    model=model,\n",
    "    args=training_args,\n",
    "    train_dataset=trndata,\n",
    "    eval_dataset=tstdata,\n",
    "    tokenizer=tokenizer,\n",
    ")"
   ]
  },
  {
   "cell_type": "code",
   "execution_count": 66,
   "id": "98ff9158-7cd9-48e7-b76b-67d2abfeb1ef",
   "metadata": {},
   "outputs": [
    {
     "name": "stderr",
     "output_type": "stream",
     "text": [
      "***** Running training *****\n",
      "  Num examples = 322\n",
      "  Num Epochs = 100\n",
      "  Instantaneous batch size per device = 16\n",
      "  Total train batch size (w. parallel, distributed & accumulation) = 16\n",
      "  Gradient Accumulation steps = 1\n",
      "  Total optimization steps = 2100\n"
     ]
    },
    {
     "data": {
      "text/html": [
       "\n",
       "    <div>\n",
       "      \n",
       "      <progress value='2100' max='2100' style='width:300px; height:20px; vertical-align: middle;'></progress>\n",
       "      [2100/2100 14:51, Epoch 100/100]\n",
       "    </div>\n",
       "    <table border=\"1\" class=\"dataframe\">\n",
       "  <thead>\n",
       "    <tr style=\"text-align: left;\">\n",
       "      <th>Step</th>\n",
       "      <th>Training Loss</th>\n",
       "    </tr>\n",
       "  </thead>\n",
       "  <tbody>\n",
       "    <tr>\n",
       "      <td>100</td>\n",
       "      <td>2.367900</td>\n",
       "    </tr>\n",
       "    <tr>\n",
       "      <td>200</td>\n",
       "      <td>2.211200</td>\n",
       "    </tr>\n",
       "    <tr>\n",
       "      <td>300</td>\n",
       "      <td>2.075000</td>\n",
       "    </tr>\n",
       "    <tr>\n",
       "      <td>400</td>\n",
       "      <td>1.946200</td>\n",
       "    </tr>\n",
       "    <tr>\n",
       "      <td>500</td>\n",
       "      <td>1.829500</td>\n",
       "    </tr>\n",
       "    <tr>\n",
       "      <td>600</td>\n",
       "      <td>1.721700</td>\n",
       "    </tr>\n",
       "    <tr>\n",
       "      <td>700</td>\n",
       "      <td>1.617700</td>\n",
       "    </tr>\n",
       "    <tr>\n",
       "      <td>800</td>\n",
       "      <td>1.522900</td>\n",
       "    </tr>\n",
       "    <tr>\n",
       "      <td>900</td>\n",
       "      <td>1.447000</td>\n",
       "    </tr>\n",
       "    <tr>\n",
       "      <td>1000</td>\n",
       "      <td>1.353600</td>\n",
       "    </tr>\n",
       "    <tr>\n",
       "      <td>1100</td>\n",
       "      <td>1.285300</td>\n",
       "    </tr>\n",
       "    <tr>\n",
       "      <td>1200</td>\n",
       "      <td>1.219800</td>\n",
       "    </tr>\n",
       "    <tr>\n",
       "      <td>1300</td>\n",
       "      <td>1.167600</td>\n",
       "    </tr>\n",
       "    <tr>\n",
       "      <td>1400</td>\n",
       "      <td>1.109000</td>\n",
       "    </tr>\n",
       "    <tr>\n",
       "      <td>1500</td>\n",
       "      <td>1.060700</td>\n",
       "    </tr>\n",
       "    <tr>\n",
       "      <td>1600</td>\n",
       "      <td>1.030500</td>\n",
       "    </tr>\n",
       "    <tr>\n",
       "      <td>1700</td>\n",
       "      <td>1.004100</td>\n",
       "    </tr>\n",
       "    <tr>\n",
       "      <td>1800</td>\n",
       "      <td>0.985000</td>\n",
       "    </tr>\n",
       "    <tr>\n",
       "      <td>1900</td>\n",
       "      <td>0.965400</td>\n",
       "    </tr>\n",
       "    <tr>\n",
       "      <td>2000</td>\n",
       "      <td>0.951700</td>\n",
       "    </tr>\n",
       "    <tr>\n",
       "      <td>2100</td>\n",
       "      <td>0.940400</td>\n",
       "    </tr>\n",
       "  </tbody>\n",
       "</table><p>"
      ],
      "text/plain": [
       "<IPython.core.display.HTML object>"
      ]
     },
     "metadata": {},
     "output_type": "display_data"
    },
    {
     "name": "stderr",
     "output_type": "stream",
     "text": [
      "Saving model checkpoint to ./tunedbert/checkpoint-500\n",
      "Configuration saved in ./tunedbert/checkpoint-500/config.json\n",
      "Model weights saved in ./tunedbert/checkpoint-500/pytorch_model.bin\n",
      "tokenizer config file saved in ./tunedbert/checkpoint-500/tokenizer_config.json\n",
      "Special tokens file saved in ./tunedbert/checkpoint-500/special_tokens_map.json\n",
      "Saving model checkpoint to ./tunedbert/checkpoint-1000\n",
      "Configuration saved in ./tunedbert/checkpoint-1000/config.json\n",
      "Model weights saved in ./tunedbert/checkpoint-1000/pytorch_model.bin\n",
      "tokenizer config file saved in ./tunedbert/checkpoint-1000/tokenizer_config.json\n",
      "Special tokens file saved in ./tunedbert/checkpoint-1000/special_tokens_map.json\n",
      "Saving model checkpoint to ./tunedbert/checkpoint-1500\n",
      "Configuration saved in ./tunedbert/checkpoint-1500/config.json\n",
      "Model weights saved in ./tunedbert/checkpoint-1500/pytorch_model.bin\n",
      "tokenizer config file saved in ./tunedbert/checkpoint-1500/tokenizer_config.json\n",
      "Special tokens file saved in ./tunedbert/checkpoint-1500/special_tokens_map.json\n",
      "Saving model checkpoint to ./tunedbert/checkpoint-2000\n",
      "Configuration saved in ./tunedbert/checkpoint-2000/config.json\n",
      "Model weights saved in ./tunedbert/checkpoint-2000/pytorch_model.bin\n",
      "tokenizer config file saved in ./tunedbert/checkpoint-2000/tokenizer_config.json\n",
      "Special tokens file saved in ./tunedbert/checkpoint-2000/special_tokens_map.json\n",
      "\n",
      "\n",
      "Training completed. Do not forget to share your model on huggingface.co/models =)\n",
      "\n",
      "\n"
     ]
    },
    {
     "data": {
      "text/plain": [
       "TrainOutput(global_step=2100, training_loss=1.4196265048072452, metrics={'train_runtime': 891.5059, 'train_samples_per_second': 36.119, 'train_steps_per_second': 2.356, 'total_flos': 44438636793600.0, 'train_loss': 1.4196265048072452, 'epoch': 100.0})"
      ]
     },
     "execution_count": 66,
     "metadata": {},
     "output_type": "execute_result"
    }
   ],
   "source": [
    "trainer.train()"
   ]
  },
  {
   "cell_type": "markdown",
   "id": "e95a904b-61d2-4b5b-9c59-5d1f48801adf",
   "metadata": {},
   "source": [
    "### 6. Test trained model"
   ]
  },
  {
   "cell_type": "code",
   "execution_count": 74,
   "id": "5efcf853-7062-4606-978c-5a0c1a6992d7",
   "metadata": {},
   "outputs": [
    {
     "name": "stderr",
     "output_type": "stream",
     "text": [
      "***** Running Prediction *****\n",
      "  Num examples = 33\n",
      "  Batch size = 16\n"
     ]
    }
   ],
   "source": [
    "rawpredictions = trainer.predict(tstdata)\n",
    "pred_intlabels = np.argmax(rawpredictions.predictions, axis=1)\n",
    "pred_labels = [labelmapping[lbl] for lbl in pred_intlabels]\n",
    "gt_intlabels = np.array([entry['label'] for entry in tstdata])\n",
    "gt_labels = [labelmapping[lbl] for lbl in gt_intlabels]"
   ]
  },
  {
   "cell_type": "code",
   "execution_count": 75,
   "id": "d56c9721-6373-4968-a3dc-901b1e52600d",
   "metadata": {},
   "outputs": [
    {
     "name": "stdout",
     "output_type": "stream",
     "text": [
      "ACCURACY 0.7575757575757576  25 correct out of 33\n"
     ]
    }
   ],
   "source": [
    "correct = np.sum(pred_intlabels == gt_intlabels)\n",
    "accuracy = correct / gt_intlabels.shape[0]\n",
    "print(\"ACCURACY\", accuracy, f\" {correct} correct out of {gt_intlabels.shape[0]}\")"
   ]
  },
  {
   "cell_type": "code",
   "execution_count": 76,
   "id": "379a2553-55ce-4257-8a7e-f7abf71a296c",
   "metadata": {},
   "outputs": [
    {
     "name": "stdout",
     "output_type": "stream",
     "text": [
      "[{'text': 'Chtěl bych si přeposlat peníze ze svého druhého účtu.', 'prediction': 'jednorazova_platba', 'ground truth': 'jednorazova_platba'}, {'text': 'platba na účet', 'prediction': 'jednorazova_platba', 'ground truth': 'jednorazova_platba'}, {'text': 'co mohu dělat', 'prediction': 'pomoc', 'ground truth': 'pomoc'}, {'text': 'Kolik na účtu zbývá', 'prediction': 'zustatek_uctu', 'ground truth': 'zustatek_uctu'}, {'text': 'už nic nepotřebuju', 'prediction': 'konec', 'ground truth': 'konec'}, {'text': 'vše', 'prediction': 'pomoc', 'ground truth': 'hotovo'}, {'text': 'Chtěl bych měsíčně posílat peníze na charitu.', 'prediction': 'zadat_trvaly_prikaz', 'ground truth': 'zadat_trvaly_prikaz'}, {'text': 'řekni to znova', 'prediction': 'say_again', 'ground truth': 'say_again'}, {'text': 'Jen si dojdu pro číslo účtu.', 'prediction': 'zrusit_trvaly_prikaz', 'ground truth': 'zadost_o_strpeni'}, {'text': 'Chci zrušit souhlas s inkasem, ale nemůžu to to tam nikde najít.', 'prediction': 'zrusit_inkaso', 'ground truth': 'zrusit_inkaso'}, {'text': 'Chtěl bych zrušit trvalé platby, je to možné?', 'prediction': 'blokace_karty', 'ground truth': 'zrusit_trvaly_prikaz'}, {'text': 'změnit inkaso', 'prediction': 'zadat_inkaso', 'ground truth': 'zmenit_inkaso'}, {'text': 'normální platba', 'prediction': 'zrusit_trvaly_prikaz', 'ground truth': 'jednorazova_platba'}, {'text': 'nerozuměl jsem', 'prediction': 'zadost_o_strpeni', 'ground truth': 'pomoc'}, {'text': 'zpátky', 'prediction': 'go_back', 'ground truth': 'go_back'}, {'text': 'co jiného mohu dělat', 'prediction': 'pomoc', 'ground truth': 'pomoc'}, {'text': 'Minutku', 'prediction': 'hotovo', 'ground truth': 'zadost_o_strpeni'}, {'text': 'vše je špatně', 'prediction': 'verifikace_platby_vse_spatne', 'ground truth': 'verifikace_platby_vse_spatne'}, {'text': 'zaplatit', 'prediction': 'jednorazova_platba', 'ground truth': 'odeslani_platby'}, {'text': 'Chtěl bych zadat inkaso.', 'prediction': 'zadat_inkaso', 'ground truth': 'zadat_inkaso'}, {'text': 'Chci platbu zrušit', 'prediction': 'zruseni_platby', 'ground truth': 'zruseni_platby'}, {'text': 'co mohu říct', 'prediction': 'pomoc', 'ground truth': 'pomoc'}, {'text': 'jiný email', 'prediction': 'jiny_email', 'ground truth': 'jiny_email'}, {'text': 'Chci zadat jednorázovou platbu.', 'prediction': 'jednorazova_platba', 'ground truth': 'jednorazova_platba'}, {'text': 'Dejte mi chvilku.', 'prediction': 'zadost_o_strpeni', 'ground truth': 'zadost_o_strpeni'}, {'text': 'kde jsem', 'prediction': 'pomoc', 'ground truth': 'pomoc'}, {'text': 'jinou adresu', 'prediction': 'jiny_email', 'ground truth': 'jiny_email'}, {'text': 'Chtěl bych si přeposlat peníze na svůj druhý účet.', 'prediction': 'jednorazova_platba', 'ground truth': 'jednorazova_platba'}, {'text': 'Znova', 'prediction': 'zacit_znovu', 'ground truth': 'zacit_znovu'}, {'text': 'Začít znova', 'prediction': 'zacit_znovu', 'ground truth': 'zacit_znovu'}, {'text': 'Chtěl bych si nastavit měsíční zálohy na elektřinu.', 'prediction': 'zadat_trvaly_prikaz', 'ground truth': 'zadat_trvaly_prikaz'}, {'text': 'nerozuměl jsem, ještě jednou', 'prediction': 'say_again', 'ground truth': 'say_again'}, {'text': 'kde jsme', 'prediction': 'pomoc', 'ground truth': 'pomoc'}]\n"
     ]
    }
   ],
   "source": [
    "result = [{'text': txt, 'prediction': pred, 'ground truth': gt} for txt, pred, gt in zip(tsttxt, pred_labels, gt_labels)]\n",
    "print(result)"
   ]
  },
  {
   "cell_type": "code",
   "execution_count": null,
   "id": "d2610e77-ddb0-4690-b301-1fe4113f169c",
   "metadata": {},
   "outputs": [],
   "source": []
  }
 ],
 "metadata": {
  "kernelspec": {
   "display_name": "Python 3 (ipykernel)",
   "language": "python",
   "name": "python3"
  },
  "language_info": {
   "codemirror_mode": {
    "name": "ipython",
    "version": 3
   },
   "file_extension": ".py",
   "mimetype": "text/x-python",
   "name": "python",
   "nbconvert_exporter": "python",
   "pygments_lexer": "ipython3",
   "version": "3.7.11"
  }
 },
 "nbformat": 4,
 "nbformat_minor": 5
}
