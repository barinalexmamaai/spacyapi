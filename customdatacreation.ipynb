{
 "cells": [
  {
   "cell_type": "markdown",
   "id": "95e66b01-3893-4379-b315-ede82efeb6d8",
   "metadata": {},
   "source": [
    "## Create custom dataset"
   ]
  },
  {
   "cell_type": "code",
   "execution_count": 1,
   "id": "78f665b5-5346-4a77-9ec5-dc4813f2d720",
   "metadata": {},
   "outputs": [],
   "source": [
    "import pandas as pd\n",
    "import numpy as np"
   ]
  },
  {
   "cell_type": "code",
   "execution_count": 2,
   "id": "40765282-b51b-4f7a-8346-ef12b80247ce",
   "metadata": {},
   "outputs": [],
   "source": [
    "data = {\"HELP\": [\"pomoc\", \"potřebuju pomoc\", \"pomoz mi\", \"zobraz nápovědu\", \"nápověda\", \"nevím co dál\", \n",
    "                 \"co mám dělat dál\", \"poraď mi\", \"nemohu si pomoci\", \"podej mi pomocnou ruku prosím\", \"mohl bys mi pomoci\",\n",
    "                 \"potřebuju někoho, kdo mi pomůže\", \"volam o pomoc\", \"pomoz chudákovi\", \"nedá se nic dělat\", \"navrhneš něco\",\n",
    "                 \"nějaký náznak prosím\", \"doporučení\", \"žádam o radu\"],\n",
    "        \"CONFIRMATION_YES\": [\"ano\", \"jo\", \"ok\", \"no\", \"jasně\", \"určitě\", \"jistě\", \"okay\", \"to jo, určitě\", \"no, jasně\", \n",
    "                             \"samozřejmě\", \"nepochybně\", \"najisto\", \"to bych prosil\", \"ano prosím\",\n",
    "                             \"na to dám krk\", \"s radostí\", \"s potěšením\", \"rozhodně\", \"zcela určitě\", \n",
    "                             \"souhlas\", \"dobře\", \"kladná odpověď\", \"naprosto souhlasím\", \"zajisté\", \"ovšem\", \"potvrzuju\", \"stvrzuju\"],\n",
    "        \"CONFIRMATION_NO\": [\"ne\", \"ani náhodou\", \"zrušit\", \"ovšemže ne\", \"samozřejmě, že ne\", \"v žádném případě\", \n",
    "                            \"nesouhlasím\", \"mám jiný názor\", \"spíš ne\", \"radějí ne\", \"zruš to prosím\", \"naprosto ne\", \n",
    "                            \"samozřejmě ne\", \"určitě ne\", \"tak to nepujde\", \"ne prosím\", \"tak to ne\", \"Raději bych to nedělal\",\n",
    "                            \"spíš něco jiného\", \"odvolej to\", \"odvolat\", \"chtěl bych to zrušit\", \"rozhodně ne\", \n",
    "                            \"ovšem ne\", \"záporná odpověď\", \"není potřeba\", \"není třeba\"],\n",
    "        \"NEXT\": [\"další krok\", \"chci dělat něco nového\", \"jdeme dál\", \"následující\", \"další\", \"dál\", \"pokračuj\", \"příští\", \"následný\"],\n",
    "        \"RESTART\": [\"restart levelu\", \"restart\", \"odznova\", \"celé znovu\", \"tak znovu\", \"nastartuj znovu\", \"nastartuj ještě jednou\", \"spusẗ to znovu\"],\n",
    "        \"IRRELEVANT\": [\"určitou část dne\", \"ale každý obývá\", \"ještě devět mužských a dva ženské\", \"zvuky či videa\", \n",
    "                       \"je městský park ve východní části\", \"Není potřeba, abys mi pomáhal\"]}"
   ]
  },
  {
   "cell_type": "code",
   "execution_count": 11,
   "id": "e27dbeb1-cc4e-42f2-b2e4-975793573527",
   "metadata": {},
   "outputs": [],
   "source": [
    "data = {\"HELP\": [\"help!\", \"can you help me, please?\", \"I need some assistance\", \"could you give me a hand?\", \n",
    "                 \"I need your support\", \"Would you mind helping me, please?\", \"Could you give me a digout?\", \"I need a helping hand\", \n",
    "                 \"Could someone help me, please?\", \"some hints would be appreciated\", \"give me some hints\", \"any tips?\", \"what can I do?\", \n",
    "                 \"show me some hints\", \"show me help menu\"],\n",
    "        \"CONFIRMATION_YES\": [\"no problem\", \"sure\", \"sure thing\", \"I’m on it\", \"I’d be delighted\", \"I’d love to\", \"all right\",\n",
    "                             \"fine\", \"gladly\", \"by all means\", \"of course\", \"certainly\", \"definitely\", \"absolutely\", \n",
    "                             \"yep\", \"yeah\", \"ok\", \"okay\", \"agree\", \"indeed\", \"true\", \"uh huh\", \"totally\", \"exactly\", \n",
    "                             \"for sure!\", \"why not?\", \"that’s right\", \"correct\", \"go ahead\"],\n",
    "        \"CONFIRMATION_NO\": [\"I'm flattered by your offer, but no thank you\", \"That sounds fun, but I have a lot going on\", \"no, I won't be able to fit that into my schedule\",\n",
    "                            \"thanks, but I'm all good\", \"I cannot accept your offer\", \"I do not wish to accept your offer\", \"no, sorry\", \"I have to decline this time\",\n",
    "                            \"that's just not possible\", \"it won't work out this time\", \"that's not the right choice\", \"I would rather not do it\", \n",
    "                            \"I told myself I wouldn't do that again\", \"my answer is no\", \"no\", \"surely not\", \"absolutely not\", \"definitely not\", \n",
    "                            \"I've actually changed my mind\", \"decline\", \"agreeing to this would go against what I believe in\", \"I can't\", \"I'm afraid I can't\", \n",
    "                            \"pass\", \"false\", \"that's not what I've chosen\", \"cancel\", \"I didn't want that\", \"I did not choose this\", \"This was not my choice\", \"go back\", \"forget it\"],\n",
    "        \"NEXT\": [\"next\", \"go next\", \"to the next\", \"ok, next\", \"next\", \"another\", \"one more\", \"further\", \"subsequent\", \"follow-up\", \"carry forward\", \"the one after\", \"other\"],\n",
    "        \"RESTART\": [\"restart\", \"reset\", \"restart please\", \"reset please\", \"restart, now!\", \"start up again\", \"make it start again\"],\n",
    "        \"IRRELEVANT\": [ \"She had the gift\", \"able to paint songs\", \"I used to practice weaving with spaghetti\", \"three hours a day\", \"stopped because I didn't want to die alone\",\n",
    "                        \"The ice-cream trucks\", \"bring back bad memories for all of us\", \"The sun had set\", \"and so had his dreams\",\n",
    "                        \"The external scars tell only part of the story\", \"The reservoir water level\", \"continued to lower\", \"while we enjoyed our long shower\",\n",
    "                        \"His mind was blown\", \"there was nothing in space\", \"except space itself\",\n",
    "                        \"There aren't enough towels\", \"in the world\", \"stop the sewage flowing\", \"from his mouth\",\n",
    "                        \"Purple is the best city\", \"in the forest\",\n",
    "                        \"I was fishing for compliments\", \"and accidentally caught a trout\"]}"
   ]
  },
  {
   "cell_type": "code",
   "execution_count": 12,
   "id": "f4480d0b-194e-45bc-bae7-aeed36c7ae5d",
   "metadata": {},
   "outputs": [],
   "source": [
    "# convert to texts and labels\n",
    "columns = {\"text\": [], \"label\": []}\n",
    "for key, value in data.items():\n",
    "    columns[\"text\"] += value\n",
    "    labels = np.repeat(key, len(value)).tolist()\n",
    "    columns[\"label\"] += labels"
   ]
  },
  {
   "cell_type": "code",
   "execution_count": 13,
   "id": "36417adf-50b5-43ac-954e-f58b384756d1",
   "metadata": {},
   "outputs": [],
   "source": [
    "df = pd.DataFrame(columns)"
   ]
  },
  {
   "cell_type": "code",
   "execution_count": 14,
   "id": "d0a1b8a5-67f2-4e87-b6c6-d31914d74bfb",
   "metadata": {},
   "outputs": [
    {
     "data": {
      "text/html": [
       "<div>\n",
       "<style scoped>\n",
       "    .dataframe tbody tr th:only-of-type {\n",
       "        vertical-align: middle;\n",
       "    }\n",
       "\n",
       "    .dataframe tbody tr th {\n",
       "        vertical-align: top;\n",
       "    }\n",
       "\n",
       "    .dataframe thead th {\n",
       "        text-align: right;\n",
       "    }\n",
       "</style>\n",
       "<table border=\"1\" class=\"dataframe\">\n",
       "  <thead>\n",
       "    <tr style=\"text-align: right;\">\n",
       "      <th></th>\n",
       "      <th>text</th>\n",
       "      <th>label</th>\n",
       "    </tr>\n",
       "  </thead>\n",
       "  <tbody>\n",
       "    <tr>\n",
       "      <th>0</th>\n",
       "      <td>help!</td>\n",
       "      <td>HELP</td>\n",
       "    </tr>\n",
       "    <tr>\n",
       "      <th>1</th>\n",
       "      <td>can you help me, please?</td>\n",
       "      <td>HELP</td>\n",
       "    </tr>\n",
       "    <tr>\n",
       "      <th>2</th>\n",
       "      <td>I need some assistance</td>\n",
       "      <td>HELP</td>\n",
       "    </tr>\n",
       "    <tr>\n",
       "      <th>3</th>\n",
       "      <td>could you give me a hand?</td>\n",
       "      <td>HELP</td>\n",
       "    </tr>\n",
       "    <tr>\n",
       "      <th>4</th>\n",
       "      <td>I need your support</td>\n",
       "      <td>HELP</td>\n",
       "    </tr>\n",
       "  </tbody>\n",
       "</table>\n",
       "</div>"
      ],
      "text/plain": [
       "                        text label\n",
       "0                      help!  HELP\n",
       "1   can you help me, please?  HELP\n",
       "2     I need some assistance  HELP\n",
       "3  could you give me a hand?  HELP\n",
       "4        I need your support  HELP"
      ]
     },
     "execution_count": 14,
     "metadata": {},
     "output_type": "execute_result"
    }
   ],
   "source": [
    "df.head()"
   ]
  },
  {
   "cell_type": "code",
   "execution_count": 15,
   "id": "cd113b6b-a66c-4d0e-87ec-699336fe559e",
   "metadata": {},
   "outputs": [],
   "source": [
    "path = \"data/notsodummyengdata.csv\""
   ]
  },
  {
   "cell_type": "code",
   "execution_count": 16,
   "id": "3a7a815e-8e65-4734-b0c7-c3b34fe3ff36",
   "metadata": {},
   "outputs": [],
   "source": [
    "df.to_csv(path, index=False)"
   ]
  },
  {
   "cell_type": "markdown",
   "id": "40c82afa-8057-4944-9c4d-1cb2f72b6ed6",
   "metadata": {},
   "source": [
    "### Verify created dataset"
   ]
  },
  {
   "cell_type": "code",
   "execution_count": 17,
   "id": "02865faf-014d-41b5-8841-63729890d3f3",
   "metadata": {},
   "outputs": [],
   "source": [
    "loaded = pd.read_csv(path)"
   ]
  },
  {
   "cell_type": "code",
   "execution_count": 18,
   "id": "dd200448-0e63-4f91-97e8-f62543663648",
   "metadata": {},
   "outputs": [
    {
     "data": {
      "text/html": [
       "<div>\n",
       "<style scoped>\n",
       "    .dataframe tbody tr th:only-of-type {\n",
       "        vertical-align: middle;\n",
       "    }\n",
       "\n",
       "    .dataframe tbody tr th {\n",
       "        vertical-align: top;\n",
       "    }\n",
       "\n",
       "    .dataframe thead th {\n",
       "        text-align: right;\n",
       "    }\n",
       "</style>\n",
       "<table border=\"1\" class=\"dataframe\">\n",
       "  <thead>\n",
       "    <tr style=\"text-align: right;\">\n",
       "      <th></th>\n",
       "      <th>text</th>\n",
       "      <th>label</th>\n",
       "    </tr>\n",
       "  </thead>\n",
       "  <tbody>\n",
       "    <tr>\n",
       "      <th>0</th>\n",
       "      <td>help!</td>\n",
       "      <td>HELP</td>\n",
       "    </tr>\n",
       "    <tr>\n",
       "      <th>1</th>\n",
       "      <td>can you help me, please?</td>\n",
       "      <td>HELP</td>\n",
       "    </tr>\n",
       "    <tr>\n",
       "      <th>2</th>\n",
       "      <td>I need some assistance</td>\n",
       "      <td>HELP</td>\n",
       "    </tr>\n",
       "    <tr>\n",
       "      <th>3</th>\n",
       "      <td>could you give me a hand?</td>\n",
       "      <td>HELP</td>\n",
       "    </tr>\n",
       "    <tr>\n",
       "      <th>4</th>\n",
       "      <td>I need your support</td>\n",
       "      <td>HELP</td>\n",
       "    </tr>\n",
       "  </tbody>\n",
       "</table>\n",
       "</div>"
      ],
      "text/plain": [
       "                        text label\n",
       "0                      help!  HELP\n",
       "1   can you help me, please?  HELP\n",
       "2     I need some assistance  HELP\n",
       "3  could you give me a hand?  HELP\n",
       "4        I need your support  HELP"
      ]
     },
     "execution_count": 18,
     "metadata": {},
     "output_type": "execute_result"
    }
   ],
   "source": [
    "loaded.head()"
   ]
  }
 ],
 "metadata": {
  "kernelspec": {
   "display_name": "Python 3 (ipykernel)",
   "language": "python",
   "name": "python3"
  },
  "language_info": {
   "codemirror_mode": {
    "name": "ipython",
    "version": 3
   },
   "file_extension": ".py",
   "mimetype": "text/x-python",
   "name": "python",
   "nbconvert_exporter": "python",
   "pygments_lexer": "ipython3",
   "version": "3.7.11"
  }
 },
 "nbformat": 4,
 "nbformat_minor": 5
}
